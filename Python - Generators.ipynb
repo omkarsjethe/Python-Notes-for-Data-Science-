{
 "cells": [
  {
   "cell_type": "markdown",
   "id": "d6fa63e3",
   "metadata": {},
   "source": [
    "# Python Generators\n",
    "In Python, a generator is a function that returns an iterator that produces a sequence of values when iterated over.\n",
    "\n",
    "Generators are useful when we want to produce a large sequence of values, but we don't want to store all of them in memory at once."
   ]
  },
  {
   "cell_type": "code",
   "execution_count": 1,
   "id": "297d690f",
   "metadata": {},
   "outputs": [
    {
     "name": "stdout",
     "output_type": "stream",
     "text": [
      "0\n",
      "1\n",
      "2\n"
     ]
    }
   ],
   "source": [
    "def my_generator(n):\n",
    "\n",
    "    # initialize counter\n",
    "    value = 0\n",
    "\n",
    "    # loop until counter is less than n\n",
    "    while value < n:\n",
    "\n",
    "        # produce the current value of the counter\n",
    "        yield value\n",
    "\n",
    "        # increment the counter\n",
    "        value += 1\n",
    "\n",
    "# iterate over the generator object produced by my_generator\n",
    "for value in my_generator(3):\n",
    "\n",
    "    # print each value produced by generator\n",
    "    print(value)"
   ]
  },
  {
   "cell_type": "code",
   "execution_count": 2,
   "id": "045a2b1a",
   "metadata": {},
   "outputs": [
    {
     "name": "stdout",
     "output_type": "stream",
     "text": [
      "0\n",
      "1\n",
      "2\n",
      "3\n",
      "4\n"
     ]
    }
   ],
   "source": [
    "def gen(n):\n",
    "    value=0\n",
    "    while value <n :\n",
    "        yield value\n",
    "        value +=1\n",
    "for i in gen(5):        \n",
    "    print(i)"
   ]
  },
  {
   "cell_type": "code",
   "execution_count": 3,
   "id": "7e0f7701",
   "metadata": {},
   "outputs": [
    {
     "name": "stdout",
     "output_type": "stream",
     "text": [
      "1\n",
      "2\n",
      "3\n",
      "4\n",
      "5\n",
      "6\n",
      "7\n",
      "8\n",
      "9\n"
     ]
    }
   ],
   "source": [
    "def genq(n):\n",
    "    value=1\n",
    "    while value < n :\n",
    "        yield value\n",
    "        value +=1\n",
    "for i in genq(10):\n",
    "    print(i)"
   ]
  },
  {
   "cell_type": "code",
   "execution_count": 4,
   "id": "6be363a9",
   "metadata": {},
   "outputs": [
    {
     "name": "stdout",
     "output_type": "stream",
     "text": [
      "0\n",
      "1\n",
      "4\n",
      "9\n",
      "16\n"
     ]
    }
   ],
   "source": [
    "# create the generator object\n",
    "squares_generator = (i * i for i in range(5))\n",
    "\n",
    "# iterate over the generator and print the values\n",
    "for i in squares_generator:\n",
    "    print(i)"
   ]
  },
  {
   "cell_type": "code",
   "execution_count": 5,
   "id": "43fc5099",
   "metadata": {},
   "outputs": [
    {
     "name": "stdout",
     "output_type": "stream",
     "text": [
      "0\n",
      "1\n",
      "8\n",
      "27\n",
      "64\n"
     ]
    }
   ],
   "source": [
    "cube_gen=(i*i*i for i in range(5))\n",
    "\n",
    "for i in cube_gen:\n",
    "    print(i)"
   ]
  },
  {
   "cell_type": "code",
   "execution_count": 6,
   "id": "5cf39ecf",
   "metadata": {},
   "outputs": [],
   "source": [
    "class PowTwo:\n",
    "    def __init__(self, max=0):\n",
    "        self.n = 0\n",
    "        self.max = max\n",
    "\n",
    "    def __iter__(self):\n",
    "        return self\n",
    "\n",
    "    def __next__(self):\n",
    "        if self.n > self.max:\n",
    "            raise StopIteration\n",
    "\n",
    "        result = 2 ** self.n\n",
    "        self.n += 1\n",
    "        return result"
   ]
  },
  {
   "cell_type": "code",
   "execution_count": 7,
   "id": "b567a065",
   "metadata": {},
   "outputs": [],
   "source": [
    "def PowTwoGen(max=0):\n",
    "    n = 0\n",
    "    while n < max:\n",
    "        yield 2 ** n\n",
    "        n += 1"
   ]
  },
  {
   "cell_type": "code",
   "execution_count": 8,
   "id": "591f0ff3",
   "metadata": {},
   "outputs": [
    {
     "name": "stdout",
     "output_type": "stream",
     "text": [
      "4895\n"
     ]
    }
   ],
   "source": [
    "def fibonacci_numbers(nums):\n",
    "    x, y = 0, 1\n",
    "    for _ in range(nums):\n",
    "        x, y = y, x+y\n",
    "        yield x\n",
    "\n",
    "def square(nums):\n",
    "    for num in nums:\n",
    "        yield num**2\n",
    "\n",
    "print(sum(square(fibonacci_numbers(10))))"
   ]
  },
  {
   "cell_type": "code",
   "execution_count": null,
   "id": "18f3b33e",
   "metadata": {},
   "outputs": [],
   "source": []
  }
 ],
 "metadata": {
  "kernelspec": {
   "display_name": "Python 3 (ipykernel)",
   "language": "python",
   "name": "python3"
  },
  "language_info": {
   "codemirror_mode": {
    "name": "ipython",
    "version": 3
   },
   "file_extension": ".py",
   "mimetype": "text/x-python",
   "name": "python",
   "nbconvert_exporter": "python",
   "pygments_lexer": "ipython3",
   "version": "3.11.5"
  }
 },
 "nbformat": 4,
 "nbformat_minor": 5
}
