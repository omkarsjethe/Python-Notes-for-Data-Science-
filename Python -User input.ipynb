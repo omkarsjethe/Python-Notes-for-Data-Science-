{
 "cells": [
  {
   "cell_type": "markdown",
   "id": "2088384f",
   "metadata": {},
   "source": [
    "# User Input\n",
    "Python allows for user input.\n",
    "\n",
    "That means we are able to ask the user for input.\n",
    "\n",
    "The method is a bit different in Python 3.6 than Python 2.7.\n",
    "\n",
    "Python 3.6 uses the input() method.\n",
    "\n",
    "Python 2.7 uses the raw_input() method."
   ]
  },
  {
   "cell_type": "code",
   "execution_count": 1,
   "id": "51046a56",
   "metadata": {},
   "outputs": [
    {
     "name": "stdout",
     "output_type": "stream",
     "text": [
      "enter the nameOmkar\n",
      "Your name is Omkar \n"
     ]
    }
   ],
   "source": [
    "name=input(\"enter the name\")\n",
    "print(f\"Your name is {name} \")"
   ]
  },
  {
   "cell_type": "code",
   "execution_count": 2,
   "id": "1c019e62",
   "metadata": {},
   "outputs": [
    {
     "name": "stdout",
     "output_type": "stream",
     "text": [
      "Enter your age24\n",
      "Your name is Omkar and age is 24\n"
     ]
    }
   ],
   "source": [
    "age=int(input(\"Enter your age\"))\n",
    "print(f\"Your name is {name} and age is {age}\")"
   ]
  },
  {
   "cell_type": "code",
   "execution_count": 5,
   "id": "1322c968",
   "metadata": {},
   "outputs": [
    {
     "name": "stdout",
     "output_type": "stream",
     "text": [
      "Enter the number 25\n",
      "25 is odd number\n"
     ]
    }
   ],
   "source": [
    "num=int(input(\"Enter the number \"))\n",
    "\n",
    "if num %2 ==0:\n",
    "    print(f\"{num} is even number\")\n",
    "else :\n",
    "    print(f\"{num} is odd number\")"
   ]
  },
  {
   "cell_type": "code",
   "execution_count": 8,
   "id": "b2bbd86f",
   "metadata": {},
   "outputs": [
    {
     "name": "stdout",
     "output_type": "stream",
     "text": [
      "Enter the number1 24\n",
      "Enter the number2 12\n",
      "Addition of 24 and 12 is 36\n",
      "Subraction of 24 and 12 is 12\n",
      "Multiplication of 24 and 12 is 288\n",
      "Divison of 24 and 12 is 2.0\n",
      "Modulo of 24 and 12 is 0\n"
     ]
    }
   ],
   "source": [
    "a=int(input(\"Enter the number1 \"))\n",
    "b=int(input(\"Enter the number2 \"))\n",
    "\n",
    "print(f\"Addition of {a} and {b} is {a+b}\")\n",
    "print(f\"Subraction of {a} and {b} is {a-b}\")\n",
    "print(f\"Multiplication of {a} and {b} is {a*b}\")\n",
    "print(f\"Divison of {a} and {b} is {a/b}\")\n",
    "print(f\"Modulo of {a} and {b} is {a%b}\")"
   ]
  },
  {
   "cell_type": "code",
   "execution_count": null,
   "id": "8253225f",
   "metadata": {},
   "outputs": [],
   "source": []
  }
 ],
 "metadata": {
  "kernelspec": {
   "display_name": "Python 3 (ipykernel)",
   "language": "python",
   "name": "python3"
  },
  "language_info": {
   "codemirror_mode": {
    "name": "ipython",
    "version": 3
   },
   "file_extension": ".py",
   "mimetype": "text/x-python",
   "name": "python",
   "nbconvert_exporter": "python",
   "pygments_lexer": "ipython3",
   "version": "3.11.5"
  }
 },
 "nbformat": 4,
 "nbformat_minor": 5
}
