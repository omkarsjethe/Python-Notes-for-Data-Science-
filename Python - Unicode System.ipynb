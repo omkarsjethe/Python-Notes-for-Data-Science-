{
 "cells": [
  {
   "cell_type": "markdown",
   "id": "46c4ad80",
   "metadata": {},
   "source": [
    "# What is Unicode System?\n",
    "Software applications often require to display messages output in a variety in different languages such as in English, French, Japanese, Hebrew, or Hindi. Python's string type uses the Unicode Standard for representing characters. It makes the program possible to work with all these different possible characters.\n",
    "\n",
    "A character is the smallest possible component of a text. 'A', 'B', 'C', etc., are all different characters. So are 'È' and 'Í'. A unicode string is a sequence of code points, which are numbers from 0 through 0x10FFFF (1,114,111 decimal). This sequence of code points needs to be represented in memory as a set of code units, and code units are then mapped to 8-bit bytes."
   ]
  },
  {
   "cell_type": "markdown",
   "id": "3095e156",
   "metadata": {},
   "source": [
    "# Character Encoding\n",
    "A sequence of code points is represented in memory as a set of code units, mapped to 8-bit bytes. The rules for translating a Unicode string into a sequence of bytes are called a character encoding.\n",
    "\n",
    "Three types of encodings are present, UTF-8, UTF-16 and UTF-32. UTF stands for Unicode Transformation Format."
   ]
  },
  {
   "cell_type": "markdown",
   "id": "b9edca29",
   "metadata": {},
   "source": [
    "# Python's Unicode Support\n",
    "Python 3.0 onwards has built-in support for Unicode. The str type contains Unicode characters, hence any string created using single, double or the triple-quoted string syntax is stored as Unicode. The default encoding for Python source code is UTF-8.\n",
    "\n",
    "Hence, string may contain literal representation of a Unicode character (3/4) or its Unicode value (\\u00BE)."
   ]
  },
  {
   "cell_type": "code",
   "execution_count": 1,
   "id": "4a199058",
   "metadata": {},
   "outputs": [
    {
     "name": "stdout",
     "output_type": "stream",
     "text": [
      "3/4\n",
      "¾\n"
     ]
    }
   ],
   "source": [
    "a = \"3/4\"\n",
    "print (a)\n",
    "b = \"\\u00BE\"\n",
    "print (b)"
   ]
  },
  {
   "cell_type": "code",
   "execution_count": 2,
   "id": "92a3a032",
   "metadata": {},
   "outputs": [
    {
     "name": "stdout",
     "output_type": "stream",
     "text": [
      "10\n"
     ]
    }
   ],
   "source": [
    "a= \"\\u0031\\u0030\"\n",
    "print (a)"
   ]
  },
  {
   "cell_type": "code",
   "execution_count": 5,
   "id": "0e7b85aa",
   "metadata": {},
   "outputs": [
    {
     "name": "stdout",
     "output_type": "stream",
     "text": [
      "b'Hello'\n",
      "Hello\n"
     ]
    }
   ],
   "source": [
    "string = \"Hello\"\n",
    "tobytes = string.encode('utf-8')\n",
    "print (tobytes)\n",
    "string = tobytes.decode('utf-8')\n",
    "print (string)"
   ]
  },
  {
   "cell_type": "code",
   "execution_count": 6,
   "id": "9eca2b3d",
   "metadata": {},
   "outputs": [
    {
     "name": "stdout",
     "output_type": "stream",
     "text": [
      "₹\n",
      "b'\\xe2\\x82\\xb9'\n",
      "₹\n"
     ]
    }
   ],
   "source": [
    "string = \"\\u20B9\"\n",
    "print (string)\n",
    "tobytes = string.encode('utf-8')\n",
    "print (tobytes)\n",
    "string = tobytes.decode('utf-8')\n",
    "print (string)"
   ]
  },
  {
   "cell_type": "code",
   "execution_count": null,
   "id": "42e26b65",
   "metadata": {},
   "outputs": [],
   "source": []
  }
 ],
 "metadata": {
  "kernelspec": {
   "display_name": "Python 3 (ipykernel)",
   "language": "python",
   "name": "python3"
  },
  "language_info": {
   "codemirror_mode": {
    "name": "ipython",
    "version": 3
   },
   "file_extension": ".py",
   "mimetype": "text/x-python",
   "name": "python",
   "nbconvert_exporter": "python",
   "pygments_lexer": "ipython3",
   "version": "3.11.5"
  }
 },
 "nbformat": 4,
 "nbformat_minor": 5
}
