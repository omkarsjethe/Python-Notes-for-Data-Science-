{
 "cells": [
  {
   "cell_type": "markdown",
   "id": "764c0b67",
   "metadata": {},
   "source": [
    "# What are Python Literals?\n",
    "Python literals or constants are the notation for representing a fixed value in source code. In contrast to variables, literals (123, 4.3, \"Hello\") are static values or you can say constants which do not change throughout the operation of the program or application."
   ]
  },
  {
   "cell_type": "code",
   "execution_count": 1,
   "id": "c9269f08",
   "metadata": {},
   "outputs": [],
   "source": [
    "a=10\n",
    "b=a+2"
   ]
  },
  {
   "cell_type": "code",
   "execution_count": 2,
   "id": "15ebd0a3",
   "metadata": {},
   "outputs": [
    {
     "data": {
      "text/plain": [
       "(10, 12)"
      ]
     },
     "execution_count": 2,
     "metadata": {},
     "output_type": "execute_result"
    }
   ],
   "source": [
    "a,b"
   ]
  },
  {
   "cell_type": "markdown",
   "id": "1d20b78e",
   "metadata": {},
   "source": [
    "# Types of Python Literals\n",
    "Python provides following literals which will be explained this tutorial:\n",
    "\n",
    " Integer Literal\n",
    "\n",
    " Float Literal\n",
    "\n",
    " Complex Literal\n",
    " \n",
    " String Literal\n",
    " \n",
    " List Literal\n",
    " \n",
    " Tuple Literal\n",
    " \n",
    " Dictionary Literal"
   ]
  },
  {
   "cell_type": "markdown",
   "id": "079bffdf",
   "metadata": {},
   "source": [
    "# Python - Integer Literal\n",
    "Any representation involving only the digit symbols (0 to 9) creates an object of int type. The object so declared may be referred by a variable using an assignment operator."
   ]
  },
  {
   "cell_type": "code",
   "execution_count": 4,
   "id": "c6097e66",
   "metadata": {},
   "outputs": [
    {
     "name": "stdout",
     "output_type": "stream",
     "text": [
      "0O34 in octal is 28 <class 'int'>\n",
      "0X1c in Hexadecimal is 28 <class 'int'>\n"
     ]
    }
   ],
   "source": [
    "x = 0O34\n",
    "print (\"0O34 in octal is\", x, type(x))\n",
    "\n",
    "x = 0X1c\n",
    "print (\"0X1c in Hexadecimal is\", x, type(x))"
   ]
  },
  {
   "cell_type": "markdown",
   "id": "eadb7ae6",
   "metadata": {},
   "source": [
    "# Python - Float Literal"
   ]
  },
  {
   "cell_type": "markdown",
   "id": "e8035599",
   "metadata": {},
   "source": [
    "A floating point number consists of an integral part and a fractional part. Conventionally, a decimal point symbol (.) separates these two parts in a literal representation of a float. "
   ]
  },
  {
   "cell_type": "code",
   "execution_count": 5,
   "id": "539c429a",
   "metadata": {},
   "outputs": [
    {
     "name": "stdout",
     "output_type": "stream",
     "text": [
      "1.23 in normal float literal is 1.23 <class 'float'>\n",
      "1.23E5 in scientific notation is 123000.0 <class 'float'>\n",
      "1.23E-2 in scientific notation is 0.0123 <class 'float'>\n"
     ]
    }
   ],
   "source": [
    "x = 1.23\n",
    "print (\"1.23 in normal float literal is\", x, type(x))\n",
    "x = 1.23E5\n",
    "print (\"1.23E5 in scientific notation is\", x, type(x))\n",
    "x = 1.23E-2\n",
    "print (\"1.23E-2 in scientific notation is\", x, type(x))"
   ]
  },
  {
   "cell_type": "markdown",
   "id": "7edaccc8",
   "metadata": {},
   "source": [
    "# Python - Complex Literal\n",
    "A complex number comprises of a real and imaginary component. The imaginary component is any number (integer or floating point) multiplied by square root of \"-1\"\n",
    "\n",
    "(√ −1). In literal representation (−1‾‾‾√\n",
    ") is representation by \"j\" or \"J\". Hence, a literal representation of a complex number takes a form x+yj."
   ]
  },
  {
   "cell_type": "code",
   "execution_count": 6,
   "id": "8e0d7c21",
   "metadata": {},
   "outputs": [
    {
     "name": "stdout",
     "output_type": "stream",
     "text": [
      "2+3j complex literal is (2+3j) <class 'complex'>\n",
      "2.5+4.6j complex literal is (2+3j) <class 'complex'>\n"
     ]
    }
   ],
   "source": [
    "x = 2+3j\n",
    "print (\"2+3j complex literal is\", x, type(x))\n",
    "y = 2.5+4.6j\n",
    "print (\"2.5+4.6j complex literal is\", x, type(x))"
   ]
  },
  {
   "cell_type": "markdown",
   "id": "de46bdec",
   "metadata": {},
   "source": [
    "# Python - String Literal\n",
    "A string object is one of the sequence data types in Python. It is an immutable sequence of Unicode code points. Code point is a number corresponding to a character according to Unicode standard. Strings are objects of Python's built-in class 'str'.\n",
    "\n",
    "String literals are written by enclosing a sequence of characters in single quotes ('hello'), double quotes (\"hello\") or triple quotes ('''hello''' or \"\"\"hello\"\"\")."
   ]
  },
  {
   "cell_type": "code",
   "execution_count": 7,
   "id": "73563e76",
   "metadata": {},
   "outputs": [
    {
     "name": "stdout",
     "output_type": "stream",
     "text": [
      "'hello' in single quotes is: hello <class 'str'>\n",
      "\"hello\" in double quotes is: hello <class 'str'>\n",
      "''''hello'''' in triple quotes is: hello <class 'str'>\n",
      "\"\"\"hello\"\"\" in triple quotes is: hello <class 'str'>\n"
     ]
    }
   ],
   "source": [
    "var1='hello'\n",
    "print (\"'hello' in single quotes is:\", var1, type(var1))\n",
    "var2=\"hello\"\n",
    "print ('\"hello\" in double quotes is:', var1, type(var1))\n",
    "var3='''hello'''\n",
    "print (\"''''hello'''' in triple quotes is:\", var1, type(var1))\n",
    "var4=\"\"\"hello\"\"\"\n",
    "print ('\"\"\"hello\"\"\" in triple quotes is:', var1, type(var1))\n"
   ]
  },
  {
   "cell_type": "markdown",
   "id": "127b9a7d",
   "metadata": {},
   "source": [
    "# Python - List Literal\n",
    "List object in Python is a collection of objects of other data type. List is an ordered collection of items not necessarily of same type. Individual object in the collection is accessed by index starting with zero.\n",
    "\n",
    "Literal representation of a list object is done with one or more items which are separated by comma and enclosed in square brackets [].\n",
    "\n"
   ]
  },
  {
   "cell_type": "code",
   "execution_count": 8,
   "id": "f68251b6",
   "metadata": {},
   "outputs": [
    {
     "name": "stdout",
     "output_type": "stream",
     "text": [
      "[1, 'Omkar', 85.5, True] <class 'list'>\n"
     ]
    }
   ],
   "source": [
    "L1=[1,\"Omkar\",85.50, True]\n",
    "print (L1, type(L1))"
   ]
  },
  {
   "cell_type": "markdown",
   "id": "4748dfb7",
   "metadata": {},
   "source": [
    "# Python - Tuple Literal\n",
    "Tuple object in Python is a collection of objects of other data type. Tuple is an ordered collection of items not necessarily of same type. Individual object in the collection is accessed by index starting with zero.\n",
    "\n",
    "Literal representation of a tuple object is done with one or more items which are separated by comma and enclosed in parentheses ()."
   ]
  },
  {
   "cell_type": "code",
   "execution_count": 11,
   "id": "299afeac",
   "metadata": {},
   "outputs": [
    {
     "name": "stdout",
     "output_type": "stream",
     "text": [
      "(1, 'Ravi', 75.5, True) <class 'tuple'>\n"
     ]
    }
   ],
   "source": [
    "T1=(1,\"Ravi\",75.50, True)\n",
    "print (T1, type(T1))"
   ]
  },
  {
   "cell_type": "code",
   "execution_count": 12,
   "id": "ffbd7310",
   "metadata": {},
   "outputs": [
    {
     "name": "stdout",
     "output_type": "stream",
     "text": [
      "(1, 'Ravi', 75.5, True) <class 'tuple'>\n"
     ]
    }
   ],
   "source": [
    "T1=1,\"Ravi\",75.50, True\n",
    "print (T1, type(T1))"
   ]
  },
  {
   "cell_type": "markdown",
   "id": "d8729b69",
   "metadata": {},
   "source": [
    "# Python - Dictionary Literal\n",
    "Like list or tuple, dictionary is also a collection data type. However, it is not a sequence. It is an unordered collection of items, each of which is a key-value pair. Value is bound to key by the \":\" symbol. One or more key:value pairs separated by comma are put inside curly brackets to form a dictionary object."
   ]
  },
  {
   "cell_type": "code",
   "execution_count": 13,
   "id": "8220a5ea",
   "metadata": {},
   "outputs": [
    {
     "name": "stdout",
     "output_type": "stream",
     "text": [
      "{'USA': 'New York', 'France': 'Paris', 'Japan': 'Tokyo', 'India': 'New Delhi'} <class 'dict'>\n",
      "{1: 'one', 2: 'Two', 3: 'three', 4: 'four'} <class 'dict'>\n",
      "{'p1': (10, 10), 'p2': (20, 20)} <class 'dict'>\n"
     ]
    }
   ],
   "source": [
    "capitals={\"USA\":\"New York\", \"France\":\"Paris\", \"Japan\":\"Tokyo\",\"India\":\"New Delhi\"}\n",
    "numbers={1:\"one\", 2:\"Two\", 3:\"three\",4:\"four\"}\n",
    "points={\"p1\":(10,10), \"p2\":(20,20)}\n",
    "\n",
    "print (capitals, type(capitals))\n",
    "print (numbers, type(numbers))\n",
    "print (points, type(points))"
   ]
  },
  {
   "cell_type": "code",
   "execution_count": 14,
   "id": "23b10be5",
   "metadata": {},
   "outputs": [],
   "source": [
    "staff={\"Krishna\":\"Officer\", \"Rajesh\":\"Manager\", \"Ragini\":\"officer\", \"Anil\":\"Clerk\", \"Kavita\":\"Manager\"}"
   ]
  },
  {
   "cell_type": "code",
   "execution_count": 15,
   "id": "f3c76203",
   "metadata": {},
   "outputs": [
    {
     "data": {
      "text/plain": [
       "{'Krishna': 'Officer',\n",
       " 'Rajesh': 'Manager',\n",
       " 'Ragini': 'officer',\n",
       " 'Anil': 'Clerk',\n",
       " 'Kavita': 'Manager'}"
      ]
     },
     "execution_count": 15,
     "metadata": {},
     "output_type": "execute_result"
    }
   ],
   "source": [
    "staff"
   ]
  },
  {
   "cell_type": "code",
   "execution_count": null,
   "id": "5ea99a1a",
   "metadata": {},
   "outputs": [],
   "source": []
  }
 ],
 "metadata": {
  "kernelspec": {
   "display_name": "Python 3 (ipykernel)",
   "language": "python",
   "name": "python3"
  },
  "language_info": {
   "codemirror_mode": {
    "name": "ipython",
    "version": 3
   },
   "file_extension": ".py",
   "mimetype": "text/x-python",
   "name": "python",
   "nbconvert_exporter": "python",
   "pygments_lexer": "ipython3",
   "version": "3.11.5"
  }
 },
 "nbformat": 4,
 "nbformat_minor": 5
}
