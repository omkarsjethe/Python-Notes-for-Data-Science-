{
 "cells": [
  {
   "cell_type": "code",
   "execution_count": 2,
   "id": "64e19f05",
   "metadata": {},
   "outputs": [
    {
     "name": "stdout",
     "output_type": "stream",
     "text": [
      "M5\n"
     ]
    }
   ],
   "source": [
    "   class Cars :\n",
    "        model= \"Gasoline\"\n",
    "        \n",
    "        def __init__(self,name,cc):\n",
    "            self.name=name\n",
    "            self.cc=cc\n",
    "car1=Cars(\"M5\",7000)\n",
    "\n",
    "print(car1.name)"
   ]
  },
  {
   "cell_type": "code",
   "execution_count": 3,
   "id": "dfaafd09",
   "metadata": {},
   "outputs": [
    {
     "name": "stdout",
     "output_type": "stream",
     "text": [
      "Buddy\n",
      "Canine\n"
     ]
    }
   ],
   "source": [
    "class Dog:\n",
    "    species = \"Canine\"  # Class attribute\n",
    "\n",
    "    def __init__(self, name, age):\n",
    "        self.name = name  # Instance attribute\n",
    "        self.age = age  # Instance attribute\n",
    "\n",
    "# Creating an object of the Dog class\n",
    "dog1 = Dog(\"Buddy\", 3)\n",
    "\n",
    "print(dog1.name) \n",
    "print(dog1.species)"
   ]
  },
  {
   "cell_type": "code",
   "execution_count": 7,
   "id": "a60202a2",
   "metadata": {},
   "outputs": [
    {
     "name": "stdout",
     "output_type": "stream",
     "text": [
      "Buddy\n"
     ]
    }
   ],
   "source": [
    "class Dog:\n",
    "    def __init__(self, name, age):\n",
    "        self.name = name\n",
    "        self.age = age\n",
    "\n",
    "dog1 = Dog(\"Buddy\", 3)\n",
    "print(dog1.name)"
   ]
  },
  {
   "cell_type": "code",
   "execution_count": 8,
   "id": "427a321c",
   "metadata": {},
   "outputs": [
    {
     "name": "stdout",
     "output_type": "stream",
     "text": [
      "Canine\n",
      "Buddy\n",
      "Charlie\n",
      "Max\n",
      "Feline\n",
      "Feline\n"
     ]
    }
   ],
   "source": [
    "class Dog:\n",
    "    # Class variable\n",
    "    species = \"Canine\"\n",
    "\n",
    "    def __init__(self, name, age):\n",
    "        # Instance variables\n",
    "        self.name = name\n",
    "        self.age = age\n",
    "\n",
    "# Create objects\n",
    "dog1 = Dog(\"Buddy\", 3)\n",
    "dog2 = Dog(\"Charlie\", 5)\n",
    "\n",
    "# Access class and instance variables\n",
    "print(dog1.species)  # (Class variable)\n",
    "print(dog1.name)     # (Instance variable)\n",
    "print(dog2.name)     # (Instance variable)\n",
    "\n",
    "# Modify instance variables\n",
    "dog1.name = \"Max\"\n",
    "print(dog1.name)     # (Updated instance variable)\n",
    "\n",
    "# Modify class variable\n",
    "Dog.species = \"Feline\"\n",
    "print(dog1.species)  # (Updated class variable)\n",
    "print(dog2.species)"
   ]
  },
  {
   "cell_type": "code",
   "execution_count": 9,
   "id": "4b465fdb",
   "metadata": {},
   "outputs": [
    {
     "name": "stdout",
     "output_type": "stream",
     "text": [
      "John\n",
      "25\n",
      "Name: John, Age: 25\n"
     ]
    }
   ],
   "source": [
    "# Defining a class\n",
    "class Person:\n",
    "    # Constructor method to initialize attributes\n",
    "    def __init__(self, name, age):\n",
    "        self.name = name  # Instance attribute\n",
    "        self.age = age    # Instance attribute\n",
    "    \n",
    "    # Method to display details\n",
    "    def display_details(self):\n",
    "        print(f\"Name: {self.name}, Age: {self.age}\")\n",
    "\n",
    "# Creating an object of the class\n",
    "person1 = Person(\"John\", 25)\n",
    "\n",
    "# Accessing attributes and methods\n",
    "print(person1.name)  # Output: John\n",
    "print(person1.age)   # Output: 25\n",
    "person1.display_details()  # Output: Name: John, Age: 25\n"
   ]
  },
  {
   "cell_type": "code",
   "execution_count": 2,
   "id": "e2b20173",
   "metadata": {},
   "outputs": [
    {
     "name": "stdout",
     "output_type": "stream",
     "text": [
      "Marks\n",
      "Rahul\n"
     ]
    }
   ],
   "source": [
    "class marks:\n",
    "    print(\"Marks\")\n",
    "    def __init__(self,name,marks):\n",
    "        self.name=name\n",
    "        self.marks=marks\n",
    "s1=marks(\"Rahul\",89)\n",
    "s2=marks(\"Prem\",79)\n",
    "\n",
    "print(s1.name)"
   ]
  },
  {
   "cell_type": "code",
   "execution_count": 3,
   "id": "8494e773",
   "metadata": {},
   "outputs": [
    {
     "name": "stdout",
     "output_type": "stream",
     "text": [
      "Omkar\n"
     ]
    }
   ],
   "source": [
    "s1.name=\"Omkar\"\n",
    "print(s1.name)"
   ]
  },
  {
   "cell_type": "code",
   "execution_count": 4,
   "id": "e03ca659",
   "metadata": {},
   "outputs": [
    {
     "name": "stdout",
     "output_type": "stream",
     "text": [
      "95\n"
     ]
    }
   ],
   "source": [
    "s2.marks=95\n",
    "print(s2.marks)"
   ]
  },
  {
   "cell_type": "code",
   "execution_count": null,
   "id": "b1827c98",
   "metadata": {},
   "outputs": [],
   "source": []
  }
 ],
 "metadata": {
  "kernelspec": {
   "display_name": "Python 3 (ipykernel)",
   "language": "python",
   "name": "python3"
  },
  "language_info": {
   "codemirror_mode": {
    "name": "ipython",
    "version": 3
   },
   "file_extension": ".py",
   "mimetype": "text/x-python",
   "name": "python",
   "nbconvert_exporter": "python",
   "pygments_lexer": "ipython3",
   "version": "3.11.5"
  }
 },
 "nbformat": 4,
 "nbformat_minor": 5
}
