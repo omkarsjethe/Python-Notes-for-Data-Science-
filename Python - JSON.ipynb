{
 "cells": [
  {
   "cell_type": "markdown",
   "id": "09202baa",
   "metadata": {},
   "source": [
    "# JSON\n",
    "JSON is a syntax for storing and exchanging data.\n",
    "\n",
    "JSON is text, written with JavaScript object notation."
   ]
  },
  {
   "cell_type": "code",
   "execution_count": 2,
   "id": "b79fa6d6",
   "metadata": {},
   "outputs": [],
   "source": [
    "import json as j"
   ]
  },
  {
   "cell_type": "code",
   "execution_count": 10,
   "id": "c4cf42a0",
   "metadata": {},
   "outputs": [
    {
     "name": "stdout",
     "output_type": "stream",
     "text": [
      "{'Name': 'Omkar', 'Age': 24, 'City': 'Mumbai'}\n"
     ]
    }
   ],
   "source": [
    "a='{\"Name\" :\"Omkar\",\"Age\":24,\"City\":\"Mumbai\"}'#\"\" should be outside of curly braces for json object\n",
    "x=j.loads(a)\n",
    "print(x)"
   ]
  },
  {
   "cell_type": "code",
   "execution_count": 11,
   "id": "58a3ff6c",
   "metadata": {},
   "outputs": [
    {
     "name": "stdout",
     "output_type": "stream",
     "text": [
      "24\n"
     ]
    }
   ],
   "source": [
    "print(x[\"Age\"])"
   ]
  },
  {
   "cell_type": "code",
   "execution_count": 12,
   "id": "0252d13c",
   "metadata": {},
   "outputs": [
    {
     "name": "stdout",
     "output_type": "stream",
     "text": [
      "{\"Name\":\"Yash\",\"Age\":25,\"City\":\"Berlin\"}\n"
     ]
    }
   ],
   "source": [
    "b='{\"Name\":\"Yash\",\"Age\":25,\"City\":\"Berlin\"}'\n",
    "y=j.loads(b)\n",
    "print(b)"
   ]
  },
  {
   "cell_type": "code",
   "execution_count": 13,
   "id": "711d067c",
   "metadata": {},
   "outputs": [
    {
     "name": "stdout",
     "output_type": "stream",
     "text": [
      "Yash\n"
     ]
    }
   ],
   "source": [
    "print(y[\"Name\"])"
   ]
  },
  {
   "cell_type": "markdown",
   "id": "4322ade4",
   "metadata": {},
   "source": [
    "### Convert from Python to JSON\n",
    "If you have a Python object, you can convert it into a JSON string by using the json.dumps() method."
   ]
  },
  {
   "cell_type": "code",
   "execution_count": 15,
   "id": "a7fd7c6e",
   "metadata": {},
   "outputs": [
    {
     "name": "stdout",
     "output_type": "stream",
     "text": [
      "{'Name': 'Omkar', 'Age': 25, 'City': 'Mumbai'}\n"
     ]
    }
   ],
   "source": [
    "a={\n",
    "    \"Name\":\"Omkar\",\n",
    "    \"Age\" : 25,\n",
    "    \"City\":\"Mumbai\"\n",
    "}\n",
    "x=j.dumps(a)\n",
    "print(a)"
   ]
  },
  {
   "cell_type": "code",
   "execution_count": 17,
   "id": "430b8b61",
   "metadata": {},
   "outputs": [
    {
     "name": "stdout",
     "output_type": "stream",
     "text": [
      "{\"name\": \"John\", \"age\": 30}\n",
      "[\"apple\", \"bananas\"]\n",
      "[\"apple\", \"bananas\"]\n",
      "\"hello\"\n",
      "42\n",
      "31.76\n",
      "true\n",
      "false\n",
      "null\n"
     ]
    }
   ],
   "source": [
    "import json\n",
    "\n",
    "print(json.dumps({\"name\": \"John\", \"age\": 30}))\n",
    "print(json.dumps([\"apple\", \"bananas\"]))\n",
    "print(json.dumps((\"apple\", \"bananas\")))\n",
    "print(json.dumps(\"hello\"))\n",
    "print(json.dumps(42))\n",
    "print(json.dumps(31.76))\n",
    "print(json.dumps(True))\n",
    "print(json.dumps(False))\n",
    "print(json.dumps(None))"
   ]
  },
  {
   "cell_type": "code",
   "execution_count": 18,
   "id": "f990cdce",
   "metadata": {},
   "outputs": [
    {
     "name": "stdout",
     "output_type": "stream",
     "text": [
      "{\"name\": \"John\", \"age\": 30, \"married\": true, \"divorced\": false, \"children\": [\"Ann\", \"Billy\"], \"pets\": null, \"cars\": [{\"model\": \"BMW 230\", \"mpg\": 27.5}, {\"model\": \"Ford Edge\", \"mpg\": 24.1}]}\n"
     ]
    }
   ],
   "source": [
    "x = {\n",
    "  \"name\": \"John\",\n",
    "  \"age\": 30,\n",
    "  \"married\": True,\n",
    "  \"divorced\": False,\n",
    "  \"children\": (\"Ann\",\"Billy\"),\n",
    "  \"pets\": None,\n",
    "  \"cars\": [\n",
    "    {\"model\": \"BMW 230\", \"mpg\": 27.5},\n",
    "    {\"model\": \"Ford Edge\", \"mpg\": 24.1}\n",
    "  ]\n",
    "}\n",
    "\n",
    "print(json.dumps(x))"
   ]
  },
  {
   "cell_type": "code",
   "execution_count": 19,
   "id": "e887134e",
   "metadata": {},
   "outputs": [
    {
     "data": {
      "text/plain": [
       "'{\\n    \"name\": \"John\",\\n    \"age\": 30,\\n    \"married\": true,\\n    \"divorced\": false,\\n    \"children\": [\\n        \"Ann\",\\n        \"Billy\"\\n    ],\\n    \"pets\": null,\\n    \"cars\": [\\n        {\\n            \"model\": \"BMW 230\",\\n            \"mpg\": 27.5\\n        },\\n        {\\n            \"model\": \"Ford Edge\",\\n            \"mpg\": 24.1\\n        }\\n    ]\\n}'"
      ]
     },
     "execution_count": 19,
     "metadata": {},
     "output_type": "execute_result"
    }
   ],
   "source": [
    "json.dumps(x,indent=4)"
   ]
  },
  {
   "cell_type": "markdown",
   "id": "747d9adc",
   "metadata": {},
   "source": [
    "#### You can also define the separators, default value is (\", \", \": \"), which means using a comma and a space to separate each object, and a colon and a space to separate keys from values:"
   ]
  },
  {
   "cell_type": "code",
   "execution_count": 20,
   "id": "22d4ba1d",
   "metadata": {},
   "outputs": [
    {
     "data": {
      "text/plain": [
       "'{\\n    \"name\" = \"John\". \\n    \"age\" = 30. \\n    \"married\" = true. \\n    \"divorced\" = false. \\n    \"children\" = [\\n        \"Ann\". \\n        \"Billy\"\\n    ]. \\n    \"pets\" = null. \\n    \"cars\" = [\\n        {\\n            \"model\" = \"BMW 230\". \\n            \"mpg\" = 27.5\\n        }. \\n        {\\n            \"model\" = \"Ford Edge\". \\n            \"mpg\" = 24.1\\n        }\\n    ]\\n}'"
      ]
     },
     "execution_count": 20,
     "metadata": {},
     "output_type": "execute_result"
    }
   ],
   "source": [
    "json.dumps(x, indent=4, separators=(\". \", \" = \"))"
   ]
  },
  {
   "cell_type": "code",
   "execution_count": 21,
   "id": "f299f1c5",
   "metadata": {},
   "outputs": [
    {
     "data": {
      "text/plain": [
       "'{\\n    \"age\": 30,\\n    \"cars\": [\\n        {\\n            \"model\": \"BMW 230\",\\n            \"mpg\": 27.5\\n        },\\n        {\\n            \"model\": \"Ford Edge\",\\n            \"mpg\": 24.1\\n        }\\n    ],\\n    \"children\": [\\n        \"Ann\",\\n        \"Billy\"\\n    ],\\n    \"divorced\": false,\\n    \"married\": true,\\n    \"name\": \"John\",\\n    \"pets\": null\\n}'"
      ]
     },
     "execution_count": 21,
     "metadata": {},
     "output_type": "execute_result"
    }
   ],
   "source": [
    "json.dumps(x, indent=4, sort_keys=True)"
   ]
  },
  {
   "cell_type": "code",
   "execution_count": null,
   "id": "d87699bd",
   "metadata": {},
   "outputs": [],
   "source": []
  }
 ],
 "metadata": {
  "kernelspec": {
   "display_name": "Python 3 (ipykernel)",
   "language": "python",
   "name": "python3"
  },
  "language_info": {
   "codemirror_mode": {
    "name": "ipython",
    "version": 3
   },
   "file_extension": ".py",
   "mimetype": "text/x-python",
   "name": "python",
   "nbconvert_exporter": "python",
   "pygments_lexer": "ipython3",
   "version": "3.11.5"
  }
 },
 "nbformat": 4,
 "nbformat_minor": 5
}
