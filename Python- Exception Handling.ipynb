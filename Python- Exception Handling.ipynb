{
 "cells": [
  {
   "cell_type": "markdown",
   "id": "73c16970",
   "metadata": {},
   "source": [
    "# Python - Exception Handling"
   ]
  },
  {
   "cell_type": "markdown",
   "id": "ee6c5efa",
   "metadata": {},
   "source": [
    " In the last tutorial, we learned about Python exceptions. We know that exceptions abnormally terminate the execution of a program.\n",
    "\n",
    "Since exceptions abnormally terminate the execution of a program, it is important to handle exceptions. In Python, we use the try...except block to handle exceptions."
   ]
  },
  {
   "cell_type": "markdown",
   "id": "b6917615",
   "metadata": {},
   "source": [
    "### Python try...except Block\n",
    "The try...except block is used to handle exceptions in Python.\n",
    "\n",
    "Here's the syntax of try...except block:\n",
    "\n",
    "try:\n",
    "\n",
    "    # code that may cause exception\n",
    "    \n",
    "except:\n",
    "\n",
    "    # code to run when exception occurs"
   ]
  },
  {
   "cell_type": "code",
   "execution_count": 4,
   "id": "d77d289e",
   "metadata": {},
   "outputs": [
    {
     "name": "stdout",
     "output_type": "stream",
     "text": [
      "Enter the num o\n",
      "Error try entering number\n"
     ]
    }
   ],
   "source": [
    "try:\n",
    "    num1=int(input(\"Enter the num \"))\n",
    "    num2=int(input(\"Ente the num2\"))\n",
    "    \n",
    "    sum=num1+num2\n",
    "    \n",
    "    print(sum)\n",
    "    \n",
    "except:\n",
    "    print(\"Error try entering number\")"
   ]
  },
  {
   "cell_type": "code",
   "execution_count": 5,
   "id": "a6b89b46",
   "metadata": {},
   "outputs": [
    {
     "name": "stdout",
     "output_type": "stream",
     "text": [
      "Error: Denominator cannot be 0.\n"
     ]
    }
   ],
   "source": [
    "try:\n",
    "    numerator = 10\n",
    "    denominator = 0\n",
    "\n",
    "    result = numerator/denominator\n",
    "\n",
    "    print(result)\n",
    "except:\n",
    "    print(\"Error: Denominator cannot be 0.\")\n"
   ]
  },
  {
   "cell_type": "code",
   "execution_count": 6,
   "id": "a9a4a785",
   "metadata": {},
   "outputs": [
    {
     "name": "stdout",
     "output_type": "stream",
     "text": [
      "enter the number3\n",
      "Odd number\n"
     ]
    }
   ],
   "source": [
    "try:\n",
    "    num=int(input(\"enter the number\"))\n",
    "    if num % 2==0:\n",
    "        print(\"even number\")\n",
    "    else:\n",
    "        print(\"Odd number\")\n",
    "except:\n",
    "    print(\"Invalid user input\")"
   ]
  },
  {
   "cell_type": "code",
   "execution_count": 7,
   "id": "fd8e7d0d",
   "metadata": {},
   "outputs": [
    {
     "name": "stdout",
     "output_type": "stream",
     "text": [
      "enter the numberomkar\n",
      "Invalid user input\n"
     ]
    }
   ],
   "source": [
    "try:\n",
    "    num=int(input(\"enter the number\"))\n",
    "    if num % 2==0:\n",
    "        print(\"even number\")\n",
    "    else:\n",
    "        print(\"Odd number\")\n",
    "except:\n",
    "    print(\"Invalid user input\")"
   ]
  },
  {
   "cell_type": "code",
   "execution_count": 8,
   "id": "498bdd1c",
   "metadata": {},
   "outputs": [
    {
     "name": "stdout",
     "output_type": "stream",
     "text": [
      "Index Out of bound\n"
     ]
    }
   ],
   "source": [
    "try:\n",
    "    a=[0,2,4,6]\n",
    "    print(a[5])\n",
    "except IndexError :\n",
    "    print(\"Index Out of bound\")"
   ]
  },
  {
   "cell_type": "code",
   "execution_count": 11,
   "id": "ae9b0775",
   "metadata": {},
   "outputs": [
    {
     "name": "stdout",
     "output_type": "stream",
     "text": [
      "Enter the number2\n",
      "[2]\n"
     ]
    }
   ],
   "source": [
    "a=[]\n",
    "\n",
    "num=int(input(\"Enter the  how many numbers should be appended in list\"))\n",
    "a.append(num)\n",
    "print(a)\n"
   ]
  },
  {
   "cell_type": "code",
   "execution_count": 12,
   "id": "e876fceb",
   "metadata": {},
   "outputs": [
    {
     "name": "stdout",
     "output_type": "stream",
     "text": [
      "Enter a number: 3\n",
      "Not an even number!\n"
     ]
    }
   ],
   "source": [
    "try:\n",
    "    num = int(input(\"Enter a number: \"))\n",
    "    assert num % 2 == 0\n",
    "except:\n",
    "    print(\"Not an even number!\")\n",
    "else:\n",
    "    reciprocal = 1/num\n",
    "    print(reciprocal)"
   ]
  },
  {
   "cell_type": "code",
   "execution_count": 13,
   "id": "bb377136",
   "metadata": {},
   "outputs": [
    {
     "name": "stdout",
     "output_type": "stream",
     "text": [
      "Enter a number: 6\n",
      "0.16666666666666666\n"
     ]
    }
   ],
   "source": [
    "try:                                       #case2\n",
    "    num = int(input(\"Enter a number: \"))\n",
    "    assert num % 2 == 0\n",
    "except:\n",
    "    print(\"Not an even number!\")\n",
    "else:\n",
    "    reciprocal = 1/num\n",
    "    print(reciprocal)"
   ]
  },
  {
   "cell_type": "markdown",
   "id": "16ee3d59",
   "metadata": {},
   "source": [
    "### Python try...finally\n",
    "In Python, the finally block is always executed no matter whether there is an exception or not.\n",
    "\n",
    "The finally block is optional. And, for each try block, there can be only one finally block."
   ]
  },
  {
   "cell_type": "code",
   "execution_count": 14,
   "id": "a3ed5a9e",
   "metadata": {},
   "outputs": [
    {
     "name": "stdout",
     "output_type": "stream",
     "text": [
      "Error: Denominator cannot be 0.\n",
      "This is finally block.\n"
     ]
    }
   ],
   "source": [
    "try:\n",
    "    numerator = 10\n",
    "    denominator = 0\n",
    "\n",
    "    result = numerator/denominator\n",
    "\n",
    "    print(result)\n",
    "except:\n",
    "    print(\"Error: Denominator cannot be 0.\")\n",
    "    \n",
    "finally:\n",
    "    print(\"This is finally block.\")"
   ]
  },
  {
   "cell_type": "code",
   "execution_count": 19,
   "id": "8170711b",
   "metadata": {},
   "outputs": [
    {
     "name": "stdout",
     "output_type": "stream",
     "text": [
      "Please enter your age: 12\n",
      "You are not eligible to vote.\n"
     ]
    }
   ],
   "source": [
    "def check_voting_eligibility():\n",
    "    try:\n",
    "        # Get the user's age as input\n",
    "        age = int(input(\"Please enter your age: \"))\n",
    "        \n",
    "        # Check if the age is within the eligible voting age range\n",
    "        if age >= 18:\n",
    "            print(\"You are eligible to vote.\")\n",
    "        else:\n",
    "            print(\"You are not eligible to vote.\")\n",
    "    except ValueError:\n",
    "        # Handle the case where the input is not a valid integer\n",
    "        print(\"Invalid input! Please enter a valid age.\")\n",
    "\n",
    "# Run the function\n",
    "check_voting_eligibility()\n"
   ]
  },
  {
   "cell_type": "code",
   "execution_count": 22,
   "id": "fe9bb9c4",
   "metadata": {},
   "outputs": [
    {
     "name": "stdout",
     "output_type": "stream",
     "text": [
      "Enter salary amount: 200\n"
     ]
    },
    {
     "ename": "SalaryNotInRangeError",
     "evalue": "Salary is not in (5000, 15000) range",
     "output_type": "error",
     "traceback": [
      "\u001b[1;31m---------------------------------------------------------------------------\u001b[0m",
      "\u001b[1;31mSalaryNotInRangeError\u001b[0m                     Traceback (most recent call last)",
      "Cell \u001b[1;32mIn[22], line 11\u001b[0m\n\u001b[0;32m      9\u001b[0m salary \u001b[38;5;241m=\u001b[39m \u001b[38;5;28mint\u001b[39m(\u001b[38;5;28minput\u001b[39m(\u001b[38;5;124m\"\u001b[39m\u001b[38;5;124mEnter salary amount: \u001b[39m\u001b[38;5;124m\"\u001b[39m))\n\u001b[0;32m     10\u001b[0m \u001b[38;5;28;01mif\u001b[39;00m \u001b[38;5;129;01mnot\u001b[39;00m \u001b[38;5;241m5000\u001b[39m \u001b[38;5;241m<\u001b[39m salary \u001b[38;5;241m<\u001b[39m \u001b[38;5;241m15000\u001b[39m:\n\u001b[1;32m---> 11\u001b[0m     \u001b[38;5;28;01mraise\u001b[39;00m SalaryNotInRangeError(salary)\n",
      "\u001b[1;31mSalaryNotInRangeError\u001b[0m: Salary is not in (5000, 15000) range"
     ]
    }
   ],
   "source": [
    "class SalaryNotInRangeError(Exception):\n",
    "\n",
    "    def __init__(self, salary, message=\"Salary is not in (5000, 15000) range\"):\n",
    "        self.salary = salary\n",
    "        self.message = message\n",
    "        super().__init__(self.message)\n",
    "\n",
    "\n",
    "salary = int(input(\"Enter salary amount: \"))\n",
    "if not 5000 < salary < 15000:\n",
    "    raise SalaryNotInRangeError(salary)"
   ]
  },
  {
   "cell_type": "code",
   "execution_count": null,
   "id": "9d95872b",
   "metadata": {},
   "outputs": [],
   "source": []
  }
 ],
 "metadata": {
  "kernelspec": {
   "display_name": "Python 3 (ipykernel)",
   "language": "python",
   "name": "python3"
  },
  "language_info": {
   "codemirror_mode": {
    "name": "ipython",
    "version": 3
   },
   "file_extension": ".py",
   "mimetype": "text/x-python",
   "name": "python",
   "nbconvert_exporter": "python",
   "pygments_lexer": "ipython3",
   "version": "3.11.5"
  }
 },
 "nbformat": 4,
 "nbformat_minor": 5
}
