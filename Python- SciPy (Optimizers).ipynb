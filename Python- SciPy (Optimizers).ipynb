{
 "cells": [
  {
   "cell_type": "raw",
   "id": "d7c271de",
   "metadata": {},
   "source": [
    "# SciPy Optimizers:\n",
    "Optimizers are a set of procedures defined in SciPy that either find the minimum value of a function, or the root of an equation.\n",
    "\n",
    "Optimizing Functions\n",
    "Essentially, all of the algorithms in Machine Learning are nothing more than a complex equation that needs to be minimized with the help of given data.\n",
    "\n",
    "Roots of an Equation\n",
    "NumPy is capable of finding roots for polynomials and linear equations, but it can not find roots for non linear equations, like this one:\n",
    "\n",
    "x + cos(x)\n",
    "\n",
    "For that you can use SciPy's optimize.root function.\n",
    "\n",
    "This function takes two required arguments:\n",
    "\n",
    "fun - a function representing an equation.\n",
    "\n",
    "x0 - an initial guess for the root.\n",
    "\n",
    "The function returns an object with information regarding the solution.\n",
    "\n",
    "The actual solution is given under attribute x of the returned object:"
   ]
  },
  {
   "cell_type": "code",
   "execution_count": 1,
   "id": "a08f5a4a",
   "metadata": {},
   "outputs": [],
   "source": [
    "import scipy as spy"
   ]
  },
  {
   "cell_type": "code",
   "execution_count": 2,
   "id": "888b4257",
   "metadata": {},
   "outputs": [
    {
     "name": "stdout",
     "output_type": "stream",
     "text": [
      "[-0.73908513]\n"
     ]
    }
   ],
   "source": [
    "from scipy.optimize import root\n",
    "from math import cos\n",
    "\n",
    "def eqn(x):\n",
    "    return x+cos(x)\n",
    "myroot =root(eqn,0)\n",
    "print(myroot.x)"
   ]
  },
  {
   "cell_type": "code",
   "execution_count": 5,
   "id": "b5055f48",
   "metadata": {},
   "outputs": [
    {
     "name": "stdout",
     "output_type": "stream",
     "text": [
      "[-0.73908513]\n",
      " message: The solution converged.\n",
      " success: True\n",
      "  status: 1\n",
      "     fun: [ 0.000e+00]\n",
      "       x: [-7.391e-01]\n",
      "    nfev: 9\n",
      "    fjac: [[-1.000e+00]]\n",
      "       r: [-1.674e+00]\n",
      "     qtf: [-2.668e-13]\n"
     ]
    }
   ],
   "source": [
    "def eqn(x):\n",
    "    return x+cos(x)\n",
    "myroot =root(eqn,0)\n",
    "print(myroot.x)\n",
    "print(myroot)"
   ]
  },
  {
   "cell_type": "markdown",
   "id": "6e7e2dda",
   "metadata": {},
   "source": [
    "#### Minimizing a Function\n",
    "A function, in this context, represents a curve, curves have high points and low points.\n",
    "\n",
    "High points are called maxima.\n",
    "\n",
    "Low points are called minima.\n",
    "\n",
    "The highest point in the whole curve is called global maxima, whereas the rest of them are called local maxima.\n",
    "\n",
    "The lowest point in whole curve is called global minima, whereas the rest of them are called local minima."
   ]
  },
  {
   "cell_type": "code",
   "execution_count": 6,
   "id": "3cd063c9",
   "metadata": {},
   "outputs": [
    {
     "name": "stdout",
     "output_type": "stream",
     "text": [
      "  message: Optimization terminated successfully.\n",
      "  success: True\n",
      "   status: 0\n",
      "      fun: 1.75\n",
      "        x: [-5.000e-01]\n",
      "      nit: 2\n",
      "      jac: [ 0.000e+00]\n",
      " hess_inv: [[ 5.000e-01]]\n",
      "     nfev: 8\n",
      "     njev: 4\n"
     ]
    }
   ],
   "source": [
    "from scipy.optimize import minimize\n",
    "\n",
    "def eqn(x):\n",
    "  return x**2 + x + 2\n",
    "\n",
    "mymin = minimize(eqn, 0, method='BFGS')\n",
    "\n",
    "print(mymin)"
   ]
  },
  {
   "cell_type": "code",
   "execution_count": null,
   "id": "81d7f8d2",
   "metadata": {},
   "outputs": [],
   "source": []
  }
 ],
 "metadata": {
  "kernelspec": {
   "display_name": "Python 3 (ipykernel)",
   "language": "python",
   "name": "python3"
  },
  "language_info": {
   "codemirror_mode": {
    "name": "ipython",
    "version": 3
   },
   "file_extension": ".py",
   "mimetype": "text/x-python",
   "name": "python",
   "nbconvert_exporter": "python",
   "pygments_lexer": "ipython3",
   "version": "3.11.5"
  }
 },
 "nbformat": 4,
 "nbformat_minor": 5
}
