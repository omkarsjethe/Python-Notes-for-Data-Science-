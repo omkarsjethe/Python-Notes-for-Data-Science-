{
 "cells": [
  {
   "cell_type": "markdown",
   "id": "c0dec33f",
   "metadata": {},
   "source": [
    "Recursion is the process of defining something in terms of itself.\n",
    "\n",
    "A physical world example would be to place two parallel mirrors facing each other. Any object in between them would be reflected recursively."
   ]
  },
  {
   "cell_type": "code",
   "execution_count": 9,
   "id": "c3134ba2",
   "metadata": {},
   "outputs": [
    {
     "name": "stdout",
     "output_type": "stream",
     "text": [
      "The factorial of 7 is 5040\n"
     ]
    }
   ],
   "source": [
    "def factorial(num):\n",
    "    if num == 1:\n",
    "        return 1\n",
    "    else:\n",
    "        return (num * factorial(num-1))\n",
    "num = 7\n",
    "print(\"The factorial of\", num, \"is\", factorial(num))"
   ]
  },
  {
   "cell_type": "markdown",
   "id": "2390a515",
   "metadata": {},
   "source": [
    "# Advantages of Recursion\n",
    "Recursive functions make the code look clean and elegant.\n",
    "\n",
    "A complex task can be broken down into simpler sub-problems using recursion.\n",
    "\n",
    "Sequence generation is easier with recursion than using some nested iteration."
   ]
  },
  {
   "cell_type": "markdown",
   "id": "0c93e183",
   "metadata": {},
   "source": [
    "# Disadvantages of Recursion\n",
    "\n",
    "Sometimes the logic behind recursion is hard to follow through.\n",
    "\n",
    "Recursive calls are expensive (inefficient) as they take up a lot of memory and time.\n",
    "\n",
    "Recursive functions are hard to debug."
   ]
  },
  {
   "cell_type": "code",
   "execution_count": null,
   "id": "d3f99680",
   "metadata": {},
   "outputs": [],
   "source": []
  }
 ],
 "metadata": {
  "kernelspec": {
   "display_name": "Python 3 (ipykernel)",
   "language": "python",
   "name": "python3"
  },
  "language_info": {
   "codemirror_mode": {
    "name": "ipython",
    "version": 3
   },
   "file_extension": ".py",
   "mimetype": "text/x-python",
   "name": "python",
   "nbconvert_exporter": "python",
   "pygments_lexer": "ipython3",
   "version": "3.11.5"
  }
 },
 "nbformat": 4,
 "nbformat_minor": 5
}
