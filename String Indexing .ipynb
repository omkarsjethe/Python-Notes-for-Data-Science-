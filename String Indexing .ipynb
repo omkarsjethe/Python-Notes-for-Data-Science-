{
 "cells": [
  {
   "cell_type": "markdown",
   "id": "66373f65",
   "metadata": {},
   "source": [
    "# Definition and Usage:\n",
    "\n",
    "The index() method finds the first occurrence of the specified value.\n",
    "\n",
    "The index() method raises an exception if the value is not found.\n",
    "\n",
    "The index() method is almost the same as the find() method, the only difference is that the find() method returns -1 if the value is not found. "
   ]
  },
  {
   "cell_type": "code",
   "execution_count": 4,
   "id": "449327e8",
   "metadata": {},
   "outputs": [
    {
     "name": "stdout",
     "output_type": "stream",
     "text": [
      "5\n"
     ]
    }
   ],
   "source": [
    "a=\"I am Data analyst\"\n",
    "b=a.index(\"D\")\n",
    "print(b)"
   ]
  },
  {
   "cell_type": "markdown",
   "id": "cea3b665",
   "metadata": {},
   "source": [
    "# If given alphabet string  is not Present in String"
   ]
  },
  {
   "cell_type": "code",
   "execution_count": 6,
   "id": "62a5b963",
   "metadata": {},
   "outputs": [
    {
     "name": "stdout",
     "output_type": "stream",
     "text": [
      "-1\n"
     ]
    },
    {
     "ename": "ValueError",
     "evalue": "substring not found",
     "output_type": "error",
     "traceback": [
      "\u001b[0;31m---------------------------------------------------------------------------\u001b[0m",
      "\u001b[0;31mValueError\u001b[0m                                Traceback (most recent call last)",
      "Cell \u001b[0;32mIn[6], line 4\u001b[0m\n\u001b[1;32m      1\u001b[0m a\u001b[38;5;241m=\u001b[39m \u001b[38;5;124m\"\u001b[39m\u001b[38;5;124mHello, welcome to my world.\u001b[39m\u001b[38;5;124m\"\u001b[39m\n\u001b[1;32m      3\u001b[0m \u001b[38;5;28mprint\u001b[39m(a\u001b[38;5;241m.\u001b[39mfind(\u001b[38;5;124m\"\u001b[39m\u001b[38;5;124ms\u001b[39m\u001b[38;5;124m\"\u001b[39m))\n\u001b[0;32m----> 4\u001b[0m \u001b[38;5;28mprint\u001b[39m(a\u001b[38;5;241m.\u001b[39mindex(\u001b[38;5;124m\"\u001b[39m\u001b[38;5;124ms\u001b[39m\u001b[38;5;124m\"\u001b[39m))\n",
      "\u001b[0;31mValueError\u001b[0m: substring not found"
     ]
    }
   ],
   "source": [
    "a= \"Hello, welcome to my world.\"\n",
    "\n",
    "print(a.find(\"s\"))\n",
    "print(a.index(\"s\"))"
   ]
  },
  {
   "cell_type": "code",
   "execution_count": 7,
   "id": "70d89512",
   "metadata": {},
   "outputs": [
    {
     "name": "stdout",
     "output_type": "stream",
     "text": [
      "first is: B\n",
      "space is : e\n",
      "last is : e\n"
     ]
    }
   ],
   "source": [
    "batman = \"Bruce Wayne\"\n",
    "\n",
    "first = batman[0]  \n",
    "print(\"first is:\",first)\n",
    "\n",
    "space = batman[4]\n",
    "print(\"space is :\",space)\n",
    "\n",
    "last = batman[len(batman) - 1]\n",
    "print(\"last is :\",last)"
   ]
  },
  {
   "cell_type": "code",
   "execution_count": null,
   "id": "c0535bee",
   "metadata": {},
   "outputs": [],
   "source": []
  }
 ],
 "metadata": {
  "kernelspec": {
   "display_name": "Python 3 (ipykernel)",
   "language": "python",
   "name": "python3"
  },
  "language_info": {
   "codemirror_mode": {
    "name": "ipython",
    "version": 3
   },
   "file_extension": ".py",
   "mimetype": "text/x-python",
   "name": "python",
   "nbconvert_exporter": "python",
   "pygments_lexer": "ipython3",
   "version": "3.11.4"
  }
 },
 "nbformat": 4,
 "nbformat_minor": 5
}
