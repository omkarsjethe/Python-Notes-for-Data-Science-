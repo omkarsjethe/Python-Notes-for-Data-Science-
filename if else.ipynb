{
 "cells": [
  {
   "cell_type": "code",
   "execution_count": 1,
   "id": "adce41a3",
   "metadata": {},
   "outputs": [
    {
     "name": "stdout",
     "output_type": "stream",
     "text": [
      "true\n"
     ]
    }
   ],
   "source": [
    "a=10\n",
    "b=5\n",
    "if a / b == 2:\n",
    "    print(\"true\")\n",
    "else :\n",
    "    peint(\"False\")"
   ]
  },
  {
   "cell_type": "code",
   "execution_count": 3,
   "id": "d771f028",
   "metadata": {},
   "outputs": [
    {
     "name": "stdout",
     "output_type": "stream",
     "text": [
      "Enter the number14\n",
      "14 is even number\n"
     ]
    }
   ],
   "source": [
    "a=int(input(\"Enter the number\"))\n",
    "if a % 2 == 0:\n",
    "    print(f\"{a} is even number\")\n",
    "else :\n",
    "    print(f\"{a} is odd number\")"
   ]
  },
  {
   "cell_type": "code",
   "execution_count": 8,
   "id": "c419cbfd",
   "metadata": {},
   "outputs": [
    {
     "name": "stdout",
     "output_type": "stream",
     "text": [
      "Firstclass\n"
     ]
    }
   ],
   "source": [
    "marks=72\n",
    "if marks >= 70 or marks <60:\n",
    "    print(\"Firstclass\")\n",
    "else :\n",
    "    print(\"Second Class\")"
   ]
  },
  {
   "cell_type": "code",
   "execution_count": 12,
   "id": "90ffc700",
   "metadata": {},
   "outputs": [
    {
     "name": "stdout",
     "output_type": "stream",
     "text": [
      "Enter the age17\n",
      "Enter the citizenshipUSA\n",
      "not eligible for vote\n"
     ]
    }
   ],
   "source": [
    "age =int(input(\"Enter the age\"))\n",
    "citizen=input(\"Enter the citizenship\")\n",
    "\n",
    "if age ==24 and citizen ==\"USA\":\n",
    "    print(\"Eligible for vote\")\n",
    "else :\n",
    "    print(\"not eligible for vote\")"
   ]
  },
  {
   "cell_type": "code",
   "execution_count": 18,
   "id": "1cd94570",
   "metadata": {},
   "outputs": [
    {
     "name": "stdout",
     "output_type": "stream",
     "text": [
      "Eligible\n"
     ]
    }
   ],
   "source": [
    "marks = 90\n",
    "caste= \"OBC\"\n",
    "\n",
    "if marks >=95 or caste == \"OBC\":\n",
    "    print(\"Eligible\")\n",
    "else :\n",
    "    print(\"not eligible\")"
   ]
  },
  {
   "cell_type": "code",
   "execution_count": null,
   "id": "baea7541",
   "metadata": {},
   "outputs": [],
   "source": []
  }
 ],
 "metadata": {
  "kernelspec": {
   "display_name": "Python 3 (ipykernel)",
   "language": "python",
   "name": "python3"
  },
  "language_info": {
   "codemirror_mode": {
    "name": "ipython",
    "version": 3
   },
   "file_extension": ".py",
   "mimetype": "text/x-python",
   "name": "python",
   "nbconvert_exporter": "python",
   "pygments_lexer": "ipython3",
   "version": "3.11.5"
  }
 },
 "nbformat": 4,
 "nbformat_minor": 5
}
