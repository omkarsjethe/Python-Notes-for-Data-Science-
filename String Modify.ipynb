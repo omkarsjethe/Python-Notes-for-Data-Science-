{
 "cells": [
  {
   "cell_type": "markdown",
   "id": "c63fe343",
   "metadata": {},
   "source": [
    "Python has a set of built-in methods that you can use on strings."
   ]
  },
  {
   "cell_type": "markdown",
   "id": "98fa235d",
   "metadata": {},
   "source": [
    "# Upper Case\n",
    "\n",
    "\n",
    "The upper() method returns the string in upper case:"
   ]
  },
  {
   "cell_type": "code",
   "execution_count": 1,
   "id": "b736eeca",
   "metadata": {},
   "outputs": [
    {
     "name": "stdout",
     "output_type": "stream",
     "text": [
      "OMKAR JETHE\n"
     ]
    }
   ],
   "source": [
    "a = \"Omkar Jethe\"\n",
    "print(a.upper())"
   ]
  },
  {
   "cell_type": "markdown",
   "id": "d5e05140",
   "metadata": {},
   "source": [
    "# Lower Case\n",
    "The lower() method returns the string in lower case:"
   ]
  },
  {
   "cell_type": "code",
   "execution_count": 5,
   "id": "2e90ecb3",
   "metadata": {},
   "outputs": [
    {
     "name": "stdout",
     "output_type": "stream",
     "text": [
      "omkar jethe\n"
     ]
    }
   ],
   "source": [
    "a = \"OMKAR JETHE\"\n",
    "print(a.lower())"
   ]
  },
  {
   "cell_type": "markdown",
   "id": "393c113f",
   "metadata": {},
   "source": [
    "# Remove Whitespace\n",
    "Whitespace is the space before and/or after the actual text, and very often you want to remove this space.\n",
    "\n",
    "The strip() method removes any whitespace from the beginning or the end:"
   ]
  },
  {
   "cell_type": "code",
   "execution_count": 7,
   "id": "b7678888",
   "metadata": {},
   "outputs": [
    {
     "name": "stdout",
     "output_type": "stream",
     "text": [
      "Omkar Jethe!\n"
     ]
    }
   ],
   "source": [
    "a = \" Omkar Jethe! \"\n",
    "print(a.strip())"
   ]
  },
  {
   "cell_type": "markdown",
   "id": "620f79f8",
   "metadata": {},
   "source": [
    "# Replace String:\n",
    "The replace() method replaces a string with another string:"
   ]
  },
  {
   "cell_type": "code",
   "execution_count": 8,
   "id": "1de13cf6",
   "metadata": {},
   "outputs": [
    {
     "name": "stdout",
     "output_type": "stream",
     "text": [
      "Jello, World!\n"
     ]
    }
   ],
   "source": [
    "a = \"Hello, World!\"\n",
    "print(a.replace(\"H\", \"J\"))"
   ]
  },
  {
   "cell_type": "code",
   "execution_count": null,
   "id": "d4df07bf",
   "metadata": {},
   "outputs": [],
   "source": []
  }
 ],
 "metadata": {
  "kernelspec": {
   "display_name": "Python 3 (ipykernel)",
   "language": "python",
   "name": "python3"
  },
  "language_info": {
   "codemirror_mode": {
    "name": "ipython",
    "version": 3
   },
   "file_extension": ".py",
   "mimetype": "text/x-python",
   "name": "python",
   "nbconvert_exporter": "python",
   "pygments_lexer": "ipython3",
   "version": "3.11.4"
  }
 },
 "nbformat": 4,
 "nbformat_minor": 5
}
