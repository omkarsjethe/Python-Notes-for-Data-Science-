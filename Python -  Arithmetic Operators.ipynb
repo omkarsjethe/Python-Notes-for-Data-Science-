{
 "cells": [
  {
   "cell_type": "markdown",
   "id": "c456d855",
   "metadata": {},
   "source": [
    "# What are Operators in Python?\n",
    "Python and other programming languages provide different type of operators which are symbols (sometimes called keywords) and used to perform a certain most commonly required operations on one or more operands. Operators allow different operations like addition, subtraction, multiplication, division etc."
   ]
  },
  {
   "cell_type": "markdown",
   "id": "ccae439d",
   "metadata": {},
   "source": [
    "# Types of Operators in Python\n",
    "\n",
    "Python language supports the following types of operators −\n",
    "\n",
    "Arithmetic Operators\n",
    "\n",
    "Comparison (Relational) Operators\n",
    "\n",
    "Assignment Operators\n",
    "\n",
    "Logical Operators\n",
    "\n",
    "Bitwise Operators\n",
    "\n",
    "Membership Operators\n",
    "\n",
    "Identity Operators\n",
    "\n",
    "Let us have a look at all the operators one by one."
   ]
  },
  {
   "cell_type": "markdown",
   "id": "d17a8374",
   "metadata": {},
   "source": [
    "# Python - Arithmetic Operators\n",
    "In Python, numbers are the most frequently used data type. Python uses the same symbols for basic arithmetic operations Everybody is familiar with, i.e., \"+\" for addition, \"-\" for subtraction, \"*\" for multiplication (most programming languages use \"*\" instead of the \"x\" as used in maths/algebra), and \"/\" for division (again for the \"÷\" used in Mathematics).\n",
    "\n",
    "In addition, Python defines few more arithmetic operators. They are \"%\" (Modulus), \"**\" (Exponent) and \"//\" (Floor division).\n",
    "\n",
    "Arithmetic operators are binary operators in the sense they operate on two operands. Python fully supports mixed arithmetic. That is, the two operands can be of two different number types. In such a situation, Python widens the narrower of the operands. An integer object is narrower than float object, and float is narrower than complex object. Hence, the result of arithmetic operation of int and a float is a float. Result of float and a complex is a complex number, similarly, operation on an integer and a complex object results in a complex object.\n",
    "\n"
   ]
  },
  {
   "cell_type": "markdown",
   "id": "6028ff8c",
   "metadata": {},
   "source": [
    "# Operator\tName\tExample\n",
    "\n",
    "+\tAddition\ta + b = 30\n",
    "\n",
    "-\tSubtraction\ta – b = -10\n",
    "\n",
    "*\tMultiplication\ta * b = 200\n",
    "\n",
    "/\tDivision\tb / a = 2\n",
    "\n",
    "%\tModulus\tb % a = 0\n",
    "\n",
    "**\tExponent\ta**b =10**20\n",
    "\n",
    "//\tFloor Division\t9//2 = 4"
   ]
  },
  {
   "cell_type": "code",
   "execution_count": 3,
   "id": "f3d4fd4f",
   "metadata": {},
   "outputs": [
    {
     "name": "stdout",
     "output_type": "stream",
     "text": [
      "Addition of two integers\n",
      "a = 10 b = 20 addition = 30\n"
     ]
    }
   ],
   "source": [
    "a=10\n",
    "b=20\n",
    "print (\"Addition of two integers\")\n",
    "print (\"a =\",a,\"b =\",b,\"addition =\",a+b)"
   ]
  },
  {
   "cell_type": "code",
   "execution_count": 4,
   "id": "bc290b23",
   "metadata": {},
   "outputs": [
    {
     "name": "stdout",
     "output_type": "stream",
     "text": [
      "Addition of integer and float\n",
      "a = 10 b = 20.5 addition = 30.5\n"
     ]
    }
   ],
   "source": [
    "a=10\n",
    "b=20.5\n",
    "print (\"Addition of integer and float\")\n",
    "print (\"a =\",a,\"b =\",b,\"addition =\",a+b)"
   ]
  },
  {
   "cell_type": "code",
   "execution_count": 7,
   "id": "93946172",
   "metadata": {},
   "outputs": [
    {
     "name": "stdout",
     "output_type": "stream",
     "text": [
      "Addition of complex and float\n",
      "a= (10+5j) b= 20.6 addition= (30.6+9j)\n"
     ]
    }
   ],
   "source": [
    "a=10+5j\n",
    "b=20.6\n",
    "c=4j\n",
    "print (\"Addition of complex and float\")\n",
    "print (\"a=\",a,\"b=\",b,\"addition=\",a+b+c)"
   ]
  },
  {
   "cell_type": "markdown",
   "id": "21d1d781",
   "metadata": {},
   "source": [
    "# Python − Subtraction Operator (-)\n",
    "This operator, known as minus, subtracts the second operand from the first. The resultant number is negative if the second operand is larger.\n",
    "\n",
    "First example shows subtraction of two integers."
   ]
  },
  {
   "cell_type": "code",
   "execution_count": 8,
   "id": "6922246b",
   "metadata": {},
   "outputs": [
    {
     "name": "stdout",
     "output_type": "stream",
     "text": [
      "Subtraction of two integers:\n",
      "a = 10 b = 20 a-b = -10\n",
      "a = 10 b = 20 b-a = 10\n"
     ]
    }
   ],
   "source": [
    "a=10\n",
    "b=20\n",
    "print (\"Subtraction of two integers:\")\n",
    "print (\"a =\",a,\"b =\",b,\"a-b =\",a-b)\n",
    "print (\"a =\",a,\"b =\",b,\"b-a =\",b-a)"
   ]
  },
  {
   "cell_type": "code",
   "execution_count": 9,
   "id": "1a612917",
   "metadata": {},
   "outputs": [
    {
     "name": "stdout",
     "output_type": "stream",
     "text": [
      "subtraction of integer and float\n",
      "a= 10 b= 20.5 a-b= -10.5\n",
      "a= 10 b= 20.5 b-a= 10.5\n"
     ]
    }
   ],
   "source": [
    "a=10\n",
    "b=20.5\n",
    "print (\"subtraction of integer and float\")\n",
    "print (\"a=\",a,\"b=\",b,\"a-b=\",a-b)\n",
    "print (\"a=\",a,\"b=\",b,\"b-a=\",b-a)"
   ]
  },
  {
   "cell_type": "code",
   "execution_count": 10,
   "id": "9fcaf57b",
   "metadata": {},
   "outputs": [
    {
     "name": "stdout",
     "output_type": "stream",
     "text": [
      "subtraction of complex and float\n",
      "a= (10+5j) b= 20.5 a-b= (-10.5+5j)\n",
      "a= (10+5j) b= 20.5 b-a= (10.5-5j)\n"
     ]
    }
   ],
   "source": [
    "a=10+5j\n",
    "b=20.5\n",
    "print (\"subtraction of complex and float\")\n",
    "print (\"a=\",a,\"b=\",b,\"a-b=\",a-b)\n",
    "print (\"a=\",a,\"b=\",b,\"b-a=\",b-a)"
   ]
  },
  {
   "cell_type": "markdown",
   "id": "b291dc6d",
   "metadata": {},
   "source": [
    "# Python − Multiplication Operator (*)\n",
    "The * (asterisk) symbol is defined as a multiplication operator in Python (as in many languages). It returns the product of the two operands on its either side. If any of the operands negative, the result is also negative. If both are negative, the result is positive. Changing the order of operands doesn't change the result\n",
    "\n"
   ]
  },
  {
   "cell_type": "code",
   "execution_count": 12,
   "id": "6a94b254",
   "metadata": {},
   "outputs": [
    {
     "name": "stdout",
     "output_type": "stream",
     "text": [
      "Multiplication of two integers\n",
      "a = 10 b = 20 a*b = 200\n"
     ]
    }
   ],
   "source": [
    "a=10\n",
    "b=20\n",
    "print (\"Multiplication of two integers\")\n",
    "print (\"a =\",a,\"b =\",b,\"a*b =\",a*b)"
   ]
  },
  {
   "cell_type": "code",
   "execution_count": 13,
   "id": "d488c938",
   "metadata": {},
   "outputs": [
    {
     "name": "stdout",
     "output_type": "stream",
     "text": [
      "Multiplication of integer and float\n",
      "a= 10 b= 20.5 a*b= 205.0\n",
      "Multiplication of float and float\n",
      "a = -5.55 b = 0.00675 a*b = -0.037462499999999996\n"
     ]
    }
   ],
   "source": [
    "a=10\n",
    "b=20.5\n",
    "print (\"Multiplication of integer and float\")\n",
    "print (\"a=\",a,\"b=\",b,\"a*b=\",a*b)\n",
    "\n",
    "a=-5.55\n",
    "b=6.75E-3\n",
    "print (\"Multiplication of float and float\")\n",
    "print (\"a =\",a,\"b =\",b,\"a*b =\",a*b)"
   ]
  },
  {
   "cell_type": "code",
   "execution_count": 14,
   "id": "29b8eb3a",
   "metadata": {},
   "outputs": [
    {
     "name": "stdout",
     "output_type": "stream",
     "text": [
      "Multiplication of complex and float\n",
      "a = (10+5j) b = 20.5 a*b = (205+102.5j)\n"
     ]
    }
   ],
   "source": [
    "a=10+5j\n",
    "b=20.5\n",
    "print (\"Multiplication of complex and float\")\n",
    "print (\"a =\",a,\"b =\",b,\"a*b =\",a*b)"
   ]
  },
  {
   "cell_type": "markdown",
   "id": "f837b58f",
   "metadata": {},
   "source": [
    "# Python − Division Operator (/)\n",
    "The \"/\" symbol is usually called as forward slash. The result of division operator is numerator (left operand) divided by denominator (right operand). The resultant number is negative if any of the operands is negative. Since infinity cannot be stored in the memory, Python raises ZeroDivisionError if the denominator is 0."
   ]
  },
  {
   "cell_type": "code",
   "execution_count": 15,
   "id": "3c517fd3",
   "metadata": {},
   "outputs": [
    {
     "name": "stdout",
     "output_type": "stream",
     "text": [
      "Division of two integers\n",
      "a= 10 b= 20 a/b= 0.5\n",
      "a= 10 b= 20 b/a= 2.0\n"
     ]
    }
   ],
   "source": [
    "a=10\n",
    "b=20\n",
    "print (\"Division of two integers\")\n",
    "print (\"a=\",a,\"b=\",b,\"a/b=\",a/b)\n",
    "print (\"a=\",a,\"b=\",b,\"b/a=\",b/a)"
   ]
  },
  {
   "cell_type": "code",
   "execution_count": 16,
   "id": "6e112ba7",
   "metadata": {},
   "outputs": [
    {
     "name": "stdout",
     "output_type": "stream",
     "text": [
      "Division of integer and float\n",
      "a= 10 b= -20.5 a/b= -0.4878048780487805\n",
      "Division of float and float\n",
      "a= -2.5 b= 125.0 a/b= -0.02\n"
     ]
    }
   ],
   "source": [
    "a=10\n",
    "b=-20.5\n",
    "print (\"Division of integer and float\")\n",
    "print (\"a=\",a,\"b=\",b,\"a/b=\",a/b)\n",
    "a=-2.50\n",
    "b=1.25E2\n",
    "print (\"Division of float and float\")\n",
    "print (\"a=\",a,\"b=\",b,\"a/b=\",a/b)"
   ]
  },
  {
   "cell_type": "code",
   "execution_count": 17,
   "id": "b49e2e16",
   "metadata": {},
   "outputs": [
    {
     "name": "stdout",
     "output_type": "stream",
     "text": [
      "Division of complex and float\n",
      "a = (7.5+7.5j) b = 2.5 a/b = (3+3j)\n",
      "a = (7.5+7.5j) b = 2.5 b/a = (0.16666666666666666-0.16666666666666666j)\n"
     ]
    }
   ],
   "source": [
    "a=7.5+7.5j\n",
    "b=2.5\n",
    "print (\"Division of complex and float\")\n",
    "print (\"a =\",a,\"b =\",b,\"a/b =\",a/b)\n",
    "print (\"a =\",a,\"b =\",b,\"b/a =\",b/a)"
   ]
  },
  {
   "cell_type": "code",
   "execution_count": 18,
   "id": "d4114c50",
   "metadata": {},
   "outputs": [
    {
     "name": "stdout",
     "output_type": "stream",
     "text": [
      "a= 0 b= 2.5 a/b= 0.0\n"
     ]
    },
    {
     "ename": "ZeroDivisionError",
     "evalue": "float division by zero",
     "output_type": "error",
     "traceback": [
      "\u001b[0;31m---------------------------------------------------------------------------\u001b[0m",
      "\u001b[0;31mZeroDivisionError\u001b[0m                         Traceback (most recent call last)",
      "Cell \u001b[0;32mIn[18], line 4\u001b[0m\n\u001b[1;32m      2\u001b[0m b\u001b[38;5;241m=\u001b[39m\u001b[38;5;241m2.5\u001b[39m\n\u001b[1;32m      3\u001b[0m \u001b[38;5;28mprint\u001b[39m (\u001b[38;5;124m\"\u001b[39m\u001b[38;5;124ma=\u001b[39m\u001b[38;5;124m\"\u001b[39m,a,\u001b[38;5;124m\"\u001b[39m\u001b[38;5;124mb=\u001b[39m\u001b[38;5;124m\"\u001b[39m,b,\u001b[38;5;124m\"\u001b[39m\u001b[38;5;124ma/b=\u001b[39m\u001b[38;5;124m\"\u001b[39m,a\u001b[38;5;241m/\u001b[39mb)\n\u001b[0;32m----> 4\u001b[0m \u001b[38;5;28mprint\u001b[39m (\u001b[38;5;124m\"\u001b[39m\u001b[38;5;124ma=\u001b[39m\u001b[38;5;124m\"\u001b[39m,a,\u001b[38;5;124m\"\u001b[39m\u001b[38;5;124mb=\u001b[39m\u001b[38;5;124m\"\u001b[39m,b,\u001b[38;5;124m\"\u001b[39m\u001b[38;5;124mb/a=\u001b[39m\u001b[38;5;124m\"\u001b[39m,b\u001b[38;5;241m/\u001b[39ma)\n",
      "\u001b[0;31mZeroDivisionError\u001b[0m: float division by zero"
     ]
    }
   ],
   "source": [
    "a=0\n",
    "b=2.5\n",
    "print (\"a=\",a,\"b=\",b,\"a/b=\",a/b)\n",
    "print (\"a=\",a,\"b=\",b,\"b/a=\",b/a)"
   ]
  },
  {
   "cell_type": "markdown",
   "id": "fdee8319",
   "metadata": {},
   "source": [
    "# Python − Modulus Operator (%)\n",
    "Python defines the \"%\" symbol, which is known aa Percent symbol, as Modulus (or modulo) operator. It returns the remainder after the denominator divides the numerator. It can also be called Remainder operator. The result of the modulus operator is the number that remains after the integer quotient. To give an example, when 10 is divided by 3, the quotient is 3 and remainder is 1. Hence, 10%3 (normally pronounced as 10 mod 3) results in 1.\n",
    "\n",
    "If both the operands are integer, the modulus value is an integer. If numerator is completely divisible, remainder is 0. If numerator is smaller than denominator, modulus is equal to the numerator. If denominator is 0, Python raises ZeroDivisionError."
   ]
  },
  {
   "cell_type": "code",
   "execution_count": 19,
   "id": "5d3d3672",
   "metadata": {},
   "outputs": [
    {
     "name": "stdout",
     "output_type": "stream",
     "text": [
      "a= 10 b= 2 a%b= 0\n",
      "a= 10 b= 4 a%b= 2\n",
      "a= 10 b= 4 b%a= 4\n",
      "a= 0 b= 10 a%b= 0\n"
     ]
    },
    {
     "ename": "ZeroDivisionError",
     "evalue": "integer modulo by zero",
     "output_type": "error",
     "traceback": [
      "\u001b[0;31m---------------------------------------------------------------------------\u001b[0m",
      "\u001b[0;31mZeroDivisionError\u001b[0m                         Traceback (most recent call last)",
      "Cell \u001b[0;32mIn[19], line 11\u001b[0m\n\u001b[1;32m      9\u001b[0m b\u001b[38;5;241m=\u001b[39m\u001b[38;5;241m10\u001b[39m\n\u001b[1;32m     10\u001b[0m \u001b[38;5;28mprint\u001b[39m (\u001b[38;5;124m\"\u001b[39m\u001b[38;5;124ma=\u001b[39m\u001b[38;5;124m\"\u001b[39m,a, \u001b[38;5;124m\"\u001b[39m\u001b[38;5;124mb=\u001b[39m\u001b[38;5;124m\"\u001b[39m,b, \u001b[38;5;124m\"\u001b[39m\u001b[38;5;124ma\u001b[39m\u001b[38;5;124m%\u001b[39m\u001b[38;5;124mb=\u001b[39m\u001b[38;5;124m\"\u001b[39m, a\u001b[38;5;241m%\u001b[39mb)\n\u001b[0;32m---> 11\u001b[0m \u001b[38;5;28mprint\u001b[39m (\u001b[38;5;124m\"\u001b[39m\u001b[38;5;124ma=\u001b[39m\u001b[38;5;124m\"\u001b[39m, a, \u001b[38;5;124m\"\u001b[39m\u001b[38;5;124mb=\u001b[39m\u001b[38;5;124m\"\u001b[39m, b, \u001b[38;5;124m\"\u001b[39m\u001b[38;5;124mb\u001b[39m\u001b[38;5;132;01m%a\u001b[39;00m\u001b[38;5;124m=\u001b[39m\u001b[38;5;124m\"\u001b[39m,b\u001b[38;5;241m%\u001b[39ma)\n",
      "\u001b[0;31mZeroDivisionError\u001b[0m: integer modulo by zero"
     ]
    }
   ],
   "source": [
    "a=10\n",
    "b=2\n",
    "print (\"a=\",a, \"b=\",b, \"a%b=\", a%b)\n",
    "a=10\n",
    "b=4\n",
    "print (\"a=\",a, \"b=\",b, \"a%b=\", a%b)\n",
    "print (\"a=\",a, \"b=\",b, \"b%a=\", b%a)\n",
    "a=0\n",
    "b=10\n",
    "print (\"a=\",a, \"b=\",b, \"a%b=\", a%b)\n",
    "print (\"a=\", a, \"b=\", b, \"b%a=\",b%a)"
   ]
  },
  {
   "cell_type": "code",
   "execution_count": 20,
   "id": "c5297f36",
   "metadata": {},
   "outputs": [
    {
     "name": "stdout",
     "output_type": "stream",
     "text": [
      "a= 10 b= 2.5 a%b= 0.0\n",
      "a= 10 b= 1.5 a%b= 1.0\n",
      "a= 7.7 b= 2.5 a%b= 0.20000000000000018\n",
      "a= 12.4 b= 3 a%b= 0.40000000000000036\n"
     ]
    }
   ],
   "source": [
    "a=10\n",
    "b=2.5\n",
    "print (\"a=\",a, \"b=\",b, \"a%b=\", a%b)\n",
    "a=10\n",
    "b=1.5\n",
    "print (\"a=\",a, \"b=\",b, \"a%b=\", a%b)\n",
    "a=7.7\n",
    "b=2.5\n",
    "print (\"a=\",a, \"b=\",b, \"a%b=\", a%b)\n",
    "a=12.4\n",
    "b=3\n",
    "print (\"a=\",a, \"b=\",b, \"a%b=\", a%b)"
   ]
  },
  {
   "cell_type": "markdown",
   "id": "b6ca3b66",
   "metadata": {},
   "source": [
    "# Python − Exponent Operator (**)\n",
    "Python uses ** (double asterisk) as the exponent operator (sometimes called raised to operator). So, for a**b, you say a raised to b, or even bth power of a.\n",
    "\n",
    "If in the exponentiation expression, both operands are integer, result is also an integer. In case either one is a float, the result is float. Similarly, if either one operand is complex number, exponent operator returns a complex number.\n",
    "\n",
    "If the base is 0, the result is 0, and if the index is 0 then the result is always 1."
   ]
  },
  {
   "cell_type": "code",
   "execution_count": 21,
   "id": "c7eb5a78",
   "metadata": {},
   "outputs": [
    {
     "name": "stdout",
     "output_type": "stream",
     "text": [
      "a= 10 b= 2 a**b= 100\n",
      "a= 10 b= 1.5 a**b= 31.622776601683793\n",
      "a= 7.7 b= 2 a**b= 59.290000000000006\n",
      "a= (1+2j) b= 4 a**b= (-7-24j)\n",
      "a= 12.4 b= 0 a**b= 1.0\n",
      "a= 12.4 b= 0 b**a= 0.0\n"
     ]
    }
   ],
   "source": [
    "a=10\n",
    "b=2\n",
    "print (\"a=\",a, \"b=\",b, \"a**b=\", a**b)\n",
    "a=10\n",
    "b=1.5\n",
    "print (\"a=\",a, \"b=\",b, \"a**b=\", a**b)\n",
    "a=7.7\n",
    "b=2\n",
    "print (\"a=\",a, \"b=\",b, \"a**b=\", a**b)\n",
    "a=1+2j\n",
    "b=4\n",
    "print (\"a=\",a, \"b=\",b, \"a**b=\", a**b)\n",
    "a=12.4\n",
    "b=0\n",
    "print (\"a=\",a, \"b=\",b, \"a**b=\", a**b)\n",
    "print (\"a=\",a, \"b=\",b, \"b**a=\", b**a)"
   ]
  },
  {
   "cell_type": "markdown",
   "id": "03cd1cfd",
   "metadata": {},
   "source": [
    "# Python − Floor Division Operator (//)\n",
    "Floor division is also called as integer division. Python uses // (double forward slash) symbol for the purpose. Unlike the modulus or modulo which returns the remainder, the floor division gives the quotient of the division of operands involved.\n",
    "\n",
    "If both operands are positive, floor operator returns a number with fractional part removed from it. For example, the floor division of 9.8 by 2 returns 4 (pure division is 4.9, strip the fractional part, result is 4).\n",
    "\n",
    "But if one of the operands is negative, the result is rounded away from zero (towards negative infinity). Floor division of -9.8 by 2 returns 5 (pure division is -4.9, rounded away from 0)."
   ]
  },
  {
   "cell_type": "code",
   "execution_count": 22,
   "id": "8cb14f24",
   "metadata": {},
   "outputs": [
    {
     "name": "stdout",
     "output_type": "stream",
     "text": [
      "a= 9 b= 2 a//b= 4\n",
      "a= 9 b= -2 a//b= -5\n",
      "a= 10 b= 1.5 a//b= 6.0\n",
      "a= -10 b= 1.5 a//b= -7.0\n"
     ]
    }
   ],
   "source": [
    "a=9\n",
    "b=2\n",
    "print (\"a=\",a, \"b=\",b, \"a//b=\", a//b)\n",
    "a=9\n",
    "b=-2\n",
    "print (\"a=\",a, \"b=\",b, \"a//b=\", a//b)\n",
    "a=10\n",
    "b=1.5\n",
    "print (\"a=\",a, \"b=\",b, \"a//b=\", a//b)\n",
    "a=-10\n",
    "b=1.5\n",
    "print (\"a=\",a, \"b=\",b, \"a//b=\", a//b)"
   ]
  },
  {
   "cell_type": "markdown",
   "id": "b78610cd",
   "metadata": {},
   "source": [
    "# Python − Complex Number Arithmetic\n",
    "Arithmetic operators behave slightly differently when the both operands are complex number objects.\n",
    "\n",
    "Addition and subtraction of complex numbers is a simple addition/subtraction of respective real and imaginary components."
   ]
  },
  {
   "cell_type": "code",
   "execution_count": 23,
   "id": "e81d19f2",
   "metadata": {},
   "outputs": [
    {
     "name": "stdout",
     "output_type": "stream",
     "text": [
      "Addition of complex numbers - a= (2.5+3.4j) b= (-3+1j) a+b= (-0.5+4.4j)\n",
      "Subtraction of complex numbers - a= (2.5+3.4j) b= (-3+1j) a-b= (5.5+2.4j)\n"
     ]
    }
   ],
   "source": [
    "a=2.5+3.4j\n",
    "b=-3+1.0j\n",
    "print (\"Addition of complex numbers - a=\",a, \"b=\",b, \"a+b=\", a+b)\n",
    "print (\"Subtraction of complex numbers - a=\",a, \"b=\",b, \"a-b=\", a-b)"
   ]
  },
  {
   "cell_type": "code",
   "execution_count": 24,
   "id": "87b2c2b5",
   "metadata": {},
   "outputs": [
    {
     "name": "stdout",
     "output_type": "stream",
     "text": [
      "Multplication of complex numbers - a= (6+4j) b= (3+2j) a*b= (10+24j)\n"
     ]
    }
   ],
   "source": [
    "a=6+4j\n",
    "b=3+2j\n",
    "print (\"Multplication of complex numbers - a=\",a, \"b=\",b, \"a*b=\", a*b)"
   ]
  },
  {
   "cell_type": "code",
   "execution_count": null,
   "id": "abf9c17a",
   "metadata": {},
   "outputs": [],
   "source": []
  }
 ],
 "metadata": {
  "kernelspec": {
   "display_name": "Python 3 (ipykernel)",
   "language": "python",
   "name": "python3"
  },
  "language_info": {
   "codemirror_mode": {
    "name": "ipython",
    "version": 3
   },
   "file_extension": ".py",
   "mimetype": "text/x-python",
   "name": "python",
   "nbconvert_exporter": "python",
   "pygments_lexer": "ipython3",
   "version": "3.11.5"
  }
 },
 "nbformat": 4,
 "nbformat_minor": 5
}
