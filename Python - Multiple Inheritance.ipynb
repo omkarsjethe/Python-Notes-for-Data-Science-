{
 "cells": [
  {
   "cell_type": "markdown",
   "id": "1b2b6331",
   "metadata": {},
   "source": [
    "# Python Multiple Inheritance\n",
    "A class can be derived from more than one superclass in Python. This is called multiple inheritance.\n",
    "\n",
    "For example, a class Bat is derived from superclasses Mammal and WingedAnimal.\n",
    "\n",
    "It makes sense because bat is a mammal as well as a winged animal."
   ]
  },
  {
   "cell_type": "code",
   "execution_count": 1,
   "id": "6a4cc09b",
   "metadata": {},
   "outputs": [
    {
     "name": "stdout",
     "output_type": "stream",
     "text": [
      "it is a bike company\n",
      "it is car company\n"
     ]
    }
   ],
   "source": [
    "class car :\n",
    "    def carinfo(self):\n",
    "        print(\"it is car company\")\n",
    "\n",
    "class bike:\n",
    "    def bikeinfo(self):\n",
    "        print(\"it is a bike company\")\n",
    "\n",
    "class bmw(car,bike):\n",
    "    pass\n",
    "\n",
    "b1=bmw()\n",
    "\n",
    "b1.bikeinfo()\n",
    "b1.carinfo()"
   ]
  },
  {
   "cell_type": "code",
   "execution_count": 2,
   "id": "16788ea9",
   "metadata": {},
   "outputs": [
    {
     "name": "stdout",
     "output_type": "stream",
     "text": [
      "Mammals can give direct birth.\n",
      "Winged animals can flap.\n"
     ]
    }
   ],
   "source": [
    "class Mammal:\n",
    "    def mammal_info(self):\n",
    "        print(\"Mammals can give direct birth.\")\n",
    "\n",
    "class WingedAnimal:\n",
    "    def winged_animal_info(self):\n",
    "        print(\"Winged animals can flap.\")\n",
    "\n",
    "class Bat(Mammal, WingedAnimal):\n",
    "    pass\n",
    "\n",
    "# create an object of Bat class\n",
    "b1 = Bat()\n",
    "\n",
    "b1.mammal_info()\n",
    "b1.winged_animal_info()"
   ]
  },
  {
   "cell_type": "code",
   "execution_count": null,
   "id": "7a74e8ec",
   "metadata": {},
   "outputs": [],
   "source": []
  }
 ],
 "metadata": {
  "kernelspec": {
   "display_name": "Python 3 (ipykernel)",
   "language": "python",
   "name": "python3"
  },
  "language_info": {
   "codemirror_mode": {
    "name": "ipython",
    "version": 3
   },
   "file_extension": ".py",
   "mimetype": "text/x-python",
   "name": "python",
   "nbconvert_exporter": "python",
   "pygments_lexer": "ipython3",
   "version": "3.11.5"
  }
 },
 "nbformat": 4,
 "nbformat_minor": 5
}
