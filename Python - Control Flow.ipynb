{
 "cells": [
  {
   "cell_type": "markdown",
   "id": "7d654975",
   "metadata": {},
   "source": [
    "# Python - Control Flow"
   ]
  },
  {
   "cell_type": "markdown",
   "id": "60d43cfe",
   "metadata": {},
   "source": [
    "Python program control flow is regulated by various types of conditional statements, loops, and function calls. By default, the instructions in a computer program are executed in a sequential manner, from top to bottom, or from start to end. However, such sequentially executing programs can perform only simplistic tasks. We would like the program to have a decision-making ability, so that it performs different steps depending on different conditions.\n",
    "\n",
    "Most programming languages including Python provide functionality to control the flow of execution of instructions. Normally, there are two type of control flow statements in any programming language and Python also supports them."
   ]
  },
  {
   "cell_type": "markdown",
   "id": "2cc2b919",
   "metadata": {},
   "source": [
    "## The if Statement\n",
    "Python provides if..elif..else control statements as a part of decision marking. Following is a simple example which makes use of if..elif..else. You can try to run this program using different marks and verify the result."
   ]
  },
  {
   "cell_type": "code",
   "execution_count": 1,
   "id": "c3a3443c",
   "metadata": {},
   "outputs": [
    {
     "name": "stdout",
     "output_type": "stream",
     "text": [
      "Passed with distinction\n"
     ]
    }
   ],
   "source": [
    "marks = 80 \n",
    "result = \"\"\n",
    "if marks < 30:\n",
    "   result = \"Failed\"\n",
    "elif marks > 75:\n",
    "   result = \"Passed with distinction\"\n",
    "else:\n",
    "   result = \"Passed\"\n",
    "\n",
    "print(result)"
   ]
  },
  {
   "cell_type": "code",
   "execution_count": 6,
   "id": "c10084b6",
   "metadata": {},
   "outputs": [
    {
     "name": "stdout",
     "output_type": "stream",
     "text": [
      "Enter the Number 45\n",
      "the number 45 is odd number\n"
     ]
    }
   ],
   "source": [
    "num=int(input(\"Enter the Number \"))\n",
    "\n",
    "if num %2 == 0:\n",
    "    print(f\"the number {num} is Even number\")\n",
    "else :\n",
    "    print(f\"the number {num} is odd number\")"
   ]
  },
  {
   "cell_type": "code",
   "execution_count": 9,
   "id": "88df1b28",
   "metadata": {},
   "outputs": [
    {
     "name": "stdout",
     "output_type": "stream",
     "text": [
      "Enter the Number 12\n",
      "12 is divisble by 3\n"
     ]
    }
   ],
   "source": [
    "num=int(input(\"Enter the Number \"))\n",
    "\n",
    "if num%3==0:\n",
    "    print(f\"{num} is divisble by 3\")\n",
    "else:\n",
    "     print(f\"{num} is not divisble by 3\")"
   ]
  },
  {
   "cell_type": "code",
   "execution_count": 11,
   "id": "f4f5f0b1",
   "metadata": {},
   "outputs": [
    {
     "name": "stdout",
     "output_type": "stream",
     "text": [
      "Enter the Number 13\n",
      "13 is not divisble by 3 and 4\n"
     ]
    }
   ],
   "source": [
    "num=int(input(\"Enter the Number \"))\n",
    "\n",
    "if num % 3==0 and num%4==0:\n",
    "    print(f\"{num} is divisble by 3 and 4\")\n",
    "else:\n",
    "     print(f\"{num} is not divisble by 3 and 4\")"
   ]
  },
  {
   "cell_type": "code",
   "execution_count": 13,
   "id": "6b2aade0",
   "metadata": {},
   "outputs": [
    {
     "name": "stdout",
     "output_type": "stream",
     "text": [
      "Enter the Number 45\n",
      "Enter the Number 5\n",
      "Enter the Number 6\n",
      "45 is not  divisble by 5 and 6\n"
     ]
    }
   ],
   "source": [
    "numt=int(input(\"Enter the Number \"))\n",
    "num1=int(input(\"Enter the Number \"))\n",
    "num2=int(input(\"Enter the Number \"))\n",
    "\n",
    "if numt%num1==0 and numt%num2==0:\n",
    "    print(f\"{numt} is divisble by {num1} and {num2}\")\n",
    "else:\n",
    "    print(f\"{numt} is not  divisble by {num1} and {num2}\")"
   ]
  },
  {
   "cell_type": "markdown",
   "id": "dffcc305",
   "metadata": {},
   "source": [
    "## The match Statement\n",
    "Python supports Match-Case statement, which can also be used as a part of decision making. Following is a simple example which makes use of match statement."
   ]
  },
  {
   "cell_type": "code",
   "execution_count": 18,
   "id": "7eec47c9",
   "metadata": {},
   "outputs": [
    {
     "name": "stdout",
     "output_type": "stream",
     "text": [
      "Vowel alphabet\n",
      "Simple alphabet\n",
      "Vowel alphabet\n"
     ]
    }
   ],
   "source": [
    "def checkVowel(n):\n",
    "   match n:\n",
    "      case 'a': return \"Vowel alphabet\"\n",
    "      case 'e': return \"Vowel alphabet\"\n",
    "      case 'i': return \"Vowel alphabet\"\n",
    "      case 'o': return \"Vowel alphabet\"\n",
    "      case 'u': return \"Vowel alphabet\"\n",
    "      case _: return \"Simple alphabet\"\n",
    "print (checkVowel('a'))\n",
    "print (checkVowel('m'))\n",
    "print (checkVowel('o'))"
   ]
  },
  {
   "cell_type": "markdown",
   "id": "870f0889",
   "metadata": {},
   "source": [
    "## Decision-making Statements\n",
    "Decision making statements are used in the Python programs to make them able to decide which of the alternative group of instructions to be executed, depending on value of a certain Boolean expression."
   ]
  },
  {
   "cell_type": "code",
   "execution_count": null,
   "id": "6fade57e",
   "metadata": {},
   "outputs": [],
   "source": []
  },
  {
   "cell_type": "markdown",
   "id": "5b77a8c1",
   "metadata": {},
   "source": [
    "## Loops or Iteration Statements\n",
    "Most of the processes require a group of instructions to be repeatedly executed. In programming terminology, it is called a loop. Instead of the next step, if the flow is redirected towards any earlier step, it constitutes a loop."
   ]
  },
  {
   "cell_type": "code",
   "execution_count": 19,
   "id": "b408e9c9",
   "metadata": {},
   "outputs": [
    {
     "name": "stdout",
     "output_type": "stream",
     "text": [
      "one\n",
      "two\n",
      "three\n"
     ]
    }
   ],
   "source": [
    "words = [\"one\", \"two\", \"three\"]\n",
    "for x in words:\n",
    "  print(x)"
   ]
  },
  {
   "cell_type": "code",
   "execution_count": 20,
   "id": "6ed50c14",
   "metadata": {},
   "outputs": [
    {
     "name": "stdout",
     "output_type": "stream",
     "text": [
      "Omkar\n",
      "Asmita\n",
      "Durgasai\n"
     ]
    }
   ],
   "source": [
    "a=['Omkar','Asmita','Durgasai']\n",
    "for i in a:\n",
    "    print(i)"
   ]
  },
  {
   "cell_type": "code",
   "execution_count": 21,
   "id": "57b3bb86",
   "metadata": {},
   "outputs": [
    {
     "name": "stdout",
     "output_type": "stream",
     "text": [
      "1\n",
      "2\n",
      "3\n",
      "4\n",
      "5\n"
     ]
    }
   ],
   "source": [
    "i = 1\n",
    "while i < 6:\n",
    "  print(i)\n",
    "  i += 1"
   ]
  },
  {
   "cell_type": "code",
   "execution_count": null,
   "id": "d7019573",
   "metadata": {},
   "outputs": [],
   "source": []
  }
 ],
 "metadata": {
  "kernelspec": {
   "display_name": "Python 3 (ipykernel)",
   "language": "python",
   "name": "python3"
  },
  "language_info": {
   "codemirror_mode": {
    "name": "ipython",
    "version": 3
   },
   "file_extension": ".py",
   "mimetype": "text/x-python",
   "name": "python",
   "nbconvert_exporter": "python",
   "pygments_lexer": "ipython3",
   "version": "3.11.5"
  }
 },
 "nbformat": 4,
 "nbformat_minor": 5
}
