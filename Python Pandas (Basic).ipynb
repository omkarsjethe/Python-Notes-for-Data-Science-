{
 "cells": [
  {
   "cell_type": "markdown",
   "id": "e778ed7e",
   "metadata": {},
   "source": [
    "# What is Pandas?\n",
    "Pandas is a Python library used for working with data sets.\n",
    "\n",
    "It has functions for analyzing, cleaning, exploring, and manipulating data.\n",
    "\n",
    "The name \"Pandas\" has a reference to both \"Panel Data\", and \"Python Data Analysis\" and was created by Wes McKinney in 2008."
   ]
  },
  {
   "cell_type": "markdown",
   "id": "b5e2fd9b",
   "metadata": {},
   "source": [
    "# Import Pandas\n",
    "Once Pandas is installed, import it in your applications by adding the import keyword:\n",
    "\n",
    "import pandas"
   ]
  },
  {
   "cell_type": "code",
   "execution_count": 1,
   "id": "af3c8f78",
   "metadata": {},
   "outputs": [
    {
     "name": "stdout",
     "output_type": "stream",
     "text": [
      "Requirement already satisfied: pandas in c:\\users\\admin\\anaconda3\\lib\\site-packages (2.0.3)\n",
      "Requirement already satisfied: python-dateutil>=2.8.2 in c:\\users\\admin\\anaconda3\\lib\\site-packages (from pandas) (2.8.2)\n",
      "Requirement already satisfied: pytz>=2020.1 in c:\\users\\admin\\anaconda3\\lib\\site-packages (from pandas) (2023.3.post1)\n",
      "Requirement already satisfied: tzdata>=2022.1 in c:\\users\\admin\\anaconda3\\lib\\site-packages (from pandas) (2023.3)\n",
      "Requirement already satisfied: numpy>=1.21.0 in c:\\users\\admin\\anaconda3\\lib\\site-packages (from pandas) (1.24.3)\n",
      "Requirement already satisfied: six>=1.5 in c:\\users\\admin\\anaconda3\\lib\\site-packages (from python-dateutil>=2.8.2->pandas) (1.16.0)\n",
      "Note: you may need to restart the kernel to use updated packages.\n"
     ]
    }
   ],
   "source": [
    "pip install pandas "
   ]
  },
  {
   "cell_type": "code",
   "execution_count": 2,
   "id": "8fc98f31",
   "metadata": {},
   "outputs": [],
   "source": [
    "import pandas as pd"
   ]
  },
  {
   "cell_type": "code",
   "execution_count": 3,
   "id": "e56832be",
   "metadata": {},
   "outputs": [
    {
     "name": "stdout",
     "output_type": "stream",
     "text": [
      "0    1\n",
      "1    2\n",
      "2    3\n",
      "3    4\n",
      "4    5\n",
      "5    6\n",
      "6    7\n",
      "7    8\n",
      "8    9\n",
      "dtype: int64\n"
     ]
    }
   ],
   "source": [
    "a=[1,2,3,4,5,6,7,8,9]\n",
    "ser=pd.Series(a)\n",
    "print(ser)"
   ]
  },
  {
   "cell_type": "code",
   "execution_count": 4,
   "id": "2d9f1d82",
   "metadata": {},
   "outputs": [
    {
     "name": "stdout",
     "output_type": "stream",
     "text": [
      "{'Name': ['Omkar', 'Esha ', 'Yash', 'Anushree'], 'age ': [25, 24, 25, 25]}\n"
     ]
    }
   ],
   "source": [
    "a={\"Name\":[\"Omkar\",\"Esha \",\"Yash\",\"Anushree\"],\n",
    "  \"age \":[25,24,25,25]\n",
    "  }\n",
    "print(a)"
   ]
  },
  {
   "cell_type": "code",
   "execution_count": 5,
   "id": "90e2383a",
   "metadata": {},
   "outputs": [
    {
     "name": "stdout",
     "output_type": "stream",
     "text": [
      "Name    [Omkar, Esha , Yash, Anushree]\n",
      "age                   [25, 24, 25, 25]\n",
      "dtype: object\n"
     ]
    }
   ],
   "source": [
    "df=pd.Series(a)\n",
    "print(df)"
   ]
  },
  {
   "cell_type": "code",
   "execution_count": 6,
   "id": "11af8b78",
   "metadata": {},
   "outputs": [
    {
     "name": "stdout",
     "output_type": "stream",
     "text": [
      "       Name  age \n",
      "0     Omkar    25\n",
      "1     Esha     24\n",
      "2      Yash    25\n",
      "3  Anushree    25\n"
     ]
    }
   ],
   "source": [
    "df=pd.DataFrame(a)\n",
    "print(df)"
   ]
  },
  {
   "cell_type": "code",
   "execution_count": 7,
   "id": "977ef8a8",
   "metadata": {},
   "outputs": [
    {
     "name": "stdout",
     "output_type": "stream",
     "text": [
      "    Name  age        City\n",
      "0  Omkar    25     Mumbai\n",
      "1   Esha    25  Bengaluru\n",
      "2   Yash    25     Berlin\n"
     ]
    }
   ],
   "source": [
    "a={\"Name\":[\"Omkar\",\"Esha\",\"Yash\"],\n",
    "  \"age \":[25,25,25],\n",
    "   \"City\":[\"Mumbai\",\"Bengaluru\",\"Berlin\"]\n",
    "  }\n",
    "df=pd.DataFrame(a)\n",
    "print(df)"
   ]
  },
  {
   "cell_type": "code",
   "execution_count": 12,
   "id": "d56d2640",
   "metadata": {},
   "outputs": [
    {
     "name": "stdout",
     "output_type": "stream",
     "text": [
      "Even numbers are : [0, 12, 4, 6, 8, 10]\n",
      "Odd numbers are  :  [3, 5, 7, 9, 11]\n"
     ]
    }
   ],
   "source": [
    "def even_odd(numbers):\n",
    "    even_num=[]\n",
    "    odd_num=[]\n",
    "    \n",
    "    for number in numbers:\n",
    "        if number %2 ==0:\n",
    "            even_num.append(number)\n",
    "        else :\n",
    "            odd_num.append(number)\n",
    "        \n",
    "    return even_num,odd_num\n",
    "\n",
    "numbers=[0,12,3,4,5,6,7,8,9,10,11]  \n",
    "\n",
    "even_nums,odd_nums=even_odd(numbers)\n",
    "\n",
    "print(\"Even numbers are :\",even_nums)\n",
    "print(\"Odd numbers are  : \",odd_nums )"
   ]
  },
  {
   "cell_type": "code",
   "execution_count": 15,
   "id": "3cda26d8",
   "metadata": {},
   "outputs": [
    {
     "name": "stdout",
     "output_type": "stream",
     "text": [
      "0    1\n",
      "1    2\n",
      "2    3\n",
      "3    4\n",
      "4    5\n",
      "5    6\n",
      "dtype: int64\n"
     ]
    }
   ],
   "source": [
    "a=[1,2,3,4,5,6]\n",
    "ser=pd.Series(a)\n",
    "print(ser)"
   ]
  },
  {
   "cell_type": "code",
   "execution_count": 18,
   "id": "e6d7f73e",
   "metadata": {},
   "outputs": [
    {
     "name": "stdout",
     "output_type": "stream",
     "text": [
      "Day1    4500\n",
      "Day2     500\n",
      "Day3    2300\n",
      "Day4    2700\n",
      "dtype: int64\n"
     ]
    }
   ],
   "source": [
    "data={\"Day1\":4500,\"Day2\":500,\"Day3\":2300,\"Day4\":2700}\n",
    "calories=pd.Series(data)\n",
    "print(calories)"
   ]
  },
  {
   "cell_type": "code",
   "execution_count": 19,
   "id": "5a1de22c",
   "metadata": {},
   "outputs": [
    {
     "name": "stdout",
     "output_type": "stream",
     "text": [
      "   Day  Calories\n",
      "0    1      2300\n",
      "1    2      2345\n",
      "2    3      4500\n",
      "3    4      2500\n"
     ]
    }
   ],
   "source": [
    "calories={\"Day\":[1,2,3,4],\n",
    "          \"Calories\":[2300,2345,4500,2500]    \n",
    "}\n",
    "df=pd.DataFrame(calories)\n",
    "print(df)"
   ]
  },
  {
   "cell_type": "code",
   "execution_count": null,
   "id": "68de862b",
   "metadata": {},
   "outputs": [],
   "source": []
  }
 ],
 "metadata": {
  "kernelspec": {
   "display_name": "Python 3 (ipykernel)",
   "language": "python",
   "name": "python3"
  },
  "language_info": {
   "codemirror_mode": {
    "name": "ipython",
    "version": 3
   },
   "file_extension": ".py",
   "mimetype": "text/x-python",
   "name": "python",
   "nbconvert_exporter": "python",
   "pygments_lexer": "ipython3",
   "version": "3.11.5"
  }
 },
 "nbformat": 4,
 "nbformat_minor": 5
}
