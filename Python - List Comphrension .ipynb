{
 "cells": [
  {
   "cell_type": "code",
   "execution_count": 1,
   "id": "5192f617",
   "metadata": {},
   "outputs": [
    {
     "name": "stdout",
     "output_type": "stream",
     "text": [
      "['Omkar', 'Sharad', 'Varad', 'Atharav', 'Sharayu', 'Vilas', 'Sangeeta', 'Vidya']\n"
     ]
    }
   ],
   "source": [
    "a=[\"Omkar\",\"Sharad\",\"Varad\",\"Atharav\",\"Sharayu\",\"Vilas\",\"Sangeeta\",\"Vidya\",\"Nidhi\"]\n",
    "\n",
    "new= [x for x in a if \"a\" in x ]\n",
    "print(new)"
   ]
  },
  {
   "cell_type": "code",
   "execution_count": 5,
   "id": "28200faa",
   "metadata": {},
   "outputs": [
    {
     "name": "stdout",
     "output_type": "stream",
     "text": [
      "['Vilas', 'Vidya', 'Nidhi']\n"
     ]
    }
   ],
   "source": [
    "check=[x for x in a if \"i\" in x]\n",
    "print(check)"
   ]
  },
  {
   "cell_type": "code",
   "execution_count": 9,
   "id": "c9a6f26b",
   "metadata": {},
   "outputs": [
    {
     "name": "stdout",
     "output_type": "stream",
     "text": [
      "['Omkar', 'Sharad', 'Varad', 'Atharav', 'Sharayu']\n"
     ]
    }
   ],
   "source": [
    "check1=[x for x in a if \"r\" in x]\n",
    "print(check1)"
   ]
  },
  {
   "cell_type": "code",
   "execution_count": 16,
   "id": "8329b970",
   "metadata": {},
   "outputs": [
    {
     "name": "stdout",
     "output_type": "stream",
     "text": [
      "[1, 2, 3, 4, 5, 6, 7, 8, 9, 10]\n"
     ]
    }
   ],
   "source": [
    "a=[x for  x in range(1,11)]\n",
    "print(a)"
   ]
  },
  {
   "cell_type": "code",
   "execution_count": 17,
   "id": "8ea7fc0a",
   "metadata": {},
   "outputs": [
    {
     "name": "stdout",
     "output_type": "stream",
     "text": [
      "[2, 4, 6, 8, 10, 12, 14, 16, 18, 20]\n"
     ]
    }
   ],
   "source": [
    "b=[x for x in range(2,21,2)]\n",
    "print(b)"
   ]
  },
  {
   "cell_type": "code",
   "execution_count": 18,
   "id": "ffd2d303",
   "metadata": {},
   "outputs": [
    {
     "name": "stdout",
     "output_type": "stream",
     "text": [
      "[1, 2, 3, 4]\n"
     ]
    }
   ],
   "source": [
    "c= [x for x in range (1,10) if x<5]\n",
    "print(c)"
   ]
  },
  {
   "cell_type": "code",
   "execution_count": 19,
   "id": "849572c1",
   "metadata": {},
   "outputs": [
    {
     "name": "stdout",
     "output_type": "stream",
     "text": [
      "[2, 4, 6, 8, 10, 12, 14, 16, 18, 20]\n"
     ]
    }
   ],
   "source": [
    "d=[x for x in range(1,21) if x%2==0]\n",
    "print(d)"
   ]
  },
  {
   "cell_type": "code",
   "execution_count": 30,
   "id": "4cf3b8e3",
   "metadata": {},
   "outputs": [
    {
     "name": "stdout",
     "output_type": "stream",
     "text": [
      "['OMKAR', 'SHARAD', 'VARAD', 'ATHARAV', 'SHARAYU', 'VILAS', 'SANGEETA', 'VIDYA', 'NIDHI']\n"
     ]
    }
   ],
   "source": [
    "a=[\"Omkar\",\"Sharad\",\"Varad\",\"Atharav\",\"Sharayu\",\"Vilas\",\"Sangeeta\",\"Vidya\",\"Nidhi\"]\n",
    "new =[x.upper() for x in a]\n",
    "print(new)"
   ]
  },
  {
   "cell_type": "code",
   "execution_count": 22,
   "id": "940bb207",
   "metadata": {},
   "outputs": [
    {
     "name": "stdout",
     "output_type": "stream",
     "text": [
      "['omkar', 'sharad', 'varad', 'atharav', 'sharayu', 'vilas', 'sangeeta', 'vidya', 'nidhi']\n"
     ]
    }
   ],
   "source": [
    "a=[x.lower() for x in new]\n",
    "print(a)"
   ]
  },
  {
   "cell_type": "code",
   "execution_count": 23,
   "id": "10ae8c8a",
   "metadata": {},
   "outputs": [
    {
     "name": "stdout",
     "output_type": "stream",
     "text": [
      "['OMKAR', 'SHARAD', 'VARAD', 'ATHARAV', 'SHARAYU', 'VILAS', 'SANGEETA', 'VIDYA', 'NIDHI']\n"
     ]
    }
   ],
   "source": [
    "new=[x.upper() for x in a]\n",
    "print(new)"
   ]
  },
  {
   "cell_type": "code",
   "execution_count": 24,
   "id": "f0bc9bf5",
   "metadata": {},
   "outputs": [
    {
     "name": "stdout",
     "output_type": "stream",
     "text": [
      "['omkar', 'sharad', 'varad', 'atharav', 'sharayu', 'vilas', 'sangeeta', 'vidya', 'nidhi']\n"
     ]
    }
   ],
   "source": [
    "a=[x.lower() for x in new]\n",
    "print(a)"
   ]
  },
  {
   "cell_type": "code",
   "execution_count": 25,
   "id": "fff69849",
   "metadata": {},
   "outputs": [
    {
     "name": "stdout",
     "output_type": "stream",
     "text": [
      "['OMKAR', 'SHARAD', 'VARAD', 'ATHARAV', 'SHARAYU', 'VILAS', 'SANGEETA', 'VIDYA', 'NIDHI']\n"
     ]
    }
   ],
   "source": [
    "new=[x.upper() for x in a]\n",
    "print(new)"
   ]
  },
  {
   "cell_type": "code",
   "execution_count": 27,
   "id": "322f6cae",
   "metadata": {},
   "outputs": [
    {
     "name": "stdout",
     "output_type": "stream",
     "text": [
      "['hello ', 'hello ', 'hello ', 'hello ', 'hello ', 'hello ', 'hello ', 'hello ', 'hello ']\n",
      "['OMKAR', 'SHARAD', 'VARAD', 'ATHARAV', 'SHARAYU', 'VILAS', 'SANGEETA', 'VIDYA', 'NIDHI']\n"
     ]
    }
   ],
   "source": [
    "a= [\"hello \" for x in new]\n",
    "print(a)\n",
    "print(new)"
   ]
  },
  {
   "cell_type": "code",
   "execution_count": 28,
   "id": "47ddbb60",
   "metadata": {},
   "outputs": [],
   "source": [
    "a=[x if x!= \"Omkar\"else \"Varad\" for x in a]"
   ]
  },
  {
   "cell_type": "code",
   "execution_count": 31,
   "id": "8b124c9d",
   "metadata": {},
   "outputs": [
    {
     "name": "stdout",
     "output_type": "stream",
     "text": [
      "['Omkar', 'Sharad', 'Varad', 'Atharav', 'Sharayu', 'Vilas', 'Sangeeta', 'Vidya', 'Nidhi']\n"
     ]
    }
   ],
   "source": [
    "print(a)"
   ]
  },
  {
   "cell_type": "code",
   "execution_count": null,
   "id": "b39a22e2",
   "metadata": {},
   "outputs": [],
   "source": []
  }
 ],
 "metadata": {
  "kernelspec": {
   "display_name": "Python 3 (ipykernel)",
   "language": "python",
   "name": "python3"
  },
  "language_info": {
   "codemirror_mode": {
    "name": "ipython",
    "version": 3
   },
   "file_extension": ".py",
   "mimetype": "text/x-python",
   "name": "python",
   "nbconvert_exporter": "python",
   "pygments_lexer": "ipython3",
   "version": "3.11.5"
  }
 },
 "nbformat": 4,
 "nbformat_minor": 5
}
