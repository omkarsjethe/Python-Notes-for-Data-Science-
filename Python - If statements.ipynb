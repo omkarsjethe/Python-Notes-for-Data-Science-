{
 "cells": [
  {
   "cell_type": "markdown",
   "id": "b99a2759",
   "metadata": {},
   "source": [
    "# Python if...else Statement\n",
    "In computer programming, the if statement is a conditional statement. It is used to execute a block of code only when a specific condition is met. For example,\n",
    "Python supports the usual logical conditions from mathematics:\n",
    "\n",
    "Equals: a == b\n",
    "\n",
    "Not Equals: a != b\n",
    "\n",
    "Less than: a < b\n",
    "\n",
    "Less than or equal to: a <= b\n",
    "\n",
    "Greater than: a > b\n",
    "\n",
    "Greater than or equal to: a >= b\n",
    "\n",
    "These conditions can be used in several ways, most commonly in \"if statements\" and loops.\n",
    "\n",
    "An \"if statement\" is written by using the if keyword."
   ]
  },
  {
   "cell_type": "code",
   "execution_count": 1,
   "id": "06a2e565",
   "metadata": {},
   "outputs": [
    {
     "name": "stdout",
     "output_type": "stream",
     "text": [
      "True\n"
     ]
    }
   ],
   "source": [
    "a=23\n",
    "b=12\n",
    "\n",
    "if a>b:\n",
    "    print(\"True\")\n",
    "else:\n",
    "    print(\"False \")"
   ]
  },
  {
   "cell_type": "code",
   "execution_count": null,
   "id": "0853078b",
   "metadata": {},
   "outputs": [],
   "source": [
    "num=int(input(\"Enter The number \"))\n",
    "num2=int(input(\"Enter The number \"))\n",
    "\n",
    "if num>num2:\n",
    "   print(\"True\")\n",
    "else:\n",
    "    print(\"False\")"
   ]
  },
  {
   "cell_type": "code",
   "execution_count": null,
   "id": "56afdab4",
   "metadata": {},
   "outputs": [],
   "source": [
    "a = 33\n",
    "b = 33\n",
    "if b > a:\n",
    "  print(\"b is greater than a\")\n",
    "elif a == b:\n",
    "  print(\"a and b are equal\")"
   ]
  },
  {
   "cell_type": "code",
   "execution_count": null,
   "id": "0e0a123d",
   "metadata": {},
   "outputs": [],
   "source": [
    "a=int(input(\"Enter the number \"))\n",
    "b=int(input(\"Enter the number \"))\n",
    "\n",
    "if a==b:\n",
    "    print(f\"{a} and {b} are equal\")\n",
    "elif a>b:\n",
    "    print(f\"{a} is greater than {b}\")\n",
    "else:\n",
    "    print(f\"{b} is greater than {a}\")"
   ]
  },
  {
   "cell_type": "code",
   "execution_count": null,
   "id": "55d970fb",
   "metadata": {},
   "outputs": [],
   "source": [
    "a=int(input(\"Enter the number \"))\n",
    "b=int(input(\"Enter the number \"))\n",
    "c=int(input(\"Enter the number \"))\n",
    "\n",
    "if a>b and c>a :\n",
    "    print(\"Both conditions are True\")\n",
    "else :\n",
    "    print(\"False \")"
   ]
  },
  {
   "cell_type": "code",
   "execution_count": null,
   "id": "6e9f55ff",
   "metadata": {},
   "outputs": [],
   "source": [
    "x = 41\n",
    "\n",
    "if x > 10:\n",
    "  print(\"Above ten,\")\n",
    "  if x > 20:\n",
    "    print(\"and also above 20!\")\n",
    "  else:\n",
    "    print(\"but not above 20.\")"
   ]
  },
  {
   "cell_type": "code",
   "execution_count": null,
   "id": "fe053f7c",
   "metadata": {},
   "outputs": [],
   "source": [
    "a = 33\n",
    "b = 200\n",
    "\n",
    "if b > a:\n",
    "  pass"
   ]
  },
  {
   "cell_type": "code",
   "execution_count": null,
   "id": "cb8d7513",
   "metadata": {},
   "outputs": [],
   "source": [
    "num =int(input(\"Enter the number\"))\n",
    "\n",
    "if num%2 != 0:\n",
    "    print(f\"{num} is odd number \")\n",
    "else:\n",
    "    print(f\"{num} is even number \")"
   ]
  },
  {
   "cell_type": "code",
   "execution_count": null,
   "id": "9a65aa56",
   "metadata": {},
   "outputs": [],
   "source": [
    "num =int(input(\"Enter the number\"))\n",
    "\n",
    "if num > 0 :\n",
    "    print(\"Positive Number\")\n",
    "else:\n",
    "    print(\"Negitive Number\")"
   ]
  },
  {
   "cell_type": "code",
   "execution_count": null,
   "id": "4576cc66",
   "metadata": {},
   "outputs": [],
   "source": [
    "username = input(\"Enter your username: \")\n",
    "password = input(\"Enter your password: \")\n",
    "\n",
    "if username == \"admin\":\n",
    "    if password == \"password\":\n",
    "        print(\"Login successful! Welcome, admin.\")\n",
    "    elif password == \"12345\":\n",
    "        print(\"Weak password. Please reset your password.\")\n",
    "    else:\n",
    "        print(\"Incorrect password. Please try again.\")\n",
    "else:\n",
    "    if username == \"guest\":\n",
    "        if password == \"guest\":\n",
    "            print(\"Login successful! Welcome, guest.\")\n",
    "        else:\n",
    "            print(\"Incorrect password. Please try again.\")\n",
    "    else:\n",
    "        print(\"Unknown user. Please try again.\")"
   ]
  },
  {
   "cell_type": "code",
   "execution_count": null,
   "id": "f1969fb9",
   "metadata": {},
   "outputs": [],
   "source": [
    "a=[\"Admin, Guest\"]\n",
    "print(a)\n",
    "u=input(\"enter Username \")\n",
    "p=input (\"Enter password\")\n",
    "\n",
    "if u==\"Admin\":\n",
    "    if p==\"OM\":\n",
    "        print(\"Login Suceesfull\")\n",
    "    elif p==\"12345678\"\n",
    "        print(\"Incorrect password \")\n",
    "    else :\n",
    "        print(\"Incorrect password. Please try again.\")\n",
    "else :\n",
    "    if u==\"Guest\":\n",
    "        if p == \"Omkar\":\n",
    "            print(\"Login Sucessfull\")\n",
    "        else:\n",
    "            print(\"Login Unsucessfull\")\n",
    "    else:\n",
    "        print(\"Unknown User\")"
   ]
  },
  {
   "cell_type": "code",
   "execution_count": null,
   "id": "ddacc33c",
   "metadata": {},
   "outputs": [],
   "source": []
  }
 ],
 "metadata": {
  "kernelspec": {
   "display_name": "Python 3 (ipykernel)",
   "language": "python",
   "name": "python3"
  },
  "language_info": {
   "codemirror_mode": {
    "name": "ipython",
    "version": 3
   },
   "file_extension": ".py",
   "mimetype": "text/x-python",
   "name": "python",
   "nbconvert_exporter": "python",
   "pygments_lexer": "ipython3",
   "version": "3.11.5"
  }
 },
 "nbformat": 4,
 "nbformat_minor": 5
}
