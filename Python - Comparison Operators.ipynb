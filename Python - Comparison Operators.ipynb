{
 "cells": [
  {
   "cell_type": "markdown",
   "id": "9bfb06f9",
   "metadata": {},
   "source": [
    "# Python - Comparison Operators"
   ]
  },
  {
   "cell_type": "markdown",
   "id": "a09231fd",
   "metadata": {},
   "source": [
    "Comparison operators in Python are very important in Python's conditional statements (if, else and elif) and looping statements (while and for loops). The comparison operators also called relational operators. Some of the well known operators are \"<\" stands for less than, and \">\" stands for greater than operator.\n",
    "\n",
    "Python uses two more operators, combining \"=\" symbol with these two. The \"<=\" symbol is for less than or equal to operator and the \">=\" symbol is for greater than or equal to operator.\n",
    "\n",
    "Python has two more comparison operators in the form of \"==\" and \"!=\". They are for is equal to and is not equal to operators. Hence, there are six comparison operators"
   ]
  },
  {
   "cell_type": "markdown",
   "id": "e972d960",
   "metadata": {},
   "source": [
    "1. (<\tLess than\ta<b)\n",
    "                    \n",
    "2. (>\tGreater than\ta>b)\n",
    "    \n",
    "3. (<=\tLess than or equal to\ta<=b)\n",
    "    \n",
    "4. (>=\tGreater than or equal to\ta>=b)\n",
    "    \n",
    "5. (==\tIs equal to\ta==b)\n",
    "    \n",
    "6. (!=\tIs not equal to\ta!=b)"
   ]
  },
  {
   "cell_type": "markdown",
   "id": "be06cdad",
   "metadata": {},
   "source": [
    "Comparison operators are binary in nature, requiring two operands. An expression involving a comparison operator is called a Boolean expression, and always returns either True or False.\n",
    "\n"
   ]
  },
  {
   "cell_type": "code",
   "execution_count": 1,
   "id": "1df32f24",
   "metadata": {},
   "outputs": [
    {
     "name": "stdout",
     "output_type": "stream",
     "text": [
      "False\n",
      "True\n"
     ]
    }
   ],
   "source": [
    "a=5\n",
    "b=7\n",
    "print (a>b)\n",
    "print (a<b)"
   ]
  },
  {
   "cell_type": "code",
   "execution_count": 4,
   "id": "ac1c8dfd",
   "metadata": {},
   "outputs": [
    {
     "name": "stdout",
     "output_type": "stream",
     "text": [
      "Both operands are integer\n",
      "Enter the value for a10\n",
      "Enter the value for b15\n",
      "a= 10 b= 15 a>b is False\n",
      "a= 10 b= 15 a<b is True\n",
      "a= 10 b= 15 a==b is False\n",
      "a= 10 b= 15 a!=b is True\n"
     ]
    }
   ],
   "source": [
    "print (\"Both operands are integer\")\n",
    "a=int(input(\"Enter the value for a :\"))\n",
    "b=int(input(\"Enter the value for b :\"))\n",
    "print (\"a=\",a, \"b=\",b, \"a>b is\", a>b)\n",
    "print (\"a=\",a, \"b=\",b,\"a<b is\",a<b)\n",
    "print (\"a=\",a, \"b=\",b,\"a==b is\",a==b)\n",
    "print (\"a=\",a, \"b=\",b,\"a!=b is\",a!=b)"
   ]
  },
  {
   "cell_type": "markdown",
   "id": "3e7d498b",
   "metadata": {},
   "source": [
    "# Comparison of Float Number\n"
   ]
  },
  {
   "cell_type": "code",
   "execution_count": 6,
   "id": "3da2ca2c",
   "metadata": {},
   "outputs": [
    {
     "name": "stdout",
     "output_type": "stream",
     "text": [
      "comparison of int and float\n",
      "Enter the value for a :12.5\n",
      "Enter the value for b :12.49\n",
      "a= 12.5 b= 12.49 a>b is True\n",
      "a= 12.5 b= 12.49 a<b is False\n",
      "a= 12.5 b= 12.49 a==b is False\n",
      "a= 12.5 b= 12.49 a!=b is True\n"
     ]
    }
   ],
   "source": [
    "print (\"comparison of int and float\")\n",
    "a=float(input(\"Enter the value for a :\"))\n",
    "b=float(input(\"Enter the value for b :\"))\n",
    "print (\"a=\",a, \"b=\",b, \"a>b is\", a>b)\n",
    "print (\"a=\",a, \"b=\",b,\"a<b is\",a<b)\n",
    "print (\"a=\",a, \"b=\",b,\"a==b is\",a==b)\n",
    "print (\"a=\",a, \"b=\",b,\"a!=b is\",a!=b)"
   ]
  },
  {
   "cell_type": "markdown",
   "id": "d587523d",
   "metadata": {},
   "source": [
    "# Comparison of Complex umbers\n",
    "Although complex object is a number data type in Python, its behavior is different from others. \n",
    "\n",
    "Python doesn't support < and > operators, however it does support equality (==) and inequality (!=) operators."
   ]
  },
  {
   "cell_type": "code",
   "execution_count": 7,
   "id": "e7b762f8",
   "metadata": {},
   "outputs": [
    {
     "name": "stdout",
     "output_type": "stream",
     "text": [
      "comparison of complex numbers\n",
      "a= (10+1j) b= (10-1j) a==b is False\n",
      "a= (10+1j) b= (10-1j) a!=b is True\n"
     ]
    }
   ],
   "source": [
    "print (\"comparison of complex numbers\")\n",
    "a=10+1j\n",
    "b=10.-1j\n",
    "print (\"a=\",a, \"b=\",b,\"a==b is\",a==b)\n",
    "print (\"a=\",a, \"b=\",b,\"a!=b is\",a!=b)"
   ]
  },
  {
   "cell_type": "markdown",
   "id": "70dc1907",
   "metadata": {},
   "source": [
    "# Comparison of Booleans\n",
    "Boolean objects in Python are really integers: True is 1 and False is 0. In fact, Python treats any non-zero number as True. In Python, comparison of Boolean objects is possible. \"False < True\" is True!"
   ]
  },
  {
   "cell_type": "code",
   "execution_count": 8,
   "id": "800634c0",
   "metadata": {},
   "outputs": [
    {
     "name": "stdout",
     "output_type": "stream",
     "text": [
      "comparison of Booleans\n",
      "a= True b= False a<b is False\n",
      "a= True b= False a>b is True\n",
      "a= True b= False a==b is False\n",
      "a= True b= False a!=b is True\n"
     ]
    }
   ],
   "source": [
    "print (\"comparison of Booleans\")\n",
    "a=True\n",
    "b=False\n",
    "print (\"a=\",a, \"b=\",b,\"a<b is\",a<b)\n",
    "print (\"a=\",a, \"b=\",b,\"a>b is\",a>b)\n",
    "print (\"a=\",a, \"b=\",b,\"a==b is\",a==b)\n",
    "print (\"a=\",a, \"b=\",b,\"a!=b is\",a!=b)"
   ]
  },
  {
   "cell_type": "markdown",
   "id": "afe62277",
   "metadata": {},
   "source": [
    "# Comparison of Sequence Types\n",
    "In Python, comparison of only similar sequence objects can be performed. A string object is comparable with another string only. A list cannot be compared with a tuple, even if both have same items."
   ]
  },
  {
   "cell_type": "code",
   "execution_count": 9,
   "id": "33bbf3e2",
   "metadata": {},
   "outputs": [
    {
     "name": "stdout",
     "output_type": "stream",
     "text": [
      "comparison of different sequence types\n"
     ]
    },
    {
     "ename": "TypeError",
     "evalue": "'<' not supported between instances of 'tuple' and 'list'",
     "output_type": "error",
     "traceback": [
      "\u001b[0;31m---------------------------------------------------------------------------\u001b[0m",
      "\u001b[0;31mTypeError\u001b[0m                                 Traceback (most recent call last)",
      "Cell \u001b[0;32mIn[9], line 4\u001b[0m\n\u001b[1;32m      2\u001b[0m a\u001b[38;5;241m=\u001b[39m(\u001b[38;5;241m1\u001b[39m,\u001b[38;5;241m2\u001b[39m,\u001b[38;5;241m3\u001b[39m)\n\u001b[1;32m      3\u001b[0m b\u001b[38;5;241m=\u001b[39m[\u001b[38;5;241m1\u001b[39m,\u001b[38;5;241m2\u001b[39m,\u001b[38;5;241m3\u001b[39m]\n\u001b[0;32m----> 4\u001b[0m \u001b[38;5;28mprint\u001b[39m (\u001b[38;5;124m\"\u001b[39m\u001b[38;5;124ma=\u001b[39m\u001b[38;5;124m\"\u001b[39m,a, \u001b[38;5;124m\"\u001b[39m\u001b[38;5;124mb=\u001b[39m\u001b[38;5;124m\"\u001b[39m,b,\u001b[38;5;124m\"\u001b[39m\u001b[38;5;124ma<b is\u001b[39m\u001b[38;5;124m\"\u001b[39m,a\u001b[38;5;241m<\u001b[39mb)\n",
      "\u001b[0;31mTypeError\u001b[0m: '<' not supported between instances of 'tuple' and 'list'"
     ]
    }
   ],
   "source": [
    "print (\"comparison of different sequence types\")\n",
    "a=(1,2,3)\n",
    "b=[1,2,3]\n",
    "print (\"a=\",a, \"b=\",b,\"a<b is\",a<b)"
   ]
  },
  {
   "cell_type": "markdown",
   "id": "2856b7dd",
   "metadata": {},
   "source": [
    "It will produce the following output −\n",
    "\n",
    "comparison of different sequence types\n",
    "Traceback (most recent call last):\n",
    "  File \"C:\\Users\\mlath\\examples\\example.py\", line 5, in <module>\n",
    "    print (\"a=\",a, \"b=\",b,\"a<b is\",a<b)\n",
    "                                       ^^^\n",
    "TypeError: '<' not supported between instances of 'tuple' and 'list'\n",
    "Sequence objects are compared by lexicographical ordering mechanism. The comparison starts from item at 0th index. If they are equal, comparison moves to next index till the items at certain index happen to be not equal, or one of the sequences is exhausted. If one sequence is an initial sub-sequence of the other, the shorter sequence is the smaller (lesser) one."
   ]
  },
  {
   "cell_type": "code",
   "execution_count": 10,
   "id": "982b12ff",
   "metadata": {},
   "outputs": [
    {
     "name": "stdout",
     "output_type": "stream",
     "text": [
      "comparison of strings\n",
      "a= BAT b= BALL a<b is False\n",
      "a= BAT b= BALL a>b is True\n",
      "a= BAT b= BALL a==b is False\n",
      "a= BAT b= BALL a!=b is True\n"
     ]
    }
   ],
   "source": [
    "print (\"comparison of strings\")\n",
    "a='BAT'\n",
    "b='BALL'\n",
    "print (\"a=\",a, \"b=\",b,\"a<b is\",a<b)\n",
    "print (\"a=\",a, \"b=\",b,\"a>b is\",a>b)\n",
    "print (\"a=\",a, \"b=\",b,\"a==b is\",a==b)\n",
    "print (\"a=\",a, \"b=\",b,\"a!=b is\",a!=b)"
   ]
  },
  {
   "cell_type": "code",
   "execution_count": 11,
   "id": "649d3ff7",
   "metadata": {},
   "outputs": [
    {
     "name": "stdout",
     "output_type": "stream",
     "text": [
      "comparison of tuples\n",
      "a= (1, 2, 4) b= (1, 2, 3) a<b is False\n",
      "a= (1, 2, 4) b= (1, 2, 3) a>b is True\n",
      "a= (1, 2, 4) b= (1, 2, 3) a==b is False\n",
      "a= (1, 2, 4) b= (1, 2, 3) a!=b is True\n"
     ]
    }
   ],
   "source": [
    "print (\"comparison of tuples\")\n",
    "a=(1,2,4)\n",
    "b=(1,2,3)\n",
    "print (\"a=\",a, \"b=\",b,\"a<b is\",a<b)\n",
    "print (\"a=\",a, \"b=\",b,\"a>b is\",a>b)\n",
    "print (\"a=\",a, \"b=\",b,\"a==b is\",a==b)\n",
    "print (\"a=\",a, \"b=\",b,\"a!=b is\",a!=b)"
   ]
  },
  {
   "cell_type": "markdown",
   "id": "5168db0c",
   "metadata": {},
   "source": [
    "# Comparison of Dictionary Objects\n",
    "The use of \"<\" and \">\" operators for Python's dictionary is not defined. In case of these operands, TypeError: '<' not supported between instances of 'dict' and 'dict' is reported.\n",
    "\n",
    "Equality comparison checks if the length of both the dict items is same. Length of dictionary is the number of key-value pairs in it.\n",
    "\n",
    "Python dictionaries are simply compared by length. The dictionary with fewer elements is considered less than a dictionary with more elements."
   ]
  },
  {
   "cell_type": "code",
   "execution_count": 12,
   "id": "6ac9e08d",
   "metadata": {},
   "outputs": [
    {
     "name": "stdout",
     "output_type": "stream",
     "text": [
      "comparison of dictionary objects\n",
      "a= {1: 1, 2: 2} b= {2: 2, 1: 1, 3: 3} a==b is False\n",
      "a= {1: 1, 2: 2} b= {2: 2, 1: 1, 3: 3} a!=b is True\n"
     ]
    }
   ],
   "source": [
    "print (\"comparison of dictionary objects\")\n",
    "a={1:1,2:2}\n",
    "b={2:2, 1:1, 3:3}\n",
    "print (\"a=\",a, \"b=\",b,\"a==b is\",a==b)\n",
    "print (\"a=\",a, \"b=\",b,\"a!=b is\",a!=b)"
   ]
  },
  {
   "cell_type": "code",
   "execution_count": null,
   "id": "c31cc077",
   "metadata": {},
   "outputs": [],
   "source": []
  }
 ],
 "metadata": {
  "kernelspec": {
   "display_name": "Python 3 (ipykernel)",
   "language": "python",
   "name": "python3"
  },
  "language_info": {
   "codemirror_mode": {
    "name": "ipython",
    "version": 3
   },
   "file_extension": ".py",
   "mimetype": "text/x-python",
   "name": "python",
   "nbconvert_exporter": "python",
   "pygments_lexer": "ipython3",
   "version": "3.11.5"
  }
 },
 "nbformat": 4,
 "nbformat_minor": 5
}
