{
 "cells": [
  {
   "cell_type": "markdown",
   "id": "6d26be95",
   "metadata": {},
   "source": [
    "# Classes and Objects:"
   ]
  },
  {
   "cell_type": "markdown",
   "id": "f977a32f",
   "metadata": {},
   "source": [
    "# Class:\n",
    "    Its is object constructor or blueprint for creating objects"
   ]
  },
  {
   "cell_type": "markdown",
   "id": "dbae09ae",
   "metadata": {},
   "source": [
    "# Object :\n",
    "It contains method "
   ]
  },
  {
   "cell_type": "code",
   "execution_count": 1,
   "id": "8d2c90f1",
   "metadata": {},
   "outputs": [
    {
     "name": "stdout",
     "output_type": "stream",
     "text": [
      "9\n"
     ]
    }
   ],
   "source": [
    "class myclass :\n",
    "    x=9\n",
    "p1=myclass()\n",
    "print(p1.x)"
   ]
  },
  {
   "cell_type": "code",
   "execution_count": 3,
   "id": "1ed20ad9",
   "metadata": {},
   "outputs": [
    {
     "name": "stdout",
     "output_type": "stream",
     "text": [
      "Enter the NameOmkar\n",
      " My name is Omkar\n"
     ]
    }
   ],
   "source": [
    "class name:\n",
    "    name=input(\"Enter the Name\")\n",
    "n1=name()\n",
    "print(f\" My name is {n1.name}\")"
   ]
  },
  {
   "cell_type": "code",
   "execution_count": 4,
   "id": "492b5236",
   "metadata": {},
   "outputs": [
    {
     "name": "stdout",
     "output_type": "stream",
     "text": [
      "Enter the age24\n",
      "24\n"
     ]
    }
   ],
   "source": [
    "class age:\n",
    "    age =int(input(\"Enter the age\"))\n",
    "a1=age()\n",
    "print(a1.age)"
   ]
  },
  {
   "cell_type": "code",
   "execution_count": 9,
   "id": "88605e98",
   "metadata": {},
   "outputs": [
    {
     "name": "stdout",
     "output_type": "stream",
     "text": [
      "enter the nameYash\n",
      "Enter The age24\n",
      "Omkar\n",
      "24\n",
      "My name is Omkar and age is 24 \n",
      "My name is Yash and age is 24 \n"
     ]
    }
   ],
   "source": [
    "class info :\n",
    "    def __init__(self,name,age):\n",
    "        self.name=name\n",
    "        self.age=age\n",
    "p1=info(\"Omkar\",24)\n",
    "p2=info(name=input(\"enter the name\"),age = int(input(\"Enter The age\")))\n",
    "print(p1.name)\n",
    "print(p1.age)\n",
    "\n",
    "print(f\"My name is {p1.name} and age is {p1.age} \")\n",
    "print(f\"My name is {p2.name} and age is {p2.age} \")"
   ]
  },
  {
   "cell_type": "code",
   "execution_count": 11,
   "id": "d05f23ab",
   "metadata": {},
   "outputs": [
    {
     "name": "stdout",
     "output_type": "stream",
     "text": [
      "Enter the name BMW\n",
      "Enter the modelM8\n",
      "BMW\n",
      "M8\n"
     ]
    }
   ],
   "source": [
    "class car :\n",
    "    def __init__(self,name,model):\n",
    "        self.name=name\n",
    "        self.model=model\n",
    "        \n",
    "c1=car(name=input(\"Enter the name \"),model=input(\"Enter the model\"))\n",
    "\n",
    "print(c1.name)\n",
    "print(c1.model)\n"
   ]
  },
  {
   "cell_type": "code",
   "execution_count": 21,
   "id": "6c98b640",
   "metadata": {},
   "outputs": [
    {
     "name": "stdout",
     "output_type": "stream",
     "text": [
      "Omkar\n"
     ]
    }
   ],
   "source": [
    "class Person :\n",
    "    def __init__(self,name,age):\n",
    "        self.name=name\n",
    "        self.age=age \n",
    "    def __str__(self):\n",
    "        return f\"{self.name}({self.age})\"\n",
    "p1=Person(\"Omkar\",25)\n",
    "print(p1)"
   ]
  },
  {
   "cell_type": "code",
   "execution_count": 29,
   "id": "642d14ec",
   "metadata": {},
   "outputs": [
    {
     "name": "stdout",
     "output_type": "stream",
     "text": [
      "Car name is Audi and year is from  2024\n",
      "None\n"
     ]
    }
   ],
   "source": [
    "class car :\n",
    "    def __init__(self,name,year):\n",
    "        self.name=name\n",
    "        self.year=year\n",
    "        \n",
    "    def myfunc(self):\n",
    "        print(f\"Car name is {self.name} and year is from  {self.year}\")\n",
    "        \n",
    "c1=car(\"Audi\",2024)\n",
    "print(c1.myfunc())"
   ]
  },
  {
   "cell_type": "code",
   "execution_count": 30,
   "id": "9e40f293",
   "metadata": {},
   "outputs": [
    {
     "data": {
      "text/plain": [
       "'Audi'"
      ]
     },
     "execution_count": 30,
     "metadata": {},
     "output_type": "execute_result"
    }
   ],
   "source": [
    "c1.name "
   ]
  },
  {
   "cell_type": "code",
   "execution_count": 32,
   "id": "3cdbd56e",
   "metadata": {},
   "outputs": [
    {
     "name": "stdout",
     "output_type": "stream",
     "text": [
      "BMW\n"
     ]
    }
   ],
   "source": [
    "c1.name = \"BMW\"\n",
    "print(c1.name)"
   ]
  },
  {
   "cell_type": "code",
   "execution_count": 34,
   "id": "31704665",
   "metadata": {},
   "outputs": [],
   "source": [
    "del c1.year"
   ]
  },
  {
   "cell_type": "code",
   "execution_count": 37,
   "id": "1b00b459",
   "metadata": {},
   "outputs": [],
   "source": [
    "del c1"
   ]
  },
  {
   "cell_type": "code",
   "execution_count": null,
   "id": "0f1764f9",
   "metadata": {},
   "outputs": [],
   "source": []
  },
  {
   "cell_type": "code",
   "execution_count": null,
   "id": "bb4858d4",
   "metadata": {},
   "outputs": [],
   "source": []
  }
 ],
 "metadata": {
  "kernelspec": {
   "display_name": "Python 3 (ipykernel)",
   "language": "python",
   "name": "python3"
  },
  "language_info": {
   "codemirror_mode": {
    "name": "ipython",
    "version": 3
   },
   "file_extension": ".py",
   "mimetype": "text/x-python",
   "name": "python",
   "nbconvert_exporter": "python",
   "pygments_lexer": "ipython3",
   "version": "3.11.5"
  }
 },
 "nbformat": 4,
 "nbformat_minor": 5
}
