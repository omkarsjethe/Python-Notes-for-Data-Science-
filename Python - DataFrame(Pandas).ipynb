{
 "cells": [
  {
   "cell_type": "markdown",
   "id": "9c1ac452",
   "metadata": {},
   "source": [
    "# Pandas- dataframe\n",
    "Pandas DataFrame is a widely used data structure which works with a two-dimensional array with labeled axes (rows and columns).\n",
    "\n",
    "DataFrame is defined as a standard way to store data that has two different indexes, i.e., row index and column index. It consists of the following properties:\n",
    "\n",
    "The columns can be heterogeneous types like int, bool, and so on.\n",
    "\n",
    "It can be seen as a dictionary of Series structure where both the rows and columns are indexed.\n",
    "\n",
    "It is denoted as \"columns\" in case of columns and \"index\" in case of rows."
   ]
  },
  {
   "cell_type": "code",
   "execution_count": 1,
   "id": "a6dfcf6a",
   "metadata": {},
   "outputs": [],
   "source": [
    "import pandas as pd"
   ]
  },
  {
   "cell_type": "code",
   "execution_count": 2,
   "id": "a146c184",
   "metadata": {},
   "outputs": [],
   "source": [
    "import numpy as np"
   ]
  },
  {
   "cell_type": "code",
   "execution_count": 3,
   "id": "7e27e2ec",
   "metadata": {},
   "outputs": [
    {
     "name": "stdout",
     "output_type": "stream",
     "text": [
      "       0\n",
      "0  Omkar\n",
      "1   Yash\n"
     ]
    }
   ],
   "source": [
    "a=[\"Omkar\",\"Yash\"]\n",
    "df = pd.DataFrame(a)  \n",
    "print (df)"
   ]
  },
  {
   "cell_type": "code",
   "execution_count": 4,
   "id": "fe4e580f",
   "metadata": {},
   "outputs": [
    {
     "name": "stdout",
     "output_type": "stream",
     "text": [
      "   id        name\n",
      "0   1       Omkar\n",
      "1   2        Yash\n",
      "2   3  Prathamesh\n"
     ]
    }
   ],
   "source": [
    "a={\"id\":[1,2,3],\"name\":[\"Omkar\",\"Yash\",\"Prathamesh\"]}\n",
    "df=pd.DataFrame(a)\n",
    "print(df)"
   ]
  },
  {
   "cell_type": "code",
   "execution_count": 5,
   "id": "6cbae0dd",
   "metadata": {},
   "outputs": [],
   "source": [
    "a={\"id\" :[1,2,3,4],\n",
    "   \"Student_name\":[\"Omkar\",\"Yash\",\"Prathamesh\",np.nan]}\n"
   ]
  },
  {
   "cell_type": "code",
   "execution_count": 6,
   "id": "0d331522",
   "metadata": {},
   "outputs": [
    {
     "name": "stdout",
     "output_type": "stream",
     "text": [
      "   id Student_name\n",
      "0   1        Omkar\n",
      "1   2         Yash\n",
      "2   3   Prathamesh\n",
      "3   4          NaN\n"
     ]
    }
   ],
   "source": [
    "df=pd.DataFrame(a)\n",
    "print(df)"
   ]
  },
  {
   "cell_type": "code",
   "execution_count": 7,
   "id": "98bee901",
   "metadata": {},
   "outputs": [
    {
     "name": "stdout",
     "output_type": "stream",
     "text": [
      "    ID Department\n",
      "0  101       B.Sc\n",
      "1  102     B.Tech\n",
      "2  103     M.Tech\n"
     ]
    }
   ],
   "source": [
    "info = {'ID' :[101, 102, 103],'Department' :['B.Sc','B.Tech','M.Tech',]}  \n",
    "df = pd.DataFrame(info)  \n",
    "print (df)  "
   ]
  },
  {
   "cell_type": "code",
   "execution_count": 8,
   "id": "bb12a82a",
   "metadata": {},
   "outputs": [
    {
     "name": "stdout",
     "output_type": "stream",
     "text": [
      "   one  two\n",
      "a  1.0    1\n",
      "b  2.0    2\n",
      "c  3.0    3\n",
      "d  4.0    4\n",
      "e  5.0    5\n",
      "f  6.0    6\n",
      "g  NaN    7\n",
      "h  NaN    8\n"
     ]
    }
   ],
   "source": [
    "info = {'one' : pd.Series([1, 2, 3, 4, 5, 6], index=['a', 'b', 'c', 'd', 'e', 'f']),  \n",
    "   'two' : pd.Series([1, 2, 3, 4, 5, 6, 7, 8], index=['a', 'b', 'c', 'd', 'e', 'f', 'g', 'h'])}  \n",
    "  \n",
    "d1 = pd.DataFrame(info)  \n",
    "print (d1)"
   ]
  },
  {
   "cell_type": "code",
   "execution_count": 9,
   "id": "b229b244",
   "metadata": {},
   "outputs": [
    {
     "name": "stdout",
     "output_type": "stream",
     "text": [
      "{'age': a    24\n",
      "b    25\n",
      "c    26\n",
      "dtype: int64, 'name': a         Omkar\n",
      "b          yash\n",
      "c    Prathamesh\n",
      "dtype: object}\n"
     ]
    }
   ],
   "source": [
    "a={\"age\":pd.Series([24,25,26],index=[\"a\",\"b\",\"c\"]),\n",
    "   \"name\":pd.Series([\"Omkar\",\"yash\",\"Prathamesh\"],index=[\"a\",\"b\",\"c\"])}\n",
    "df=pd.DataFrame(a)\n",
    "print(a)"
   ]
  },
  {
   "cell_type": "code",
   "execution_count": 10,
   "id": "791900e9",
   "metadata": {},
   "outputs": [
    {
     "name": "stdout",
     "output_type": "stream",
     "text": [
      "   one  two\n",
      "a  1.0    1\n",
      "b  2.0    2\n",
      "c  3.0    3\n",
      "d  4.0    4\n",
      "e  5.0    5\n",
      "f  6.0    6\n",
      "g  NaN    7\n",
      "h  NaN    8\n"
     ]
    }
   ],
   "source": [
    "info = {'one' : pd.Series([1, 2, 3, 4, 5, 6], index=['a', 'b', 'c', 'd', 'e', 'f']),  \n",
    "   'two' : pd.Series([1, 2, 3, 4, 5, 6, 7, 8], index=['a', 'b', 'c', 'd', 'e', 'f', 'g', 'h'])}  \n",
    "  \n",
    "df = pd.DataFrame(info)  \n",
    "print (df)"
   ]
  },
  {
   "cell_type": "code",
   "execution_count": 11,
   "id": "c58e6695",
   "metadata": {},
   "outputs": [
    {
     "name": "stdout",
     "output_type": "stream",
     "text": [
      "a    1.0\n",
      "b    2.0\n",
      "c    3.0\n",
      "d    4.0\n",
      "e    5.0\n",
      "f    6.0\n",
      "g    NaN\n",
      "h    NaN\n",
      "Name: one, dtype: float64\n"
     ]
    }
   ],
   "source": [
    "print(df[\"one\"])"
   ]
  },
  {
   "cell_type": "code",
   "execution_count": 12,
   "id": "ee26a7a1",
   "metadata": {},
   "outputs": [
    {
     "name": "stdout",
     "output_type": "stream",
     "text": [
      "<class 'pandas.core.frame.DataFrame'>\n",
      "Index: 8 entries, a to h\n",
      "Data columns (total 2 columns):\n",
      " #   Column  Non-Null Count  Dtype  \n",
      "---  ------  --------------  -----  \n",
      " 0   one     6 non-null      float64\n",
      " 1   two     8 non-null      int64  \n",
      "dtypes: float64(1), int64(1)\n",
      "memory usage: 192.0+ bytes\n"
     ]
    }
   ],
   "source": [
    "df.info()"
   ]
  },
  {
   "cell_type": "code",
   "execution_count": 13,
   "id": "ce10499d",
   "metadata": {},
   "outputs": [
    {
     "name": "stdout",
     "output_type": "stream",
     "text": [
      "   one  two\n",
      "a  1.0    1\n",
      "b  2.0    2\n",
      "c  3.0    3\n",
      "d  4.0    4\n",
      "e  5.0    5\n",
      "f  NaN    6\n"
     ]
    }
   ],
   "source": [
    "info = {'one' : pd.Series([1, 2, 3, 4, 5], index=['a', 'b', 'c', 'd', 'e']),  \n",
    "   'two' : pd.Series([1, 2, 3, 4, 5, 6], index=['a', 'b', 'c', 'd', 'e', 'f'])}  \n",
    "  \n",
    "df = pd.DataFrame(info)  \n",
    "print(df)"
   ]
  },
  {
   "cell_type": "markdown",
   "id": "dfd7d1d8",
   "metadata": {},
   "source": [
    "### Adding column in dataframe"
   ]
  },
  {
   "cell_type": "code",
   "execution_count": 14,
   "id": "b29b231a",
   "metadata": {},
   "outputs": [
    {
     "name": "stdout",
     "output_type": "stream",
     "text": [
      "   one  two  three\n",
      "a  1.0    1   20.0\n",
      "b  2.0    2   40.0\n",
      "c  3.0    3   60.0\n",
      "d  4.0    4    NaN\n",
      "e  5.0    5    NaN\n",
      "f  NaN    6    NaN\n"
     ]
    }
   ],
   "source": [
    "df['three']=pd.Series([20,40,60],index=['a','b','c'])  \n",
    "print (df) "
   ]
  },
  {
   "cell_type": "code",
   "execution_count": 15,
   "id": "02e1b0f2",
   "metadata": {},
   "outputs": [],
   "source": [
    "df['four']=df['one']+df['three']"
   ]
  },
  {
   "cell_type": "code",
   "execution_count": 16,
   "id": "fb2a0548",
   "metadata": {},
   "outputs": [
    {
     "name": "stdout",
     "output_type": "stream",
     "text": [
      "   one  two  three  four\n",
      "a  1.0    1   20.0  21.0\n",
      "b  2.0    2   40.0  42.0\n",
      "c  3.0    3   60.0  63.0\n",
      "d  4.0    4    NaN   NaN\n",
      "e  5.0    5    NaN   NaN\n",
      "f  NaN    6    NaN   NaN\n"
     ]
    }
   ],
   "source": [
    "print(df)"
   ]
  },
  {
   "cell_type": "code",
   "execution_count": 17,
   "id": "e5502e4d",
   "metadata": {},
   "outputs": [
    {
     "name": "stdout",
     "output_type": "stream",
     "text": [
      "   one  two  three  four    Five\n",
      "a  1.0    1   20.0  21.0   420.0\n",
      "b  2.0    2   40.0  42.0  1680.0\n",
      "c  3.0    3   60.0  63.0  3780.0\n",
      "d  4.0    4    NaN   NaN     NaN\n",
      "e  5.0    5    NaN   NaN     NaN\n",
      "f  NaN    6    NaN   NaN     NaN\n"
     ]
    }
   ],
   "source": [
    "df[\"Five\"]=df[\"three\"]*df[\"four\"]\n",
    "print(df)"
   ]
  },
  {
   "cell_type": "markdown",
   "id": "810239b9",
   "metadata": {},
   "source": [
    "# Deleting column"
   ]
  },
  {
   "cell_type": "code",
   "execution_count": 18,
   "id": "4a55bea5",
   "metadata": {},
   "outputs": [
    {
     "name": "stdout",
     "output_type": "stream",
     "text": [
      "Delete the first column:\n",
      "   two  three  four    Five\n",
      "a    1   20.0  21.0   420.0\n",
      "b    2   40.0  42.0  1680.0\n",
      "c    3   60.0  63.0  3780.0\n",
      "d    4    NaN   NaN     NaN\n",
      "e    5    NaN   NaN     NaN\n",
      "f    6    NaN   NaN     NaN\n",
      "Delete the another column:\n",
      "   three  four    Five\n",
      "a   20.0  21.0   420.0\n",
      "b   40.0  42.0  1680.0\n",
      "c   60.0  63.0  3780.0\n",
      "d    NaN   NaN     NaN\n",
      "e    NaN   NaN     NaN\n",
      "f    NaN   NaN     NaN\n"
     ]
    }
   ],
   "source": [
    "print (\"Delete the first column:\")  \n",
    "del df['one']  \n",
    "print (df)  \n",
    "# using pop function  \n",
    "print (\"Delete the another column:\")  \n",
    "df.pop('two')  \n",
    "print (df) "
   ]
  },
  {
   "cell_type": "code",
   "execution_count": 21,
   "id": "221c3ce0",
   "metadata": {},
   "outputs": [
    {
     "name": "stdout",
     "output_type": "stream",
     "text": [
      "    x   y   z\n",
      "0  12  22  36\n",
      "1  10  20  32\n",
      "2   8  18  34\n",
      "3  25  47  38\n",
      "4  15  24  12\n",
      "5  12  17  45\n"
     ]
    }
   ],
   "source": [
    "import pandas as pd\n",
    "\n",
    "# Creating the first DataFrame\n",
    "Info1 = pd.DataFrame({\"x\":[12, 10, 8],\n",
    "                      \"y\":[22, 20, 18],\n",
    "                      \"z\":[36, 32, 34]})\n",
    "\n",
    "# Creating the second DataFrame\n",
    "Info2 = pd.DataFrame({\"x\":[25, 15, 12],\n",
    "                      \"y\":[47, 24, 17],\n",
    "                      \"z\":[38, 12, 45]})\n",
    "\n",
    "# Appending Info2 at the end of Info1 using concat\n",
    "Info1 = pd.concat([Info1, Info2], ignore_index=True)\n",
    "\n",
    "print(Info1)\n"
   ]
  },
  {
   "cell_type": "code",
   "execution_count": null,
   "id": "05738f02",
   "metadata": {},
   "outputs": [],
   "source": []
  }
 ],
 "metadata": {
  "kernelspec": {
   "display_name": "Python 3 (ipykernel)",
   "language": "python",
   "name": "python3"
  },
  "language_info": {
   "codemirror_mode": {
    "name": "ipython",
    "version": 3
   },
   "file_extension": ".py",
   "mimetype": "text/x-python",
   "name": "python",
   "nbconvert_exporter": "python",
   "pygments_lexer": "ipython3",
   "version": "3.11.5"
  }
 },
 "nbformat": 4,
 "nbformat_minor": 5
}
