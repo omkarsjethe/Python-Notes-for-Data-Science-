{
 "cells": [
  {
   "cell_type": "code",
   "execution_count": 1,
   "id": "89dc18f6",
   "metadata": {},
   "outputs": [
    {
     "name": "stdout",
     "output_type": "stream",
     "text": [
      "Hello\n"
     ]
    }
   ],
   "source": [
    "def c() :\n",
    "    print(\"Hello\")\n",
    "c()"
   ]
  },
  {
   "cell_type": "code",
   "execution_count": 2,
   "id": "96bc2a3e",
   "metadata": {},
   "outputs": [
    {
     "name": "stdout",
     "output_type": "stream",
     "text": [
      "Hello World!\n",
      "Outside function\n"
     ]
    }
   ],
   "source": [
    "def greet():\n",
    "    print('Hello World!')\n",
    "# call the function\n",
    "greet()\n",
    "print('Outside function')"
   ]
  },
  {
   "cell_type": "code",
   "execution_count": 3,
   "id": "27c6ba81",
   "metadata": {},
   "outputs": [
    {
     "name": "stdout",
     "output_type": "stream",
     "text": [
      "hello Omkar\n",
      "Surname is  Jethe\n"
     ]
    }
   ],
   "source": [
    "def name (fname,lastname):\n",
    "    print(\"hello\",fname)\n",
    "    print(\"Surname is \",lastname)\n",
    "name(\"Omkar\",\"Jethe\")"
   ]
  },
  {
   "cell_type": "code",
   "execution_count": 4,
   "id": "1d6dbc3d",
   "metadata": {},
   "outputs": [
    {
     "name": "stdout",
     "output_type": "stream",
     "text": [
      "car colour is Black\n",
      "Car brand is bmw\n",
      "Car make is germany\n"
     ]
    }
   ],
   "source": [
    "def cars(make,brand,colour):\n",
    "    print(f\"car colour is {colour}\")\n",
    "    print(f\"Car brand is {brand}\")\n",
    "    print(f\"Car make is {make}\")\n",
    "cars(\"germany\",\"bmw\",\"Black\")"
   ]
  },
  {
   "cell_type": "code",
   "execution_count": 5,
   "id": "ecbb474b",
   "metadata": {},
   "outputs": [
    {
     "name": "stdout",
     "output_type": "stream",
     "text": [
      "40\n"
     ]
    }
   ],
   "source": [
    "def sum (a,b):\n",
    "    sum=a+b\n",
    "    print(sum)\n",
    "sum(10,30)"
   ]
  },
  {
   "cell_type": "code",
   "execution_count": 6,
   "id": "ca8364a4",
   "metadata": {},
   "outputs": [
    {
     "name": "stdout",
     "output_type": "stream",
     "text": [
      "65\n"
     ]
    }
   ],
   "source": [
    "def multiplication(a,b):\n",
    "    mult=a*b\n",
    "    print(mult)\n",
    "multiplication(5,13)"
   ]
  },
  {
   "cell_type": "code",
   "execution_count": 7,
   "id": "a15ca03e",
   "metadata": {},
   "outputs": [
    {
     "name": "stdout",
     "output_type": "stream",
     "text": [
      "25\n"
     ]
    }
   ],
   "source": [
    "def sqaures(num):\n",
    "    s=num*num\n",
    "    return s\n",
    "sqaure=sqaures(5)\n",
    "print(sqaure)"
   ]
  },
  {
   "cell_type": "code",
   "execution_count": 8,
   "id": "bca61b33",
   "metadata": {},
   "outputs": [
    {
     "name": "stdout",
     "output_type": "stream",
     "text": [
      "729\n"
     ]
    }
   ],
   "source": [
    "def cube(num):\n",
    "    c=num*num*num\n",
    "    return c\n",
    "cube=cube(9)\n",
    "print(cube)"
   ]
  },
  {
   "cell_type": "code",
   "execution_count": 9,
   "id": "a856d55a",
   "metadata": {},
   "outputs": [],
   "source": [
    "def future_function():\n",
    "    pass\n",
    "\n",
    "# this will execute without any action or error\n",
    "future_function()  "
   ]
  },
  {
   "cell_type": "code",
   "execution_count": 10,
   "id": "6c5f10c3",
   "metadata": {},
   "outputs": [
    {
     "name": "stdout",
     "output_type": "stream",
     "text": [
      "Square Root of 4 is 2.0\n",
      "2 to the power 3 is 8\n"
     ]
    }
   ],
   "source": [
    "import math\n",
    "\n",
    "# sqrt computes the square root\n",
    "square_root = math.sqrt(4)\n",
    "\n",
    "print(\"Square Root of 4 is\",square_root)\n",
    "\n",
    "# pow() comptes the power\n",
    "power = pow(2, 3)\n",
    "\n",
    "print(\"2 to the power 3 is\",power)"
   ]
  },
  {
   "cell_type": "code",
   "execution_count": null,
   "id": "b35f0c78",
   "metadata": {},
   "outputs": [],
   "source": []
  }
 ],
 "metadata": {
  "kernelspec": {
   "display_name": "Python 3 (ipykernel)",
   "language": "python",
   "name": "python3"
  },
  "language_info": {
   "codemirror_mode": {
    "name": "ipython",
    "version": 3
   },
   "file_extension": ".py",
   "mimetype": "text/x-python",
   "name": "python",
   "nbconvert_exporter": "python",
   "pygments_lexer": "ipython3",
   "version": "3.11.5"
  }
 },
 "nbformat": 4,
 "nbformat_minor": 5
}
