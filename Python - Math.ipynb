{
 "cells": [
  {
   "cell_type": "markdown",
   "id": "affad3ea",
   "metadata": {},
   "source": [
    "# Python Math\n",
    "Python has a set of built-in math functions, including an extensive math module, that allows you to perform mathematical tasks on numbers.\n"
   ]
  },
  {
   "cell_type": "markdown",
   "id": "9816fb23",
   "metadata": {},
   "source": [
    "### Built-in Math Functions\n",
    "The min() and max() functions can be used to find the lowest or highest value in an iterable:"
   ]
  },
  {
   "cell_type": "code",
   "execution_count": 2,
   "id": "75e50348",
   "metadata": {},
   "outputs": [
    {
     "name": "stdout",
     "output_type": "stream",
     "text": [
      "Minimum number is  : 3\n",
      "Maximum number is  : 9\n"
     ]
    }
   ],
   "source": [
    "a=min(3,6,9)\n",
    "b=max(9,6,3)\n",
    "print(\"Minimum number is  :\",a)\n",
    "print(\"Maximum number is  :\",b)"
   ]
  },
  {
   "cell_type": "markdown",
   "id": "7084fb30",
   "metadata": {},
   "source": [
    "#### The abs() function returns the absolute (positive) value of the specified number:"
   ]
  },
  {
   "cell_type": "code",
   "execution_count": 4,
   "id": "442b9d37",
   "metadata": {},
   "outputs": [
    {
     "name": "stdout",
     "output_type": "stream",
     "text": [
      "7.9\n"
     ]
    }
   ],
   "source": [
    "a=abs(-7.9)\n",
    "print(a)"
   ]
  },
  {
   "cell_type": "markdown",
   "id": "562ce60d",
   "metadata": {},
   "source": [
    "#### The pow(x, y) function returns the value of x to the power of y (xy)."
   ]
  },
  {
   "cell_type": "code",
   "execution_count": 5,
   "id": "aeecd7c0",
   "metadata": {},
   "outputs": [
    {
     "name": "stdout",
     "output_type": "stream",
     "text": [
      "64\n"
     ]
    }
   ],
   "source": [
    "a=pow(4,3)#Return the value of 4 to the power of 3 (same as 4 * 4 * 4):\n",
    "print(a)"
   ]
  },
  {
   "cell_type": "code",
   "execution_count": 6,
   "id": "cee698d5",
   "metadata": {},
   "outputs": [
    {
     "name": "stdout",
     "output_type": "stream",
     "text": [
      "25\n"
     ]
    }
   ],
   "source": [
    "b=pow(5,2)\n",
    "print(b)"
   ]
  },
  {
   "cell_type": "markdown",
   "id": "695f5219",
   "metadata": {},
   "source": [
    "### The Math Module\n",
    "Python has also a built-in module called math, which extends the list of mathematical functions.\n",
    "\n",
    "To use it, you must import the math module:"
   ]
  },
  {
   "cell_type": "markdown",
   "id": "b6442a84",
   "metadata": {},
   "source": [
    "When you have imported the math module, you can start using methods and constants of the module.\n",
    "\n",
    "The math.sqrt() method for example, returns the square root of a number:"
   ]
  },
  {
   "cell_type": "code",
   "execution_count": 9,
   "id": "492fd180",
   "metadata": {},
   "outputs": [],
   "source": [
    "import math as m"
   ]
  },
  {
   "cell_type": "code",
   "execution_count": 11,
   "id": "bcf52ee3",
   "metadata": {},
   "outputs": [
    {
     "name": "stdout",
     "output_type": "stream",
     "text": [
      "2.0\n"
     ]
    }
   ],
   "source": [
    "a=m.sqrt(4)\n",
    "print(a)"
   ]
  },
  {
   "cell_type": "code",
   "execution_count": 12,
   "id": "3b6afc86",
   "metadata": {},
   "outputs": [
    {
     "name": "stdout",
     "output_type": "stream",
     "text": [
      "8.0\n"
     ]
    }
   ],
   "source": [
    "b=m.sqrt(64)\n",
    "print(b)"
   ]
  },
  {
   "cell_type": "markdown",
   "id": "bb9101b6",
   "metadata": {},
   "source": [
    "#### The math.ceil() method rounds a number upwards to its nearest integer, and the math.floor() method rounds a number downwards to its nearest integer, and returns the result:"
   ]
  },
  {
   "cell_type": "code",
   "execution_count": 14,
   "id": "5625fa87",
   "metadata": {},
   "outputs": [
    {
     "name": "stdout",
     "output_type": "stream",
     "text": [
      "Celing Value is  2\n",
      "Floor value is  1\n"
     ]
    }
   ],
   "source": [
    "a=m.ceil(1.4)\n",
    "b=m.floor(1.4)\n",
    "print(\"Celing Value is \",a)\n",
    "print(\"Floor value is \",b)"
   ]
  },
  {
   "cell_type": "markdown",
   "id": "327acf17",
   "metadata": {},
   "source": [
    "#### The math.pi constant, returns the value of PI (3.14...):"
   ]
  },
  {
   "cell_type": "code",
   "execution_count": 15,
   "id": "81530085",
   "metadata": {},
   "outputs": [
    {
     "name": "stdout",
     "output_type": "stream",
     "text": [
      "3.141592653589793\n"
     ]
    }
   ],
   "source": [
    "a=m.pi\n",
    "print(a)"
   ]
  },
  {
   "cell_type": "code",
   "execution_count": null,
   "id": "508aab61",
   "metadata": {},
   "outputs": [],
   "source": []
  }
 ],
 "metadata": {
  "kernelspec": {
   "display_name": "Python 3 (ipykernel)",
   "language": "python",
   "name": "python3"
  },
  "language_info": {
   "codemirror_mode": {
    "name": "ipython",
    "version": 3
   },
   "file_extension": ".py",
   "mimetype": "text/x-python",
   "name": "python",
   "nbconvert_exporter": "python",
   "pygments_lexer": "ipython3",
   "version": "3.11.5"
  }
 },
 "nbformat": 4,
 "nbformat_minor": 5
}
