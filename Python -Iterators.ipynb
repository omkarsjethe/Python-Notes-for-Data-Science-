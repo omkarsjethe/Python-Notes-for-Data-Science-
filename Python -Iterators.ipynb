{
 "cells": [
  {
   "cell_type": "markdown",
   "id": "93f6ced4",
   "metadata": {},
   "source": [
    "# Python Iterators\n",
    "Iterators are methods that iterate collections like lists, tuples, etc. Using an iterator method, we can loop through an object and return its elements.\n",
    "\n",
    "Technically, a Python iterator object must implement two special methods, __iter__() and __next__(), collectively called the iterator protocol."
   ]
  },
  {
   "cell_type": "code",
   "execution_count": 1,
   "id": "7113ad6f",
   "metadata": {},
   "outputs": [
    {
     "name": "stdout",
     "output_type": "stream",
     "text": [
      "3\n",
      "6\n",
      "9\n"
     ]
    }
   ],
   "source": [
    "a=[3,6,9]\n",
    "\n",
    "iterator=iter(a)\n",
    "print(next(iterator))\n",
    "print(next(iterator))\n",
    "print(next(iterator))"
   ]
  },
  {
   "cell_type": "markdown",
   "id": "f9b3ffea",
   "metadata": {},
   "source": [
    "### Using for Loop\n",
    "A more elegant way of automatically iterating is by using the for loop."
   ]
  },
  {
   "cell_type": "code",
   "execution_count": 2,
   "id": "991efd8e",
   "metadata": {},
   "outputs": [
    {
     "name": "stdout",
     "output_type": "stream",
     "text": [
      "1\n",
      "2\n",
      "3\n"
     ]
    }
   ],
   "source": [
    "a=[1,2,3]\n",
    "\n",
    "for i in a:\n",
    "    print(i)"
   ]
  },
  {
   "cell_type": "code",
   "execution_count": 3,
   "id": "cb00993d",
   "metadata": {},
   "outputs": [
    {
     "name": "stdout",
     "output_type": "stream",
     "text": [
      "1\n",
      "2\n",
      "3\n",
      "4\n",
      "5\n"
     ]
    }
   ],
   "source": [
    "a=[1,2,3,4,5]\n",
    "\n",
    "iterator=iter(a)\n",
    "\n",
    "for i in iterator :\n",
    "    print(i)"
   ]
  },
  {
   "cell_type": "code",
   "execution_count": 4,
   "id": "506bfd77",
   "metadata": {},
   "outputs": [
    {
     "name": "stdout",
     "output_type": "stream",
     "text": [
      "1\n",
      "2\n",
      "4\n",
      "8\n"
     ]
    }
   ],
   "source": [
    "class PowTwo:\n",
    "    def __init__(self, max=0):\n",
    "        self.max = max\n",
    "\n",
    "    def __iter__(self):\n",
    "        self.n = 0\n",
    "        return self\n",
    "\n",
    "    def __next__(self):\n",
    "        if self.n <= self.max:\n",
    "            result = 2 ** self.n\n",
    "            self.n += 1\n",
    "            return result\n",
    "        else:\n",
    "            raise StopIteration\n",
    "\n",
    "\n",
    "# create an object\n",
    "numbers = PowTwo(3)\n",
    "\n",
    "# create an iterable from the object\n",
    "i = iter(numbers)\n",
    "\n",
    "# Using next to get to the next iterator element\n",
    "print(next(i)) # prints 1\n",
    "print(next(i)) # prints 2\n",
    "print(next(i)) # prints 4\n",
    "print(next(i)) # prints 8"
   ]
  },
  {
   "cell_type": "code",
   "execution_count": 5,
   "id": "6b00c80f",
   "metadata": {},
   "outputs": [
    {
     "name": "stdout",
     "output_type": "stream",
     "text": [
      "1\n",
      "2\n",
      "3\n",
      "4\n",
      "5\n"
     ]
    }
   ],
   "source": [
    "class MyNumbers:\n",
    "    def __init__(self, start, end):\n",
    "        self.current = start\n",
    "        self.end = end\n",
    "    \n",
    "    def __iter__(self):\n",
    "        return self\n",
    "    \n",
    "    def __next__(self):\n",
    "        if self.current > self.end:\n",
    "            raise StopIteration\n",
    "        else:\n",
    "            self.current += 1\n",
    "            return self.current - 1\n",
    "\n",
    "# Creating an instance of MyNumbers\n",
    "numbers = MyNumbers(1, 5)\n",
    "\n",
    "# Using the iterator\n",
    "for num in numbers:\n",
    "    print(num)  # Output: 1 2 3 4 5\n"
   ]
  },
  {
   "cell_type": "code",
   "execution_count": 6,
   "id": "5bcb6b5b",
   "metadata": {},
   "outputs": [
    {
     "name": "stdout",
     "output_type": "stream",
     "text": [
      "1\n",
      "2\n",
      "4\n",
      "8\n",
      "16\n",
      "32\n"
     ]
    }
   ],
   "source": [
    "for i in PowTwo(5):\n",
    "    print(i)"
   ]
  },
  {
   "cell_type": "markdown",
   "id": "fdaaa97f",
   "metadata": {},
   "source": [
    "# Python Infinite Iterators\n",
    "An infinite iterator is an iterator that never ends, meaning that it will continue to produce elements indefinitely.\n",
    "\n",
    "Here is an example of how to create an infinite iterator in Python using the count() function from the itertools module,"
   ]
  },
  {
   "cell_type": "code",
   "execution_count": 7,
   "id": "93f4b333",
   "metadata": {},
   "outputs": [
    {
     "name": "stdout",
     "output_type": "stream",
     "text": [
      "1\n",
      "2\n",
      "3\n",
      "4\n",
      "5\n",
      "6\n"
     ]
    }
   ],
   "source": [
    "from itertools import count\n",
    "\n",
    "# create an infinite iterator that starts at 1 and increments by 1 each time\n",
    "infinite_iterator = count(1)\n",
    "\n",
    "# print the first 5 elements of the infinite iterator\n",
    "for i in range(6):\n",
    "    print(next(infinite_iterator))"
   ]
  },
  {
   "cell_type": "code",
   "execution_count": 10,
   "id": "ce08f904",
   "metadata": {},
   "outputs": [
    {
     "name": "stdout",
     "output_type": "stream",
     "text": [
      "Omkar\n",
      "yash\n"
     ]
    }
   ],
   "source": [
    "a=[\"Omkar\",\"yash\",\"Prathamesh\"]\n",
    "\n",
    "iterator=iter(a)\n",
    "\n",
    "print(next(iterator))\n",
    "print(next(iterator))"
   ]
  },
  {
   "cell_type": "code",
   "execution_count": null,
   "id": "a2beffd4",
   "metadata": {},
   "outputs": [],
   "source": []
  }
 ],
 "metadata": {
  "kernelspec": {
   "display_name": "Python 3 (ipykernel)",
   "language": "python",
   "name": "python3"
  },
  "language_info": {
   "codemirror_mode": {
    "name": "ipython",
    "version": 3
   },
   "file_extension": ".py",
   "mimetype": "text/x-python",
   "name": "python",
   "nbconvert_exporter": "python",
   "pygments_lexer": "ipython3",
   "version": "3.11.5"
  }
 },
 "nbformat": 4,
 "nbformat_minor": 5
}
