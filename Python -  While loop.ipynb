{
 "cells": [
  {
   "cell_type": "markdown",
   "id": "55538797",
   "metadata": {},
   "source": [
    "# Python Loops\n",
    "Python has two primitive loop commands:\n",
    "\n",
    "while loops\n",
    "\n",
    "for loops\n"
   ]
  },
  {
   "cell_type": "code",
   "execution_count": null,
   "id": "10119f0e",
   "metadata": {},
   "outputs": [],
   "source": []
  },
  {
   "cell_type": "code",
   "execution_count": 1,
   "id": "729d51e4",
   "metadata": {
    "scrolled": true
   },
   "outputs": [
    {
     "name": "stdout",
     "output_type": "stream",
     "text": [
      "1\n",
      "2\n",
      "3\n",
      "4\n",
      "5\n"
     ]
    }
   ],
   "source": [
    "i = 1\n",
    "while i < 6:\n",
    "  print(i)\n",
    "  i += 1"
   ]
  },
  {
   "cell_type": "code",
   "execution_count": 2,
   "id": "2714aee3",
   "metadata": {},
   "outputs": [
    {
     "name": "stdout",
     "output_type": "stream",
     "text": [
      "1\n",
      "2\n",
      "3\n",
      "4\n",
      "5\n"
     ]
    }
   ],
   "source": [
    "a=1\n",
    "while a<6:\n",
    "    print(a)\n",
    "    a+=1"
   ]
  },
  {
   "cell_type": "code",
   "execution_count": 3,
   "id": "9342c487",
   "metadata": {},
   "outputs": [
    {
     "name": "stdout",
     "output_type": "stream",
     "text": [
      "Iteration no. 1\n",
      "Iteration no. 2\n",
      "Iteration no. 3\n",
      "Iteration no. 4\n",
      "Iteration no. 5\n",
      "End of while loop\n"
     ]
    }
   ],
   "source": [
    "count=0\n",
    "while count<5:\n",
    "   count+=1\n",
    "   print (\"Iteration no. {}\".format(count))\n",
    "\n",
    "print (\"End of while loop\")"
   ]
  },
  {
   "cell_type": "code",
   "execution_count": null,
   "id": "c228f4b1",
   "metadata": {},
   "outputs": [
    {
     "name": "stdout",
     "output_type": "stream",
     "text": [
      "enter a number..1\n",
      "Your input 1\n",
      "enter a number..2\n",
      "Your input 2\n",
      "enter a number..3\n",
      "Your input 3\n"
     ]
    }
   ],
   "source": [
    "var='0'\n",
    "while var.isnumeric()==True:\n",
    "   var=input('enter a number..')\n",
    "   if var.isnumeric()==True:\n",
    "      print (\"Your input\", var)\n",
    "print (\"End of while loop\")"
   ]
  },
  {
   "cell_type": "code",
   "execution_count": null,
   "id": "7671a480",
   "metadata": {},
   "outputs": [],
   "source": [
    "count=0\n",
    "while count<5:\n",
    "   count+=1\n",
    "   print (\"Iteration no. {}\".format(count))\n",
    "else:\n",
    "   print (\"While loop over. Now in else block\")\n",
    "print (\"End of while loop\")"
   ]
  },
  {
   "cell_type": "code",
   "execution_count": null,
   "id": "c5f76e63",
   "metadata": {},
   "outputs": [],
   "source": [
    "a=13\n",
    "while a < 11:\n",
    "    print(f\"the value of current x is {a}\",)\n",
    "    a=a+1\n",
    "else:\n",
    "    print(f\"a is greater than range given\")"
   ]
  },
  {
   "cell_type": "code",
   "execution_count": null,
   "id": "295c1464",
   "metadata": {},
   "outputs": [],
   "source": [
    "a=1\n",
    "i=int(input(\"Enter for table \"))\n",
    "while a < 11:\n",
    "    print(f\"the table of {i} {i} * {a} is {i*a}\")\n",
    "    a=a+1 "
   ]
  },
  {
   "cell_type": "code",
   "execution_count": null,
   "id": "83416d07",
   "metadata": {},
   "outputs": [],
   "source": [
    "a=1\n",
    "range =int(input(\"Range is  \"))\n",
    "while a < range:\n",
    "    print(f\"the sqaure of {a} is {a*a}\")\n",
    "    a=a+1 "
   ]
  },
  {
   "cell_type": "code",
   "execution_count": null,
   "id": "ce38e395",
   "metadata": {},
   "outputs": [],
   "source": [
    "a=1\n",
    "r=int(input(\"Range till cube \"))\n",
    "while a < r:\n",
    "    print(f\" Cube of {a} is {a*a*a}\")\n",
    "    a=a+1"
   ]
  },
  {
   "cell_type": "code",
   "execution_count": null,
   "id": "15d9c5d4",
   "metadata": {},
   "outputs": [],
   "source": [
    "a=0\n",
    "r=int(input(\"Enter the range \"))\n",
    "while a < r  :\n",
    "    print(f\"Even number are {a} \")\n",
    "    a=a+2"
   ]
  },
  {
   "cell_type": "code",
   "execution_count": null,
   "id": "2cd84e01",
   "metadata": {},
   "outputs": [],
   "source": [
    "a=5\n",
    "r=int(input(\"enter the number\"))\n",
    "while a < r :\n",
    "    print(f\"Divible by 5 are  {a}\")\n",
    "    a=a+5"
   ]
  },
  {
   "cell_type": "markdown",
   "id": "c2aea4e4",
   "metadata": {},
   "source": [
    "The while loop requires relevant variables to be ready, in this example we need to define an indexing variable, i, which we set to 1.\n",
    "\n",
    "The break Statement\n",
    "\n",
    "With the break statement we can stop the loop even if the while condition is true:"
   ]
  },
  {
   "cell_type": "markdown",
   "id": "9e6b8c9a",
   "metadata": {},
   "source": [
    "## The break Statement\n",
    "With the break statement we can stop the loop even if the while condition is true:\n",
    "\n"
   ]
  },
  {
   "cell_type": "code",
   "execution_count": null,
   "id": "ec679d0e",
   "metadata": {},
   "outputs": [],
   "source": [
    "i = 1\n",
    "while i < 6:\n",
    "  print(i)\n",
    "  if i == 3:\n",
    "    break\n",
    "  i =i+ 1"
   ]
  },
  {
   "cell_type": "code",
   "execution_count": null,
   "id": "121772ac",
   "metadata": {},
   "outputs": [],
   "source": [
    "a=0\n",
    "r=int(input(\"Enter the number \"))\n",
    "while a < r :\n",
    "    print(f\"Even number are {a}\")\n",
    "    if a==1 :\n",
    "        break\n",
    "    a=a+1"
   ]
  },
  {
   "cell_type": "code",
   "execution_count": null,
   "id": "43c16d5c",
   "metadata": {},
   "outputs": [],
   "source": [
    "a=\"Omkar\"\n",
    "while a in "
   ]
  }
 ],
 "metadata": {
  "kernelspec": {
   "display_name": "Python 3 (ipykernel)",
   "language": "python",
   "name": "python3"
  },
  "language_info": {
   "codemirror_mode": {
    "name": "ipython",
    "version": 3
   },
   "file_extension": ".py",
   "mimetype": "text/x-python",
   "name": "python",
   "nbconvert_exporter": "python",
   "pygments_lexer": "ipython3",
   "version": "3.11.5"
  }
 },
 "nbformat": 4,
 "nbformat_minor": 5
}
