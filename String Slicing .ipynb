{
 "cells": [
  {
   "cell_type": "markdown",
   "id": "83cec1b1",
   "metadata": {},
   "source": [
    "# Slicing\n",
    "You can return a range of characters by using the slice syntax.\n",
    "\n",
    "Specify the start index and the end index, separated by a colon, to return a part of the string.\n",
    "\n",
    "How String slicing in Python works\n",
    "\n",
    "For understanding slicing we will use different methods, here we will cover 2 methods of string slicing, one using the in-build slice() method and another using the [:] array slice. String slicing in Python is about obtaining a sub-string from the given string by slicing it respectively from start to end.\n",
    "\n",
    "Python slicing can be done in two ways:\n",
    "\n",
    "Using a slice() method\n",
    "\n",
    "Using the array slicing [:: ] method\n",
    "\n",
    "Index tracker for positive and negative index: String indexing and slicing in python. Here, the Negative comes into consideration when tracking the string in reverse."
   ]
  },
  {
   "cell_type": "code",
   "execution_count": 4,
   "id": "4c82c446",
   "metadata": {},
   "outputs": [
    {
     "data": {
      "text/plain": [
       "'IamB'"
      ]
     },
     "execution_count": 4,
     "metadata": {},
     "output_type": "execute_result"
    }
   ],
   "source": [
    "a=\"IamBatman \"\n",
    "a[:4]"
   ]
  },
  {
   "cell_type": "code",
   "execution_count": 5,
   "id": "6402ef2d",
   "metadata": {},
   "outputs": [
    {
     "data": {
      "text/plain": [
       "'Batm'"
      ]
     },
     "execution_count": 5,
     "metadata": {},
     "output_type": "execute_result"
    }
   ],
   "source": [
    "a[3:7]"
   ]
  },
  {
   "cell_type": "code",
   "execution_count": 6,
   "id": "a5590162",
   "metadata": {},
   "outputs": [
    {
     "data": {
      "text/plain": [
       "'IBm '"
      ]
     },
     "execution_count": 6,
     "metadata": {},
     "output_type": "execute_result"
    }
   ],
   "source": [
    "a[::3]"
   ]
  },
  {
   "cell_type": "code",
   "execution_count": 7,
   "id": "56d483da",
   "metadata": {},
   "outputs": [
    {
     "data": {
      "text/plain": [
       "'0369'"
      ]
     },
     "execution_count": 7,
     "metadata": {},
     "output_type": "execute_result"
    }
   ],
   "source": [
    "a=\"0123456789\"\n",
    "a[::3]"
   ]
  },
  {
   "cell_type": "code",
   "execution_count": 12,
   "id": "73a25305",
   "metadata": {},
   "outputs": [
    {
     "data": {
      "text/plain": [
       "'9876543210'"
      ]
     },
     "execution_count": 12,
     "metadata": {},
     "output_type": "execute_result"
    }
   ],
   "source": [
    "a=\"0123456789\"\n",
    "a[::-1]"
   ]
  },
  {
   "cell_type": "markdown",
   "id": "115758ef",
   "metadata": {},
   "source": [
    "# Negative Slicing "
   ]
  },
  {
   "cell_type": "code",
   "execution_count": 18,
   "id": "86b02617",
   "metadata": {},
   "outputs": [
    {
     "name": "stdout",
     "output_type": "stream",
     "text": [
      "r Je\n"
     ]
    }
   ],
   "source": [
    "a=\"Omkar Jethe\"\n",
    "print(a[-7:-3])"
   ]
  },
  {
   "cell_type": "code",
   "execution_count": 14,
   "id": "92f773a1",
   "metadata": {},
   "outputs": [
    {
     "name": "stdout",
     "output_type": "stream",
     "text": [
      "l\n"
     ]
    }
   ],
   "source": [
    "b = \"HelloWorld!\"\n",
    "print(b[-5:-2])"
   ]
  },
  {
   "cell_type": "code",
   "execution_count": null,
   "id": "5bd9fcfd",
   "metadata": {},
   "outputs": [],
   "source": []
  }
 ],
 "metadata": {
  "kernelspec": {
   "display_name": "Python 3 (ipykernel)",
   "language": "python",
   "name": "python3"
  },
  "language_info": {
   "codemirror_mode": {
    "name": "ipython",
    "version": 3
   },
   "file_extension": ".py",
   "mimetype": "text/x-python",
   "name": "python",
   "nbconvert_exporter": "python",
   "pygments_lexer": "ipython3",
   "version": "3.11.4"
  }
 },
 "nbformat": 4,
 "nbformat_minor": 5
}
