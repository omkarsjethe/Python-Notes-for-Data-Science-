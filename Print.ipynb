{
 "cells": [
  {
   "cell_type": "code",
   "execution_count": 1,
   "id": "274e5774",
   "metadata": {},
   "outputs": [
    {
     "name": "stdout",
     "output_type": "stream",
     "text": [
      "hello\n"
     ]
    }
   ],
   "source": [
    "print(\"hello\")"
   ]
  },
  {
   "cell_type": "code",
   "execution_count": 1,
   "id": "962400b6",
   "metadata": {},
   "outputs": [
    {
     "name": "stdout",
     "output_type": "stream",
     "text": [
      "9\n"
     ]
    }
   ],
   "source": [
    "num=9\n",
    "print(num)"
   ]
  },
  {
   "cell_type": "code",
   "execution_count": 2,
   "id": "06e0fa0b",
   "metadata": {},
   "outputs": [
    {
     "name": "stdout",
     "output_type": "stream",
     "text": [
      "Omkar Jethe\n"
     ]
    }
   ],
   "source": [
    "name='Omkar'\n",
    "surname='Jethe'\n",
    "print(name,surname)"
   ]
  },
  {
   "cell_type": "markdown",
   "id": "8a52afed",
   "metadata": {},
   "source": [
    "# F String "
   ]
  },
  {
   "cell_type": "code",
   "execution_count": 4,
   "id": "fabc857a",
   "metadata": {},
   "outputs": [
    {
     "name": "stdout",
     "output_type": "stream",
     "text": [
      "My name is Omkar and surname is Jethe\n"
     ]
    }
   ],
   "source": [
    "name='Omkar'\n",
    "surname='Jethe'\n",
    "print(f\"My name is {name } and  my surname is {surname}\" )"
   ]
  },
  {
   "cell_type": "code",
   "execution_count": 5,
   "id": "e62e2abe",
   "metadata": {},
   "outputs": [
    {
     "name": "stdout",
     "output_type": "stream",
     "text": [
      "My name is : Omkar\n"
     ]
    }
   ],
   "source": [
    "print(\"My name is :\",name)"
   ]
  },
  {
   "cell_type": "code",
   "execution_count": 6,
   "id": "69b0b286",
   "metadata": {},
   "outputs": [
    {
     "name": "stdout",
     "output_type": "stream",
     "text": [
      "My surname is : Jethe\n"
     ]
    }
   ],
   "source": [
    "print(\"My surname is :\",surname)"
   ]
  },
  {
   "cell_type": "code",
   "execution_count": 6,
   "id": "177eb1c3",
   "metadata": {},
   "outputs": [
    {
     "name": "stdout",
     "output_type": "stream",
     "text": [
      "Om\n"
     ]
    }
   ],
   "source": [
    "a=\"Omkar\"\n",
    "print(a[0:2])"
   ]
  },
  {
   "cell_type": "markdown",
   "id": "982b3558",
   "metadata": {},
   "source": [
    "# Print text in Single word form "
   ]
  },
  {
   "cell_type": "code",
   "execution_count": 7,
   "id": "d67c24e7",
   "metadata": {},
   "outputs": [
    {
     "name": "stdout",
     "output_type": "stream",
     "text": [
      "O\n",
      "m\n",
      "k\n",
      "a\n",
      "r\n"
     ]
    }
   ],
   "source": [
    "for x in \"Omkar\":\n",
    "  print(x)"
   ]
  },
  {
   "cell_type": "markdown",
   "id": "e0217201",
   "metadata": {},
   "source": [
    "# To Find the length of String "
   ]
  },
  {
   "cell_type": "code",
   "execution_count": 8,
   "id": "7d1a3a48",
   "metadata": {},
   "outputs": [
    {
     "name": "stdout",
     "output_type": "stream",
     "text": [
      "22\n"
     ]
    }
   ],
   "source": [
    "a = \"My Name is Omkar Jethe\"\n",
    "print(len(a))"
   ]
  },
  {
   "cell_type": "markdown",
   "id": "c05267b1",
   "metadata": {},
   "source": [
    "# To Check whether the Word is Present in text"
   ]
  },
  {
   "cell_type": "code",
   "execution_count": 9,
   "id": "83f1e631",
   "metadata": {},
   "outputs": [
    {
     "name": "stdout",
     "output_type": "stream",
     "text": [
      "True\n"
     ]
    }
   ],
   "source": [
    "a= \"My Name is Omkar Jethe\"\n",
    "print(\"is\" in a)"
   ]
  },
  {
   "cell_type": "markdown",
   "id": "24589fe2",
   "metadata": {},
   "source": [
    "# To Check whether the Word is Present in text Using If else :"
   ]
  },
  {
   "cell_type": "code",
   "execution_count": 11,
   "id": "6a0813bc",
   "metadata": {},
   "outputs": [
    {
     "name": "stdout",
     "output_type": "stream",
     "text": [
      "Not  Present in text\n"
     ]
    }
   ],
   "source": [
    "a= \"My Name is Omkar Jethe\"\n",
    "if \"name\" in a:\n",
    "        print(\"Yes Present in text\")\n",
    "else :\n",
    "        print(\"Not  Present in text\")"
   ]
  },
  {
   "cell_type": "markdown",
   "id": "7f2e8f24",
   "metadata": {},
   "source": [
    "# To Check whether the Word is Present in text using user input Function "
   ]
  },
  {
   "cell_type": "code",
   "execution_count": 12,
   "id": "8a650549",
   "metadata": {},
   "outputs": [
    {
     "name": "stdout",
     "output_type": "stream",
     "text": [
      "Enter From The text to checkMy Name is Omkar \n",
      "Text to be searched Omkar\n",
      "Yes Present in text\n"
     ]
    }
   ],
   "source": [
    "a=input(\"Enter From The text to check\")\n",
    "b=input (\"Text to be searched \")\n",
    "if b in a :\n",
    "            print(\"Yes Present in text\")\n",
    "else :\n",
    "        print(\"Not  Present in text\")"
   ]
  },
  {
   "cell_type": "markdown",
   "id": "da1b5140",
   "metadata": {},
   "source": [
    "# To Check whether the Word is not  Present in text :"
   ]
  },
  {
   "cell_type": "code",
   "execution_count": 14,
   "id": "dc7d3e8e",
   "metadata": {},
   "outputs": [
    {
     "name": "stdout",
     "output_type": "stream",
     "text": [
      "Okkay \n"
     ]
    }
   ],
   "source": [
    "a= \"My Name is Omkar Jethe\"\n",
    "if \"name\" not in a:\n",
    "        print(\"Not Present in text\")\n",
    "else :\n",
    "        print(\"Present in phrase \")"
   ]
  },
  {
   "cell_type": "code",
   "execution_count": null,
   "id": "2835a86e",
   "metadata": {},
   "outputs": [],
   "source": []
  }
 ],
 "metadata": {
  "kernelspec": {
   "display_name": "Python 3 (ipykernel)",
   "language": "python",
   "name": "python3"
  },
  "language_info": {
   "codemirror_mode": {
    "name": "ipython",
    "version": 3
   },
   "file_extension": ".py",
   "mimetype": "text/x-python",
   "name": "python",
   "nbconvert_exporter": "python",
   "pygments_lexer": "ipython3",
   "version": "3.11.4"
  }
 },
 "nbformat": 4,
 "nbformat_minor": 5
}
