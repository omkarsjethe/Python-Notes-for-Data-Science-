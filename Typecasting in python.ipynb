{
 "cells": [
  {
   "cell_type": "markdown",
   "id": "da57983a",
   "metadata": {},
   "source": [
    "# Python Type Casting\n",
    "From a programming point of view, a type casting refers to converting an object of one type into another. Here, we shall learn about type casting in Python Programming.\n",
    "\n",
    "Python Type Casting is a process in which we convert a literal of one data type to another data type. Python supports two types of casting − implicit and explicit.\n",
    "\n",
    "In Python there are different data types, such as numbers, sequences, mappings etc. There may be a situation where, you have the available data of one type but you want to use it in another form. For example, the user has input a string but you want to use it as a number. Python's type casting mechanism let you do that."
   ]
  },
  {
   "cell_type": "markdown",
   "id": "0dd8ae74",
   "metadata": {},
   "source": [
    "# Python Implicit Casting\n",
    "When any language compiler/interpreter automatically converts object of one type into other, it is called automatic or implicit casting. Python is a strongly typed language. It doesn't allow automatic type conversion between unrelated data types. For example, a string cannot be converted to any number type. However, an integer can be cast into a float. Other languages such as JavaScript is a weakly typed language, where an integer is coerced into a string for concatenation.\n",
    "\n",
    "Note that memory requirement of each data type is different. For example, an integer object in Python occupies 4 bytes of memory, while a float object needs 8 bytes because of its fractional part. Hence, Python interpreter doesn't automatically convert a float to int, because it will result in loss of data. On the other hand, int can be easily converted into float by setting its fractional part to 0.\n",
    "\n",
    "Implicit int to float casting takes place when any arithmetic operation on int and float operands is done.\n",
    "\n",
    "Consider we have an ,int and one float variable"
   ]
  },
  {
   "cell_type": "code",
   "execution_count": 1,
   "id": "c3ee9d19",
   "metadata": {},
   "outputs": [],
   "source": [
    "a=10.0"
   ]
  },
  {
   "cell_type": "code",
   "execution_count": 2,
   "id": "4909c9d3",
   "metadata": {},
   "outputs": [],
   "source": [
    "b=17.0"
   ]
  },
  {
   "cell_type": "code",
   "execution_count": 3,
   "id": "f304c176",
   "metadata": {},
   "outputs": [],
   "source": [
    "c=a*b"
   ]
  },
  {
   "cell_type": "code",
   "execution_count": 4,
   "id": "17c244a9",
   "metadata": {},
   "outputs": [
    {
     "data": {
      "text/plain": [
       "170.0"
      ]
     },
     "execution_count": 4,
     "metadata": {},
     "output_type": "execute_result"
    }
   ],
   "source": [
    "c"
   ]
  },
  {
   "cell_type": "code",
   "execution_count": 6,
   "id": "4ba0a5b9",
   "metadata": {},
   "outputs": [
    {
     "name": "stdout",
     "output_type": "stream",
     "text": [
      "Enter name Omkar\n",
      "Number 1 is40\n",
      "Number 2 is20\n",
      "Addition is  60\n",
      "Subraction is  20\n",
      "Multiplication is  800\n",
      "Division is  2.0\n",
      "Mod is  0\n"
     ]
    }
   ],
   "source": [
    "name=input(\"Enter name \")\n",
    "num1=int(input(\"Number 1 is\"))\n",
    "num2=int(input(\"Number 2 is\"))\n",
    "add=num1+num2\n",
    "sub=num1-num2\n",
    "mul=num1*num2\n",
    "div=num1/num2\n",
    "mod=num1%num2\n",
    "print(\"Addition is \",add)\n",
    "print(\"Subraction is \",sub)\n",
    "print(\"Multiplication is \",mul)\n",
    "print(\"Division is \",div)\n",
    "print(\"Mod is \",mod)\n"
   ]
  },
  {
   "cell_type": "markdown",
   "id": "997462bd",
   "metadata": {},
   "source": [
    "In implicit type casting, a Python object with lesser byte size is upgraded to match the bigger byte size of other object in the operation.\n",
    "\n",
    "For example, a Boolean object is first upgraded to int and then to float, before the addition with a floating point object.\n",
    "\n",
    "In the following example, we try to add a Boolean object in a float, pleae note that True is equal to 1, and False is equal to 0."
   ]
  },
  {
   "cell_type": "code",
   "execution_count": 7,
   "id": "06ea3e54",
   "metadata": {},
   "outputs": [
    {
     "name": "stdout",
     "output_type": "stream",
     "text": [
      "11.5\n"
     ]
    }
   ],
   "source": [
    "a=True\n",
    "b=10.5\n",
    "c=a+b\n",
    "\n",
    "print (c)"
   ]
  },
  {
   "cell_type": "markdown",
   "id": "248418b1",
   "metadata": {},
   "source": [
    "# Python Explicit Casting\n",
    "Although automatic or implicit casting is limited to int to float conversion, you can use Python's built-in functions int(), float() and str() to perform the explicit conversions such as string to integer.\n",
    "\n",
    "Python int() Function\n",
    "Python's built-in int() function converts an integer literal to an integer object, a float to integer, and a string to integer if the string itself has a valid integer literal representation.\n",
    "\n",
    "Using int() with an int object as argument is equivalent to declaring an int object directly."
   ]
  },
  {
   "cell_type": "code",
   "execution_count": 8,
   "id": "596c7d50",
   "metadata": {},
   "outputs": [
    {
     "name": "stdout",
     "output_type": "stream",
     "text": [
      "10\n"
     ]
    }
   ],
   "source": [
    "a=10.5\n",
    "print(int(a))\n"
   ]
  },
  {
   "cell_type": "code",
   "execution_count": 9,
   "id": "c02ad30f",
   "metadata": {},
   "outputs": [
    {
     "name": "stdout",
     "output_type": "stream",
     "text": [
      "1.0\n"
     ]
    }
   ],
   "source": [
    "a=True\n",
    "print(float(a))"
   ]
  },
  {
   "cell_type": "markdown",
   "id": "8bb94fb7",
   "metadata": {},
   "source": [
    "Binary Conversion to Integer"
   ]
  },
  {
   "cell_type": "code",
   "execution_count": 10,
   "id": "46fd6b36",
   "metadata": {},
   "outputs": [
    {
     "name": "stdout",
     "output_type": "stream",
     "text": [
      "51\n"
     ]
    }
   ],
   "source": [
    " a = int(\"110011\", 2)\n",
    "print(a)"
   ]
  },
  {
   "cell_type": "markdown",
   "id": "a26044f1",
   "metadata": {},
   "source": [
    "Octal String to Integer"
   ]
  },
  {
   "cell_type": "code",
   "execution_count": 11,
   "id": "816d8bda",
   "metadata": {},
   "outputs": [
    {
     "name": "stdout",
     "output_type": "stream",
     "text": [
      "16\n"
     ]
    }
   ],
   "source": [
    "a = int(\"20\", 8)\n",
    "print(a)"
   ]
  },
  {
   "cell_type": "markdown",
   "id": "5b2a29d7",
   "metadata": {},
   "source": [
    "Hexa-Decimal String to Integer"
   ]
  },
  {
   "cell_type": "code",
   "execution_count": 14,
   "id": "911e7d4b",
   "metadata": {},
   "outputs": [
    {
     "name": "stdout",
     "output_type": "stream",
     "text": [
      "681\n"
     ]
    }
   ],
   "source": [
    "a = int(\"2A9\", 16)\n",
    "print(a)"
   ]
  },
  {
   "cell_type": "markdown",
   "id": "b620a3ec",
   "metadata": {},
   "source": [
    "# Python float() Function\n",
    "The float() is a built-in function in Python. It returns a float object if the argument is a float literal, integer or a string with valid floating point representation."
   ]
  },
  {
   "cell_type": "code",
   "execution_count": 15,
   "id": "edf858b1",
   "metadata": {},
   "outputs": [
    {
     "name": "stdout",
     "output_type": "stream",
     "text": [
      "9.0\n"
     ]
    }
   ],
   "source": [
    "a = float(9)\n",
    "print(a)"
   ]
  },
  {
   "cell_type": "code",
   "execution_count": 16,
   "id": "ac14158f",
   "metadata": {},
   "outputs": [
    {
     "name": "stdout",
     "output_type": "stream",
     "text": [
      "10000.0\n"
     ]
    }
   ],
   "source": [
    " a = float(\"1.00E4\")\n",
    "print(a)"
   ]
  },
  {
   "cell_type": "markdown",
   "id": "1a7e831b",
   "metadata": {},
   "source": [
    "# Python str() Function\n",
    "We saw how a Python obtains integer or float number from corresponding string representation. The str() function works the opposite. It surrounds an integer or a float object with quotes (') to return a str object. The str() function returns the string representation of any Python object. In this section, we shall see different examples of str() function in Python.\n",
    "\n",
    "The str() function has three parameters. First required parameter (or argument) is the object whose string representation we want. Other two operators, encoding and errors, are optional.\n",
    "\n",
    "We shall execute str() function in Python console to easily verify that the returned object is a string, with the enclosing quotation marks (')."
   ]
  },
  {
   "cell_type": "code",
   "execution_count": 19,
   "id": "bb93cd24",
   "metadata": {},
   "outputs": [
    {
     "name": "stdout",
     "output_type": "stream",
     "text": [
      "<class 'str'>\n"
     ]
    }
   ],
   "source": [
    "a = str(10)\n",
    "print(type(a))\n"
   ]
  },
  {
   "cell_type": "markdown",
   "id": "6230ad04",
   "metadata": {},
   "source": [
    "# Float to String\n",
    "str() function converts floating point objects with both the notations of floating point, standard notation with a decimal point separating integer and fractional part, and the scientific notation to string object."
   ]
  },
  {
   "cell_type": "code",
   "execution_count": 21,
   "id": "0b156959",
   "metadata": {},
   "outputs": [
    {
     "name": "stdout",
     "output_type": "stream",
     "text": [
      "0.4\n",
      "<class 'str'>\n"
     ]
    }
   ],
   "source": [
    "a = str(2/5)\n",
    "print(a)\n",
    "print(type(a))"
   ]
  },
  {
   "cell_type": "code",
   "execution_count": 22,
   "id": "5c6f5768",
   "metadata": {},
   "outputs": [
    {
     "name": "stdout",
     "output_type": "stream",
     "text": [
      "100000.0\n"
     ]
    }
   ],
   "source": [
    "a=str(10E4)\n",
    "print(a)"
   ]
  },
  {
   "cell_type": "code",
   "execution_count": 23,
   "id": "ae59eb57",
   "metadata": {},
   "outputs": [
    {
     "name": "stdout",
     "output_type": "stream",
     "text": [
      "<class 'str'>\n"
     ]
    }
   ],
   "source": [
    "print(type(a))"
   ]
  },
  {
   "cell_type": "code",
   "execution_count": 24,
   "id": "fa93a9df",
   "metadata": {},
   "outputs": [
    {
     "name": "stdout",
     "output_type": "stream",
     "text": [
      "True\n"
     ]
    }
   ],
   "source": [
    " a=str('True')\n",
    "print(a)"
   ]
  },
  {
   "cell_type": "code",
   "execution_count": 25,
   "id": "94601509",
   "metadata": {},
   "outputs": [
    {
     "name": "stdout",
     "output_type": "stream",
     "text": [
      "<class 'str'>\n"
     ]
    }
   ],
   "source": [
    "print(type(a))"
   ]
  },
  {
   "cell_type": "code",
   "execution_count": null,
   "id": "e93d4fd5",
   "metadata": {},
   "outputs": [],
   "source": []
  }
 ],
 "metadata": {
  "kernelspec": {
   "display_name": "Python 3 (ipykernel)",
   "language": "python",
   "name": "python3"
  },
  "language_info": {
   "codemirror_mode": {
    "name": "ipython",
    "version": 3
   },
   "file_extension": ".py",
   "mimetype": "text/x-python",
   "name": "python",
   "nbconvert_exporter": "python",
   "pygments_lexer": "ipython3",
   "version": "3.11.5"
  }
 },
 "nbformat": 4,
 "nbformat_minor": 5
}
