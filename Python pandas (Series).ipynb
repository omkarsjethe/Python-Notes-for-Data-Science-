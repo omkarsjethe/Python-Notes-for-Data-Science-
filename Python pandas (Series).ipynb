{
 "cells": [
  {
   "cell_type": "markdown",
   "id": "54b6e130",
   "metadata": {},
   "source": [
    "# What is Pandas?\n",
    "Pandas is a Python library used for working with data sets.\n",
    "\n",
    "It has functions for analyzing, cleaning, exploring, and manipulating data.\n",
    "\n",
    "The name \"Pandas\" has a reference to both \"Panel Data\", and \"Python Data Analysis\" and was created by Wes McKinney in 2008."
   ]
  },
  {
   "cell_type": "markdown",
   "id": "2d5047af",
   "metadata": {},
   "source": [
    "# Why Use Pandas?\n",
    "Pandas allows us to analyze big data and make conclusions based on statistical theories.\n",
    "\n",
    "Pandas can clean messy data sets, and make them readable and relevant.\n",
    "\n",
    "Relevant data is very important in data science."
   ]
  },
  {
   "cell_type": "markdown",
   "id": "4aae2033",
   "metadata": {},
   "source": [
    "# What Can Pandas Do?\n",
    "Pandas gives you answers about the data. Like:\n",
    "\n",
    "Is there a correlation between two or more columns?\n",
    "What is average value?\n",
    "Max value?\n",
    "Min value?\n",
    "Pandas are also able to delete rows that are not relevant, or contains wrong values, like empty or NULL values. This is called cleaning the data."
   ]
  },
  {
   "cell_type": "markdown",
   "id": "1adcf66b",
   "metadata": {},
   "source": [
    "# What is a Series?\n",
    "A Pandas Series is like a column in a table.\n",
    "\n",
    "It is a one-dimensional array holding data of any type."
   ]
  },
  {
   "cell_type": "code",
   "execution_count": 1,
   "id": "784fcdaf",
   "metadata": {},
   "outputs": [
    {
     "name": "stdout",
     "output_type": "stream",
     "text": [
      "0    1\n",
      "1    7\n",
      "2    2\n",
      "dtype: int64\n"
     ]
    }
   ],
   "source": [
    "import pandas as pd\n",
    "\n",
    "a = [1, 7, 2]\n",
    "\n",
    "myvar = pd.Series(a)\n",
    "\n",
    "print(myvar)"
   ]
  },
  {
   "cell_type": "code",
   "execution_count": 2,
   "id": "96613045",
   "metadata": {},
   "outputs": [],
   "source": [
    "import pandas as pd\n"
   ]
  },
  {
   "cell_type": "code",
   "execution_count": 3,
   "id": "912beda9",
   "metadata": {},
   "outputs": [
    {
     "name": "stdout",
     "output_type": "stream",
     "text": [
      "0         Omkar\n",
      "1          Yash\n",
      "2    Aishwariya\n",
      "3           Sai\n",
      "4        Asmita\n",
      "5    Prathamesh\n",
      "dtype: object\n"
     ]
    }
   ],
   "source": [
    "a = [\"Omkar\",\"Yash\",\"Aishwariya\",\"Sai\",\"Asmita\",\"Prathamesh\"]\n",
    "\n",
    "b=pd.Series(a)\n",
    "\n",
    "print(b)"
   ]
  },
  {
   "cell_type": "markdown",
   "id": "70c92c1c",
   "metadata": {},
   "source": [
    "# Labels\n",
    "If nothing else is specified, the values are labeled with their index number. First value has index 0, second value has index 1 etc.\n",
    "\n",
    "This label can be used to access a specified value."
   ]
  },
  {
   "cell_type": "code",
   "execution_count": 4,
   "id": "67de0bea",
   "metadata": {},
   "outputs": [
    {
     "name": "stdout",
     "output_type": "stream",
     "text": [
      "Omkar\n"
     ]
    }
   ],
   "source": [
    "print(a[0])"
   ]
  },
  {
   "cell_type": "code",
   "execution_count": 6,
   "id": "bcefdfa2",
   "metadata": {},
   "outputs": [
    {
     "name": "stdout",
     "output_type": "stream",
     "text": [
      "1         Omkar\n",
      "2          Yash\n",
      "3    Aishwariya\n",
      "4           Sai\n",
      "5        Asmita\n",
      "6    Prathamesh\n",
      "dtype: object\n"
     ]
    }
   ],
   "source": [
    "a = [\"Omkar\",\"Yash\",\"Aishwariya\",\"Sai\",\"Asmita\",\"Prathamesh\"]\n",
    "\n",
    "b=pd.Series(a,index=[1,2,3,4,5,6])\n",
    "\n",
    "print(b)"
   ]
  },
  {
   "cell_type": "code",
   "execution_count": 7,
   "id": "5c087a87",
   "metadata": {},
   "outputs": [
    {
     "name": "stdout",
     "output_type": "stream",
     "text": [
      "a         Omkar\n",
      "b          Yash\n",
      "c    Aishwariya\n",
      "d           Sai\n",
      "e        Asmita\n",
      "f    Prathamesh\n",
      "dtype: object\n"
     ]
    }
   ],
   "source": [
    "a = [\"Omkar\",\"Yash\",\"Aishwariya\",\"Sai\",\"Asmita\",\"Prathamesh\"]\n",
    "\n",
    "b=pd.Series(a,index=[\"a\",\"b\",\"c\",\"d\",\"e\",\"f\"])\n",
    "\n",
    "print(b)"
   ]
  },
  {
   "cell_type": "code",
   "execution_count": 8,
   "id": "d389b984",
   "metadata": {},
   "outputs": [
    {
     "name": "stdout",
     "output_type": "stream",
     "text": [
      "day1    420\n",
      "day2    380\n",
      "day3    390\n",
      "dtype: int64\n"
     ]
    }
   ],
   "source": [
    "import pandas as pd\n",
    "\n",
    "calories = {\"day1\": 420, \"day2\": 380, \"day3\": 390}\n",
    "\n",
    "myvar = pd.Series(calories)\n",
    "\n",
    "print(myvar)"
   ]
  },
  {
   "cell_type": "code",
   "execution_count": 9,
   "id": "17c25f64",
   "metadata": {},
   "outputs": [
    {
     "name": "stdout",
     "output_type": "stream",
     "text": [
      "day1    420\n",
      "day2    380\n",
      "dtype: int64\n"
     ]
    }
   ],
   "source": [
    "import pandas as pd\n",
    "\n",
    "calories = {\"day1\": 420, \"day2\": 380, \"day3\": 390}\n",
    "\n",
    "myvar = pd.Series(calories, index = [\"day1\", \"day2\"])\n",
    "\n",
    "print(myvar)"
   ]
  },
  {
   "cell_type": "markdown",
   "id": "d007724c",
   "metadata": {},
   "source": [
    "# DataFrames\n",
    "Data sets in Pandas are usually multi-dimensional tables, called DataFrames.\n",
    "\n",
    "Series is like a column, a DataFrame is the whole table."
   ]
  },
  {
   "cell_type": "code",
   "execution_count": 13,
   "id": "07865c0a",
   "metadata": {},
   "outputs": [
    {
     "name": "stdout",
     "output_type": "stream",
     "text": [
      "        name   Ranking \n",
      "1       Omkar         1\n",
      "2        Yash         2\n",
      "3  Aishwariya         3\n",
      "4         Sai         4\n",
      "5      Asmita         5\n",
      "6  Prathamesh         6\n"
     ]
    }
   ],
   "source": [
    "a= {\"name \":[\"Omkar\",\"Yash\",\"Aishwariya\",\"Sai\",\"Asmita\",\"Prathamesh\"],\n",
    "   \"Ranking \":[1,2,3,4,5,6]}\n",
    "b=pd.DataFrame(a,index=[1,2,3,4,5,6])\n",
    "print(b)"
   ]
  },
  {
   "cell_type": "code",
   "execution_count": 12,
   "id": "d6a83550",
   "metadata": {},
   "outputs": [
    {
     "name": "stdout",
     "output_type": "stream",
     "text": [
      "   calories  duration\n",
      "1       420        50\n",
      "2       380        40\n",
      "3       390        45\n"
     ]
    }
   ],
   "source": [
    "import pandas as pd\n",
    "\n",
    "data = {\n",
    "  \"calories\": [420, 380, 390],\n",
    "  \"duration\": [50, 40, 45]\n",
    "}\n",
    "\n",
    "myvar = pd.DataFrame(data,index=[1,2,3])\n",
    "\n",
    "print(myvar)"
   ]
  },
  {
   "cell_type": "code",
   "execution_count": null,
   "id": "5bbe85d6",
   "metadata": {},
   "outputs": [],
   "source": []
  }
 ],
 "metadata": {
  "kernelspec": {
   "display_name": "Python 3 (ipykernel)",
   "language": "python",
   "name": "python3"
  },
  "language_info": {
   "codemirror_mode": {
    "name": "ipython",
    "version": 3
   },
   "file_extension": ".py",
   "mimetype": "text/x-python",
   "name": "python",
   "nbconvert_exporter": "python",
   "pygments_lexer": "ipython3",
   "version": "3.11.5"
  }
 },
 "nbformat": 4,
 "nbformat_minor": 5
}
