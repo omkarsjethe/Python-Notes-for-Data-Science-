{
 "cells": [
  {
   "cell_type": "markdown",
   "id": "26ec7fc9",
   "metadata": {},
   "source": [
    "# For loops :"
   ]
  },
  {
   "cell_type": "code",
   "execution_count": 1,
   "id": "b5d1f076",
   "metadata": {},
   "outputs": [
    {
     "name": "stdout",
     "output_type": "stream",
     "text": [
      "O\n",
      "m\n",
      "k\n",
      "a\n",
      "r\n"
     ]
    }
   ],
   "source": [
    "a= \"Omkar\"\n",
    "for x in a :\n",
    "    print(x)"
   ]
  },
  {
   "cell_type": "code",
   "execution_count": 2,
   "id": "afed3651",
   "metadata": {},
   "outputs": [
    {
     "name": "stdout",
     "output_type": "stream",
     "text": [
      "omkar\n",
      "jethe\n"
     ]
    }
   ],
   "source": [
    "a=[\"omkar\",\"jethe\"]\n",
    "for x in a :\n",
    "    print(x)"
   ]
  },
  {
   "cell_type": "code",
   "execution_count": 7,
   "id": "9d7f946c",
   "metadata": {},
   "outputs": [
    {
     "name": "stdout",
     "output_type": "stream",
     "text": [
      "Omkar\n",
      "Sharad\n"
     ]
    }
   ],
   "source": [
    "a=[\"Omkar\",\"Sharad\",\"Jethe\"]\n",
    "for x  in a :\n",
    "    print(x)\n",
    "    if x == \"Sharad\":\n",
    "            break"
   ]
  },
  {
   "cell_type": "code",
   "execution_count": 8,
   "id": "516779f9",
   "metadata": {},
   "outputs": [
    {
     "name": "stdout",
     "output_type": "stream",
     "text": [
      "Omkar\n",
      "Sharad\n",
      "Jethe\n"
     ]
    }
   ],
   "source": [
    "a=[\"Omkar\",\"Sharad\",\"Jethe\"]\n",
    "for x  in a :\n",
    "    print(x)\n",
    "    if x == \"Sharad\":\n",
    "            continue"
   ]
  },
  {
   "cell_type": "code",
   "execution_count": 9,
   "id": "b5536ee7",
   "metadata": {},
   "outputs": [
    {
     "name": "stdout",
     "output_type": "stream",
     "text": [
      "0\n",
      "1\n",
      "2\n",
      "3\n",
      "4\n",
      "5\n"
     ]
    }
   ],
   "source": [
    "for i in range (6):\n",
    "    print(i)"
   ]
  },
  {
   "cell_type": "code",
   "execution_count": 11,
   "id": "a7e9e448",
   "metadata": {},
   "outputs": [
    {
     "name": "stdout",
     "output_type": "stream",
     "text": [
      "1\n",
      "2\n",
      "3\n",
      "4\n",
      "5\n"
     ]
    }
   ],
   "source": [
    "for i in range (1,6):\n",
    "    print(i)"
   ]
  },
  {
   "cell_type": "code",
   "execution_count": 12,
   "id": "da87a50f",
   "metadata": {},
   "outputs": [
    {
     "name": "stdout",
     "output_type": "stream",
     "text": [
      "2\n",
      "4\n",
      "6\n",
      "8\n",
      "10\n",
      "12\n",
      "14\n",
      "16\n",
      "18\n",
      "20\n"
     ]
    }
   ],
   "source": [
    "for i in range (1,11):\n",
    "    print(2*i)"
   ]
  },
  {
   "cell_type": "code",
   "execution_count": 14,
   "id": "298adae3",
   "metadata": {},
   "outputs": [
    {
     "name": "stdout",
     "output_type": "stream",
     "text": [
      "1\n",
      "3\n",
      "5\n",
      "7\n",
      "9\n"
     ]
    }
   ],
   "source": [
    "for  i in range (1,11,2):\n",
    "    print(i)"
   ]
  },
  {
   "cell_type": "code",
   "execution_count": 16,
   "id": "0a45ab66",
   "metadata": {},
   "outputs": [
    {
     "name": "stdout",
     "output_type": "stream",
     "text": [
      "0\n",
      "1\n",
      "2\n",
      "3\n",
      "4\n",
      "5\n",
      "Completed\n"
     ]
    }
   ],
   "source": [
    "for i in range (6):\n",
    "    print(i)\n",
    "else :\n",
    "    print(\"Completed\")"
   ]
  },
  {
   "cell_type": "code",
   "execution_count": 18,
   "id": "2674df2b",
   "metadata": {},
   "outputs": [
    {
     "name": "stdout",
     "output_type": "stream",
     "text": [
      "1\n",
      "2\n",
      "3\n",
      "4\n",
      "5\n"
     ]
    }
   ],
   "source": [
    "for i in range (1,11):\n",
    "    if i == 6 :break\n",
    "    print(i)\n",
    "else:\n",
    "    print(\"completed\")"
   ]
  },
  {
   "cell_type": "code",
   "execution_count": 21,
   "id": "05ed0764",
   "metadata": {},
   "outputs": [
    {
     "name": "stdout",
     "output_type": "stream",
     "text": [
      "Omkar 24\n",
      "Omkar 23\n",
      "yash 24\n",
      "yash 23\n"
     ]
    }
   ],
   "source": [
    "a=[\"Omkar\",\"yash\"]\n",
    "b=[24,23]\n",
    "\n",
    "for x in a:\n",
    "    for y in b:\n",
    "        print(x,y)"
   ]
  },
  {
   "cell_type": "code",
   "execution_count": null,
   "id": "50411715",
   "metadata": {},
   "outputs": [],
   "source": []
  }
 ],
 "metadata": {
  "kernelspec": {
   "display_name": "Python 3 (ipykernel)",
   "language": "python",
   "name": "python3"
  },
  "language_info": {
   "codemirror_mode": {
    "name": "ipython",
    "version": 3
   },
   "file_extension": ".py",
   "mimetype": "text/x-python",
   "name": "python",
   "nbconvert_exporter": "python",
   "pygments_lexer": "ipython3",
   "version": "3.11.5"
  }
 },
 "nbformat": 4,
 "nbformat_minor": 5
}
