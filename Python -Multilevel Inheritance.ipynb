{
 "cells": [
  {
   "cell_type": "markdown",
   "id": "667f2ee7",
   "metadata": {},
   "source": [
    "# Python Multilevel Inheritance\n",
    "In Python, not only can we derive a class from the superclass but you can also derive a class from the derived class.\n",
    "\n",
    "This form of inheritance is known as multilevel inheritance."
   ]
  },
  {
   "cell_type": "code",
   "execution_count": 6,
   "id": "6d638b0a",
   "metadata": {},
   "outputs": [
    {
     "name": "stdout",
     "output_type": "stream",
     "text": [
      " grandfather \n",
      "father \n",
      "Son\n"
     ]
    }
   ],
   "source": [
    "class grandfather:\n",
    "    def info(self):\n",
    "        print(\" grandfather \")\n",
    "        \n",
    "class father(grandfather):\n",
    "    def infor(self):\n",
    "        print(\"father \")\n",
    "    \n",
    "class son(father):\n",
    "    def information(self):\n",
    "        print(\"Son\")\n",
    "\n",
    "s1=son()\n",
    "\n",
    "s1.info()\n",
    "s1.infor()\n",
    "s1.information()\n",
    "        "
   ]
  },
  {
   "cell_type": "code",
   "execution_count": 7,
   "id": "415761ea",
   "metadata": {},
   "outputs": [
    {
     "name": "stdout",
     "output_type": "stream",
     "text": [
      "Super Class method called\n",
      "Derived class 1 method called\n",
      "Derived class 2 method called\n"
     ]
    }
   ],
   "source": [
    "class SuperClass:\n",
    "\n",
    "    def super_method(self):\n",
    "        print(\"Super Class method called\")\n",
    "\n",
    "# define class that derive from SuperClass\n",
    "class DerivedClass1(SuperClass):\n",
    "    def derived1_method(self):\n",
    "        print(\"Derived class 1 method called\")\n",
    "\n",
    "# define class that derive from DerivedClass1\n",
    "class DerivedClass2(DerivedClass1):\n",
    "\n",
    "    def derived2_method(self):\n",
    "        print(\"Derived class 2 method called\")\n",
    "\n",
    "# create an object of DerivedClass2\n",
    "d2 = DerivedClass2()\n",
    "\n",
    "d2.super_method()  # Output: \"Super Class method called\"\n",
    "\n",
    "d2.derived1_method()  # Output: \"Derived class 1 method called\"\n",
    "\n",
    "d2.derived2_method()  # Output: \"Derived class 2 method called\"\n"
   ]
  },
  {
   "cell_type": "markdown",
   "id": "17004543",
   "metadata": {},
   "source": [
    "# Method Resolution Order (MRO) in Python\n",
    "If two superclasses have the same method (function) name and the derived class calls that method, Python uses the MRO to search for the right method to call."
   ]
  },
  {
   "cell_type": "code",
   "execution_count": 8,
   "id": "7a06f62b",
   "metadata": {},
   "outputs": [
    {
     "name": "stdout",
     "output_type": "stream",
     "text": [
      "Super Class 1 method called\n"
     ]
    }
   ],
   "source": [
    "class SuperClass1:\n",
    "    def info(self):\n",
    "        print(\"Super Class 1 method called\")\n",
    "\n",
    "class SuperClass2:\n",
    "    def info(self):\n",
    "        print(\"Super Class 2 method called\")\n",
    "\n",
    "class Derived(SuperClass1, SuperClass2):\n",
    "    pass\n",
    "\n",
    "d1 = Derived()\n",
    "d1.info()"
   ]
  },
  {
   "cell_type": "code",
   "execution_count": null,
   "id": "c5e69496",
   "metadata": {},
   "outputs": [],
   "source": []
  }
 ],
 "metadata": {
  "kernelspec": {
   "display_name": "Python 3 (ipykernel)",
   "language": "python",
   "name": "python3"
  },
  "language_info": {
   "codemirror_mode": {
    "name": "ipython",
    "version": 3
   },
   "file_extension": ".py",
   "mimetype": "text/x-python",
   "name": "python",
   "nbconvert_exporter": "python",
   "pygments_lexer": "ipython3",
   "version": "3.11.5"
  }
 },
 "nbformat": 4,
 "nbformat_minor": 5
}
