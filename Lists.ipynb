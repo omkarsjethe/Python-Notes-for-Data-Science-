{
 "cells": [
  {
   "cell_type": "markdown",
   "id": "b967a6b6",
   "metadata": {},
   "source": [
    "# Lists :\n"
   ]
  },
  {
   "cell_type": "markdown",
   "id": "7f723d15",
   "metadata": {},
   "source": [
    "Structure:\n",
    "\n",
    "\n",
    "The list is perhaps the most commonly used data structure in Python. It allows us to store elements of different data types in one container.\n",
    "\n",
    "The contents of a list are enclosed by square brackets, [].\n",
    "\n",
    "Lists are ordered, like strings. Elements are stored linearly at a specific index.\n",
    "\n",
    "We can see from the illustration above that a list bears resemblance to a string.\n",
    "\n",
    "A string is a collection of characters indexed in a linear fashion. A list is the same except that it can contain any type of data, even another list!\n",
    "\n"
   ]
  },
  {
   "cell_type": "markdown",
   "id": "8ddcccd9",
   "metadata": {},
   "source": [
    "# List Items:\n",
    "    \n",
    "List items are ordered, changeable, and allow duplicate values.\n",
    "\n",
    "List items are indexed, the first item has index [0], the second item has index [1] etc.\n",
    "\n",
    "Ordered:\n",
    "    \n",
    "When we say that lists are ordered, it means that the items have a defined order, and that order will not change.\n",
    "\n",
    "If you add new items to a list, the new items will be placed at the end of the list.\n",
    "\n",
    "Note: There are some list methods that will change the order, but in general: the order of the items will not change.\n",
    "\n",
    "Changeable:\n",
    "    \n",
    "The list is changeable, meaning that we can change, add, and remove items in a list after it has been created.\n",
    "\n",
    "Allow Duplicates:\n",
    "    \n",
    "Since lists are indexed, lists can have items with the same value:"
   ]
  },
  {
   "cell_type": "markdown",
   "id": "84f1b541",
   "metadata": {},
   "source": [
    "# Creating a List :\n",
    "\n",
    "Let’s see how to create a list using square brackets."
   ]
  },
  {
   "cell_type": "code",
   "execution_count": 1,
   "id": "255240be",
   "metadata": {},
   "outputs": [],
   "source": [
    "a=[\"Omkar\",\"Jethe\",24]"
   ]
  },
  {
   "cell_type": "code",
   "execution_count": 2,
   "id": "7c34c401",
   "metadata": {},
   "outputs": [
    {
     "name": "stdout",
     "output_type": "stream",
     "text": [
      "Omkar\n",
      "Jethe\n",
      "24\n"
     ]
    }
   ],
   "source": [
    "print(a[0])\n",
    "print(a[1])\n",
    "print(a[2])"
   ]
  },
  {
   "cell_type": "code",
   "execution_count": 3,
   "id": "0ab1d3d9",
   "metadata": {},
   "outputs": [
    {
     "name": "stdout",
     "output_type": "stream",
     "text": [
      "['Jethe', 24]\n"
     ]
    }
   ],
   "source": [
    "print(a[1:]) #Indexing"
   ]
  },
  {
   "cell_type": "code",
   "execution_count": 4,
   "id": "f8e425ba",
   "metadata": {},
   "outputs": [
    {
     "data": {
      "text/plain": [
       "3"
      ]
     },
     "execution_count": 4,
     "metadata": {},
     "output_type": "execute_result"
    }
   ],
   "source": [
    "len(a)"
   ]
  },
  {
   "cell_type": "code",
   "execution_count": 5,
   "id": "065e491a",
   "metadata": {},
   "outputs": [],
   "source": [
    "b=[\"Aishwariya\",\"Karande\",23]"
   ]
  },
  {
   "cell_type": "code",
   "execution_count": 6,
   "id": "d60f8b5c",
   "metadata": {},
   "outputs": [
    {
     "data": {
      "text/plain": [
       "['Aishwariya', 'Karande', 23]"
      ]
     },
     "execution_count": 6,
     "metadata": {},
     "output_type": "execute_result"
    }
   ],
   "source": [
    "b"
   ]
  },
  {
   "cell_type": "code",
   "execution_count": 7,
   "id": "a7e895a2",
   "metadata": {},
   "outputs": [
    {
     "name": "stdout",
     "output_type": "stream",
     "text": [
      "['Omkar', 'Jethe', 24, 'Aishwariya', 'Karande', 23]\n"
     ]
    }
   ],
   "source": [
    "c=a+b\n",
    "print(c)"
   ]
  },
  {
   "cell_type": "code",
   "execution_count": 8,
   "id": "82f75f0e",
   "metadata": {},
   "outputs": [],
   "source": [
    "b[1]=\"AISHWARIYA\""
   ]
  },
  {
   "cell_type": "code",
   "execution_count": 9,
   "id": "4ddfefe6",
   "metadata": {},
   "outputs": [
    {
     "data": {
      "text/plain": [
       "['Aishwariya', 'AISHWARIYA', 23]"
      ]
     },
     "execution_count": 9,
     "metadata": {},
     "output_type": "execute_result"
    }
   ],
   "source": [
    "b\n"
   ]
  },
  {
   "cell_type": "code",
   "execution_count": 10,
   "id": "2a730f34",
   "metadata": {},
   "outputs": [
    {
     "name": "stdout",
     "output_type": "stream",
     "text": [
      "<class 'list'>\n"
     ]
    }
   ],
   "source": [
    "print(type(b))"
   ]
  },
  {
   "cell_type": "markdown",
   "id": "dea8e441",
   "metadata": {},
   "source": [
    "# Python Collections (Arrays)\n",
    "\n",
    "There are four collection data types in the Python programming language:\n",
    "\n",
    "List is a collection which is ordered and changeable. Allows duplicate members.\n",
    "\n",
    "Tuple is a collection which is ordered and unchangeable. Allows duplicate members.\n",
    "\n",
    "Set is a collection which is unordered, unchangeable*, and unindexed. No duplicate members.\n",
    "\n",
    "Dictionary is a collection which is ordered** and changeable. No duplicate members."
   ]
  },
  {
   "cell_type": "markdown",
   "id": "3dad7deb",
   "metadata": {},
   "source": [
    "# Python - Access List Items"
   ]
  },
  {
   "cell_type": "code",
   "execution_count": 11,
   "id": "6cecca45",
   "metadata": {},
   "outputs": [
    {
     "name": "stdout",
     "output_type": "stream",
     "text": [
      "Aishwariya \n"
     ]
    }
   ],
   "source": [
    "a=[\"Omkar\",\"Aishwariya \",\"Yash\"]\n",
    "print(a[1])"
   ]
  },
  {
   "cell_type": "code",
   "execution_count": 12,
   "id": "99fd7cba",
   "metadata": {},
   "outputs": [
    {
     "name": "stdout",
     "output_type": "stream",
     "text": [
      "Omkar\n"
     ]
    }
   ],
   "source": [
    "print(a[0])"
   ]
  },
  {
   "cell_type": "code",
   "execution_count": 13,
   "id": "7b93c34d",
   "metadata": {},
   "outputs": [
    {
     "name": "stdout",
     "output_type": "stream",
     "text": [
      "Yash\n"
     ]
    }
   ],
   "source": [
    "print(a[-1])"
   ]
  },
  {
   "cell_type": "code",
   "execution_count": 14,
   "id": "65fc05c2",
   "metadata": {},
   "outputs": [
    {
     "name": "stdout",
     "output_type": "stream",
     "text": [
      "Omkar\n"
     ]
    }
   ],
   "source": [
    "print(a[-3])"
   ]
  },
  {
   "cell_type": "markdown",
   "id": "b519c8f6",
   "metadata": {},
   "source": [
    "# Range of Indexes\n",
    "You can specify a range of indexes by specifying where to start and where to end the range.\n",
    "\n",
    "When specifying a range, the return value will be a new list with the specified items."
   ]
  },
  {
   "cell_type": "code",
   "execution_count": 15,
   "id": "15460275",
   "metadata": {},
   "outputs": [
    {
     "name": "stdout",
     "output_type": "stream",
     "text": [
      "['Yash', 'Anushree', 'Prathamesh']\n"
     ]
    }
   ],
   "source": [
    "a=[\"Omkar\",\"Aishwariya \",\"Yash\",\"Anushree\",\"Prathamesh\",\"Ajinkya\",\"Pritesh\",\"Shefali\",\"Pallavi\",\"Shweta\",\"Prachi\",\"Pradyna\",\"Shruti\",\"Dakshata \"]\n",
    "print(a[2:5])"
   ]
  },
  {
   "cell_type": "code",
   "execution_count": 16,
   "id": "cbe6e7da",
   "metadata": {},
   "outputs": [
    {
     "name": "stdout",
     "output_type": "stream",
     "text": [
      "['Shweta', 'Prachi', 'Pradyna', 'Shruti']\n"
     ]
    }
   ],
   "source": [
    "print(a[-5:-1])"
   ]
  },
  {
   "cell_type": "code",
   "execution_count": 17,
   "id": "e3efafad",
   "metadata": {},
   "outputs": [
    {
     "name": "stdout",
     "output_type": "stream",
     "text": [
      "Present\n"
     ]
    }
   ],
   "source": [
    "if \"Omkar\" in a :\n",
    "    print(f\"Present\")"
   ]
  },
  {
   "cell_type": "code",
   "execution_count": 18,
   "id": "24d6c200",
   "metadata": {},
   "outputs": [
    {
     "name": "stdout",
     "output_type": "stream",
     "text": [
      "Enter The name to checkOmkar\n",
      "present In list \n"
     ]
    }
   ],
   "source": [
    "b=input(\"Enter The name to check\")\n",
    "if b in a:\n",
    "    print(\"present In list \")\n",
    "else:\n",
    "    print(\"Not Present in the list\")"
   ]
  },
  {
   "cell_type": "markdown",
   "id": "93889b76",
   "metadata": {},
   "source": [
    "\n",
    "\n",
    "\n",
    "# Python - Change List Items"
   ]
  },
  {
   "cell_type": "code",
   "execution_count": 19,
   "id": "4b7cc963",
   "metadata": {},
   "outputs": [
    {
     "name": "stdout",
     "output_type": "stream",
     "text": [
      "['Ram', 'Shyam', 'Sam']\n"
     ]
    }
   ],
   "source": [
    "a=[\"Ram\",\"Man\",\"Sam\"]\n",
    "a[1]=\"Shyam\"\n",
    "print(a)"
   ]
  },
  {
   "cell_type": "code",
   "execution_count": 20,
   "id": "608a9484",
   "metadata": {},
   "outputs": [
    {
     "name": "stdout",
     "output_type": "stream",
     "text": [
      "['apple', 'blackcurrant', 'watermelon', 'orange', 'kiwi', 'mango']\n"
     ]
    }
   ],
   "source": [
    "thislist = [\"apple\", \"banana\", \"cherry\", \"orange\", \"kiwi\", \"mango\"]\n",
    "thislist[1:3] = [\"blackcurrant\", \"watermelon\"]\n",
    "print(thislist)"
   ]
  },
  {
   "cell_type": "code",
   "execution_count": 21,
   "id": "aaf45078",
   "metadata": {},
   "outputs": [
    {
     "name": "stdout",
     "output_type": "stream",
     "text": [
      "['Sita', 'Geeta', 'Sai', 'Ram', 'Leela']\n"
     ]
    }
   ],
   "source": [
    "a=[\"Sita\",\"Geeta\",\"Rita\",\"Mita\",\"Leela\"]\n",
    "a[2:4]=[\"Sai\",\"Ram\"]\n",
    "print(a)"
   ]
  },
  {
   "cell_type": "markdown",
   "id": "cd329046",
   "metadata": {},
   "source": [
    "# Python - Append List Items"
   ]
  },
  {
   "cell_type": "code",
   "execution_count": 22,
   "id": "7e0955e8",
   "metadata": {},
   "outputs": [
    {
     "name": "stdout",
     "output_type": "stream",
     "text": [
      "['Omkar']\n"
     ]
    }
   ],
   "source": [
    "a=[]\n",
    "a.append(\"Omkar\")\n",
    "print(a)"
   ]
  },
  {
   "cell_type": "code",
   "execution_count": 23,
   "id": "85f0c69d",
   "metadata": {},
   "outputs": [
    {
     "name": "stdout",
     "output_type": "stream",
     "text": [
      "['Yash', ['Omkar']]\n"
     ]
    }
   ],
   "source": [
    "b=[\"Omkar\"]\n",
    "a=[]\n",
    "a.append(\"Yash\")\n",
    "a.append (b)\n",
    "print(a)"
   ]
  },
  {
   "cell_type": "markdown",
   "id": "01bfdd95",
   "metadata": {},
   "source": [
    "# Insert Items\n",
    "To insert a new list item, without replacing any of the existing values, we can use the insert() method.\n",
    "\n",
    "The insert() method inserts an item at the specified index:"
   ]
  },
  {
   "cell_type": "code",
   "execution_count": 24,
   "id": "8ad18e9d",
   "metadata": {},
   "outputs": [
    {
     "name": "stdout",
     "output_type": "stream",
     "text": [
      "['Omkar', 'Aishwariya ', 'Yash', 'Anushree', 'Prathamesh', 'Ajinkya', 'Pritesh', 'Shefali', 'Pallavi', 'Shweta', 'Prachi', 'Pradyna', 'Shruti', 'Kimaya', 'Dakshata ']\n"
     ]
    }
   ],
   "source": [
    "a=[\"Omkar\",\"Aishwariya \",\"Yash\",\"Anushree\",\"Prathamesh\",\"Ajinkya\",\"Pritesh\",\"Shefali\",\"Pallavi\",\"Shweta\",\"Prachi\",\"Pradyna\",\"Shruti\",\"Dakshata \"]\n",
    "a.insert(13,\"Kimaya\")\n",
    "print(a)"
   ]
  },
  {
   "cell_type": "code",
   "execution_count": 25,
   "id": "394f09fb",
   "metadata": {},
   "outputs": [
    {
     "name": "stdout",
     "output_type": "stream",
     "text": [
      "['apple', 'banana', 'watermelon', 'cherry']\n"
     ]
    }
   ],
   "source": [
    "thislist = [\"apple\", \"banana\", \"cherry\"]\n",
    "thislist.insert(2, \"watermelon\")\n",
    "print(thislist)"
   ]
  },
  {
   "cell_type": "markdown",
   "id": "ddc872ea",
   "metadata": {},
   "source": [
    "# Python - Add List Items"
   ]
  },
  {
   "cell_type": "markdown",
   "id": "a973eb03",
   "metadata": {},
   "source": [
    "Append Items\n",
    "To add an item to the end of the list, use the append() method:"
   ]
  },
  {
   "cell_type": "code",
   "execution_count": 26,
   "id": "3a90654c",
   "metadata": {},
   "outputs": [
    {
     "name": "stdout",
     "output_type": "stream",
     "text": [
      "['apple', 'banana', 'cherry', 'orange']\n"
     ]
    }
   ],
   "source": [
    "thislist = [\"apple\", \"banana\", \"cherry\"]\n",
    "thislist.append(\"orange\")\n",
    "print(thislist)"
   ]
  },
  {
   "cell_type": "code",
   "execution_count": 27,
   "id": "ef52a7e4",
   "metadata": {},
   "outputs": [
    {
     "name": "stdout",
     "output_type": "stream",
     "text": [
      "['Omkar', 'Aishwariya ', 'Yash', 'Anushree', 'Prathamesh', 'Ajinkya', 'Pritesh', 'Shefali', 'Pallavi', 'Shweta', 'Prachi', 'Pradyna', 'Shruti', 'Dakshata ', 'Kimaya']\n"
     ]
    }
   ],
   "source": [
    "a=[\"Omkar\",\"Aishwariya \",\"Yash\",\"Anushree\",\"Prathamesh\",\"Ajinkya\",\"Pritesh\",\"Shefali\",\"Pallavi\",\"Shweta\",\"Prachi\",\"Pradyna\",\"Shruti\",\"Dakshata \"]\n",
    "a.append(\"Kimaya\")\n",
    "print(a)"
   ]
  },
  {
   "cell_type": "code",
   "execution_count": 28,
   "id": "e6d437e1",
   "metadata": {},
   "outputs": [
    {
     "name": "stdout",
     "output_type": "stream",
     "text": [
      "['Omkar', 'Aishwariya ', 'Yash', 'Anushree', 'Prathamesh', 'Ajinkya', 'Pritesh', 'Shefali', 'Pallavi', 'Shweta', 'Prachi', 'Pradyna', 'Shruti', 'Dakshata ', 'Kimaya']\n"
     ]
    }
   ],
   "source": [
    "print(a)"
   ]
  },
  {
   "cell_type": "markdown",
   "id": "5ffbe851",
   "metadata": {},
   "source": [
    "# Extend List\n",
    "To append elements from another list to the current list, use the extend() method."
   ]
  },
  {
   "cell_type": "code",
   "execution_count": 29,
   "id": "644dc713",
   "metadata": {},
   "outputs": [
    {
     "name": "stdout",
     "output_type": "stream",
     "text": [
      "['apple', 'banana', 'cherry', 'mango', 'pineapple', 'papaya']\n"
     ]
    }
   ],
   "source": [
    "thislist = [\"apple\", \"banana\", \"cherry\"]\n",
    "tropical = [\"mango\", \"pineapple\", \"papaya\"]\n",
    "thislist.extend(tropical)\n",
    "print(thislist)"
   ]
  },
  {
   "cell_type": "code",
   "execution_count": 30,
   "id": "85c00179",
   "metadata": {},
   "outputs": [
    {
     "name": "stdout",
     "output_type": "stream",
     "text": [
      "['Sam', 'Ram']\n"
     ]
    }
   ],
   "source": [
    "a=[\"Sam\"]\n",
    "b=[\"Ram\"]\n",
    "a.extend(b)\n",
    "print(a)"
   ]
  },
  {
   "cell_type": "code",
   "execution_count": 31,
   "id": "597337e2",
   "metadata": {},
   "outputs": [
    {
     "name": "stdout",
     "output_type": "stream",
     "text": [
      "['Ram']\n"
     ]
    }
   ],
   "source": [
    "print(b)"
   ]
  },
  {
   "cell_type": "markdown",
   "id": "096a9727",
   "metadata": {},
   "source": [
    "# Add Any Iterable\n",
    "The extend() method does not have to append lists, you can add any iterable object (tuples, sets, dictionaries etc.).\n",
    "\n"
   ]
  },
  {
   "cell_type": "code",
   "execution_count": 32,
   "id": "03a38c1e",
   "metadata": {},
   "outputs": [
    {
     "name": "stdout",
     "output_type": "stream",
     "text": [
      "['apple', 'banana', 'cherry', 'kiwi', 'orange']\n"
     ]
    }
   ],
   "source": [
    "thislist = [\"apple\", \"banana\", \"cherry\"]\n",
    "thistuple = (\"kiwi\", \"orange\")\n",
    "thislist.extend(thistuple)\n",
    "print(thislist)"
   ]
  },
  {
   "cell_type": "code",
   "execution_count": 33,
   "id": "4880c1d7",
   "metadata": {},
   "outputs": [
    {
     "name": "stdout",
     "output_type": "stream",
     "text": [
      "['Ram', 'Sam', 'Sam']\n"
     ]
    }
   ],
   "source": [
    "a=[\"Ram\",\"Sam\"]\n",
    "b=[\"Sam\"]\n",
    "a.extend(b)\n",
    "print(a)"
   ]
  },
  {
   "cell_type": "markdown",
   "id": "96d9efa2",
   "metadata": {},
   "source": [
    "\n",
    "# Python - Remove List Items"
   ]
  },
  {
   "cell_type": "code",
   "execution_count": 34,
   "id": "b23a1b83",
   "metadata": {},
   "outputs": [
    {
     "name": "stdout",
     "output_type": "stream",
     "text": [
      "['apple', 'cherry']\n"
     ]
    }
   ],
   "source": [
    "thislist = [\"apple\", \"banana\", \"cherry\"]\n",
    "thislist.remove(\"banana\")\n",
    "print(thislist)"
   ]
  },
  {
   "cell_type": "code",
   "execution_count": 35,
   "id": "55a733a9",
   "metadata": {},
   "outputs": [
    {
     "name": "stdout",
     "output_type": "stream",
     "text": [
      "['XYZ', 'ABC']\n"
     ]
    }
   ],
   "source": [
    "a=[\"XYZ\",\"ABC\",\"PQR\"]\n",
    "a.remove(\"PQR\")\n",
    "print(a)"
   ]
  },
  {
   "cell_type": "markdown",
   "id": "0e18ad13",
   "metadata": {},
   "source": [
    "# If there are more than one item with the specified value, the remove() method removes the first occurance:"
   ]
  },
  {
   "cell_type": "code",
   "execution_count": 36,
   "id": "da49168e",
   "metadata": {},
   "outputs": [
    {
     "name": "stdout",
     "output_type": "stream",
     "text": [
      "['apple', 'cherry', 'banana', 'kiwi']\n"
     ]
    }
   ],
   "source": [
    "thislist = [\"apple\", \"banana\", \"cherry\", \"banana\", \"kiwi\"]\n",
    "thislist.remove(\"banana\")\n",
    "print(thislist)"
   ]
  },
  {
   "cell_type": "code",
   "execution_count": 37,
   "id": "84b6b4f2",
   "metadata": {},
   "outputs": [
    {
     "name": "stdout",
     "output_type": "stream",
     "text": [
      "['XYZ', 'ABC', 'PQR']\n"
     ]
    }
   ],
   "source": [
    "a=[\"PQR\",\"XYZ\",\"ABC\",\"PQR\"]\n",
    "a.remove(\"PQR\")\n",
    "print(a)"
   ]
  },
  {
   "cell_type": "markdown",
   "id": "b43d7eba",
   "metadata": {},
   "source": [
    "# Remove Specified Index\n",
    "The pop() method removes the specified index.\n",
    "\n",
    "If you do not specify the index, the pop() method removes the last item.\n",
    "\n",
    "The del keyword also removes the specified index:\n",
    "\n",
    "The del keyword can also delete the list completely."
   ]
  },
  {
   "cell_type": "code",
   "execution_count": 38,
   "id": "2ac950a9",
   "metadata": {},
   "outputs": [
    {
     "name": "stdout",
     "output_type": "stream",
     "text": [
      "['apple', 'cherry']\n"
     ]
    }
   ],
   "source": [
    "thislist = [\"apple\", \"banana\", \"cherry\"]\n",
    "thislist.pop(1)\n",
    "print(thislist)"
   ]
  },
  {
   "cell_type": "code",
   "execution_count": 39,
   "id": "b28fa4f4",
   "metadata": {},
   "outputs": [
    {
     "name": "stdout",
     "output_type": "stream",
     "text": [
      "['XYZ', 'ABC', 'PQR']\n"
     ]
    }
   ],
   "source": [
    "a=[\"PQR\",\"XYZ\",\"ABC\",\"PQR\"]\n",
    "a.pop(0)\n",
    "print(a)"
   ]
  },
  {
   "cell_type": "code",
   "execution_count": 40,
   "id": "4888d10b",
   "metadata": {},
   "outputs": [
    {
     "name": "stdout",
     "output_type": "stream",
     "text": [
      "['XYZ', 'ABC', 'PQR']\n"
     ]
    }
   ],
   "source": [
    "a=[\"PQR\",\"XYZ\",\"ABC\",\"PQR\"]\n",
    "del a[0]\n",
    "print(a)"
   ]
  },
  {
   "cell_type": "code",
   "execution_count": 41,
   "id": "9411e2df",
   "metadata": {},
   "outputs": [],
   "source": [
    "a=[\"PQR\",\"XYZ\",\"ABC\",\"PQR\"]\n",
    "del a\n"
   ]
  },
  {
   "cell_type": "code",
   "execution_count": null,
   "id": "829ad46e",
   "metadata": {},
   "outputs": [],
   "source": []
  },
  {
   "cell_type": "markdown",
   "id": "8d1fcb38",
   "metadata": {},
   "source": [
    "# Clear the List\n",
    "The clear() method empties the list.\n",
    "\n",
    "The list still remains, but it has no content."
   ]
  },
  {
   "cell_type": "code",
   "execution_count": 42,
   "id": "e0592225",
   "metadata": {},
   "outputs": [
    {
     "name": "stdout",
     "output_type": "stream",
     "text": [
      "[]\n"
     ]
    }
   ],
   "source": [
    "thislist = [\"apple\", \"banana\", \"cherry\"]\n",
    "thislist.clear()\n",
    "print(thislist)"
   ]
  },
  {
   "cell_type": "code",
   "execution_count": 43,
   "id": "50e2dd4e",
   "metadata": {},
   "outputs": [
    {
     "name": "stdout",
     "output_type": "stream",
     "text": [
      "[]\n"
     ]
    }
   ],
   "source": [
    "a=[\"PQR\",\"XYZ\",\"ABC\",\"PQR\"]\n",
    "a.clear()\n",
    "print(a)"
   ]
  },
  {
   "cell_type": "markdown",
   "id": "de42e0bd",
   "metadata": {},
   "source": [
    "# Python - Loop Lists"
   ]
  },
  {
   "cell_type": "markdown",
   "id": "33fa2dcf",
   "metadata": {},
   "source": [
    " Loop Through a List\n",
    "You can loop through the list items by using a for loop:"
   ]
  },
  {
   "cell_type": "code",
   "execution_count": 44,
   "id": "ad785385",
   "metadata": {},
   "outputs": [
    {
     "name": "stdout",
     "output_type": "stream",
     "text": [
      "apple\n",
      "banana\n",
      "cherry\n"
     ]
    }
   ],
   "source": [
    "thislist = [\"apple\", \"banana\", \"cherry\"]\n",
    "for x in thislist:\n",
    "  print(x)"
   ]
  },
  {
   "cell_type": "code",
   "execution_count": 45,
   "id": "cc5f6100",
   "metadata": {},
   "outputs": [
    {
     "name": "stdout",
     "output_type": "stream",
     "text": [
      "Omkar\n",
      "Aishwariya \n",
      "Yash\n",
      "Anushree\n",
      "Prathamesh\n",
      "Ajinkya\n",
      "Pritesh\n",
      "Shefali\n",
      "Pallavi\n",
      "Shweta\n",
      "Prachi\n",
      "Pradyna\n",
      "Shruti\n",
      "Dakshata \n",
      "Kimaya\n"
     ]
    }
   ],
   "source": [
    "a=['Omkar', 'Aishwariya ', 'Yash', 'Anushree', 'Prathamesh', 'Ajinkya', 'Pritesh', 'Shefali', 'Pallavi', 'Shweta', 'Prachi', 'Pradyna', 'Shruti', 'Dakshata ', 'Kimaya']\n",
    "for b in a:\n",
    "    print(b)"
   ]
  },
  {
   "cell_type": "markdown",
   "id": "6273604a",
   "metadata": {},
   "source": [
    "# Loop Through the Index Numbers\n",
    "You can also loop through the list items by referring to their index number.\n",
    "\n",
    "Use the range() and len() functions to create a suitable iterable."
   ]
  },
  {
   "cell_type": "code",
   "execution_count": 46,
   "id": "fc17681b",
   "metadata": {},
   "outputs": [
    {
     "name": "stdout",
     "output_type": "stream",
     "text": [
      "apple\n",
      "banana\n",
      "cherry\n"
     ]
    }
   ],
   "source": [
    "thislist = [\"apple\", \"banana\", \"cherry\"]\n",
    "for i in range(len(thislist)):\n",
    "  print(thislist[i])"
   ]
  },
  {
   "cell_type": "code",
   "execution_count": 47,
   "id": "82a44290",
   "metadata": {},
   "outputs": [
    {
     "name": "stdout",
     "output_type": "stream",
     "text": [
      "Omkar\n",
      "Aishwariya \n",
      "Yash\n",
      "Anushree\n",
      "Prathamesh\n",
      "Ajinkya\n",
      "Pritesh\n",
      "Shefali\n",
      "Pallavi\n",
      "Shweta\n",
      "Prachi\n",
      "Pradyna\n",
      "Shruti\n",
      "Dakshata \n",
      "Kimaya\n"
     ]
    }
   ],
   "source": [
    "a=['Omkar', 'Aishwariya ', 'Yash', 'Anushree', 'Prathamesh', 'Ajinkya', 'Pritesh', 'Shefali', 'Pallavi', 'Shweta', 'Prachi', 'Pradyna', 'Shruti', 'Dakshata ', 'Kimaya']\n",
    "for  i in range (len(a)):\n",
    "    print(a[i])"
   ]
  },
  {
   "cell_type": "markdown",
   "id": "64818320",
   "metadata": {},
   "source": [
    "# Using a While Loop\n",
    "You can loop through the list items by using a while loop.\n",
    "\n",
    "Use the len() function to determine the length of the list, then start at 0 and loop your way through the list items by referring to their indexes.\n",
    "\n",
    "Remember to increase the index by 1 after each iteration."
   ]
  },
  {
   "cell_type": "code",
   "execution_count": 48,
   "id": "343b3944",
   "metadata": {},
   "outputs": [
    {
     "name": "stdout",
     "output_type": "stream",
     "text": [
      "apple\n",
      "banana\n",
      "cherry\n"
     ]
    }
   ],
   "source": [
    "thislist = [\"apple\", \"banana\", \"cherry\"]\n",
    "i = 0\n",
    "while i < len(thislist):\n",
    "  print(thislist[i])\n",
    "  i = i + 1"
   ]
  },
  {
   "cell_type": "code",
   "execution_count": 49,
   "id": "bb64118c",
   "metadata": {},
   "outputs": [
    {
     "name": "stdout",
     "output_type": "stream",
     "text": [
      "Omkar\n",
      "Aishwariya \n",
      "Yash\n",
      "Anushree\n",
      "Prathamesh\n",
      "Ajinkya\n",
      "Pritesh\n",
      "Shefali\n",
      "Pallavi\n",
      "Shweta\n",
      "Prachi\n",
      "Pradyna\n",
      "Shruti\n",
      "Dakshata \n",
      "Kimaya\n"
     ]
    }
   ],
   "source": [
    "a=['Omkar', 'Aishwariya ', 'Yash', 'Anushree', 'Prathamesh', 'Ajinkya', 'Pritesh', 'Shefali', 'Pallavi', 'Shweta', 'Prachi', 'Pradyna', 'Shruti', 'Dakshata ', 'Kimaya']\n",
    "i=0\n",
    "while i <len(a):\n",
    "    print(a[i])\n",
    "    i=i+1"
   ]
  },
  {
   "cell_type": "markdown",
   "id": "857d2a17",
   "metadata": {},
   "source": [
    "# Looping Using List Comprehension\n",
    "List Comprehension offers the shortest syntax for looping through lists:\n",
    "\n"
   ]
  },
  {
   "cell_type": "code",
   "execution_count": 50,
   "id": "335238f7",
   "metadata": {},
   "outputs": [
    {
     "name": "stdout",
     "output_type": "stream",
     "text": [
      "apple\n",
      "banana\n",
      "cherry\n"
     ]
    },
    {
     "data": {
      "text/plain": [
       "[None, None, None]"
      ]
     },
     "execution_count": 50,
     "metadata": {},
     "output_type": "execute_result"
    }
   ],
   "source": [
    "thislist = [\"apple\", \"banana\", \"cherry\"]\n",
    "[print(x) for x in thislist]"
   ]
  },
  {
   "cell_type": "code",
   "execution_count": 51,
   "id": "d474e016",
   "metadata": {},
   "outputs": [
    {
     "name": "stdout",
     "output_type": "stream",
     "text": [
      "Omkar\n",
      "Ram\n",
      "Shyam\n"
     ]
    },
    {
     "data": {
      "text/plain": [
       "[None, None, None]"
      ]
     },
     "execution_count": 51,
     "metadata": {},
     "output_type": "execute_result"
    }
   ],
   "source": [
    "a=[\"Omkar\",\"Ram\",\"Shyam\"]\n",
    "[print(x) for x in a ]"
   ]
  },
  {
   "cell_type": "code",
   "execution_count": 52,
   "id": "17b7c62d",
   "metadata": {},
   "outputs": [
    {
     "name": "stdout",
     "output_type": "stream",
     "text": [
      "['apple', 'banana', 'mango']\n"
     ]
    }
   ],
   "source": [
    "fruits = [\"apple\", \"banana\", \"cherry\", \"kiwi\", \"mango\"]\n",
    "\n",
    "newlist = [x for x in fruits if \"a\" in x]\n",
    "\n",
    "print(newlist)"
   ]
  },
  {
   "cell_type": "code",
   "execution_count": 53,
   "id": "cbb155d6",
   "metadata": {},
   "outputs": [
    {
     "name": "stdout",
     "output_type": "stream",
     "text": [
      "[0, 1, 2, 3, 4]\n"
     ]
    }
   ],
   "source": [
    "newlist = [x for x in range(10) if x < 5]\n",
    "print(newlist)"
   ]
  },
  {
   "cell_type": "code",
   "execution_count": 54,
   "id": "d022eae2",
   "metadata": {},
   "outputs": [],
   "source": [
    "a=[\"even\" if x %2==0 else \"odd\" for x in range(1,11) ]"
   ]
  },
  {
   "cell_type": "code",
   "execution_count": 55,
   "id": "c7af4a6b",
   "metadata": {},
   "outputs": [
    {
     "name": "stdout",
     "output_type": "stream",
     "text": [
      "['odd', 'even', 'odd', 'even', 'odd', 'even', 'odd', 'even', 'odd', 'even']\n"
     ]
    }
   ],
   "source": [
    "print(a)"
   ]
  },
  {
   "cell_type": "code",
   "execution_count": 56,
   "id": "b6009831",
   "metadata": {},
   "outputs": [
    {
     "name": "stdout",
     "output_type": "stream",
     "text": [
      "['apple', 'banana', 'mango']\n"
     ]
    }
   ],
   "source": [
    "fruits = [\"apple\", \"banana\", \"cherry\", \"kiwi\", \"mango\"]\n",
    "newlist = []\n",
    "\n",
    "for x in fruits:\n",
    "  if \"a\" in x:\n",
    "    newlist.append(x)\n",
    "\n",
    "print(newlist)"
   ]
  },
  {
   "cell_type": "markdown",
   "id": "d4b0c7e4",
   "metadata": {},
   "source": [
    "# Python - Sort Lists"
   ]
  },
  {
   "cell_type": "markdown",
   "id": "45975405",
   "metadata": {},
   "source": [
    "Sort List Alphanumerically\n",
    "List objects have a sort() method that will sort the list alphanumerically, ascending, by default:"
   ]
  },
  {
   "cell_type": "code",
   "execution_count": 57,
   "id": "ad5c8178",
   "metadata": {},
   "outputs": [
    {
     "name": "stdout",
     "output_type": "stream",
     "text": [
      "['Aishwariya ', 'Ajinkya', 'Anushree', 'Dakshata ', 'Kimaya', 'Omkar', 'Pallavi', 'Prachi', 'Pradyna', 'Prathamesh', 'Pritesh', 'Shefali', 'Shruti', 'Shweta', 'Yash']\n"
     ]
    }
   ],
   "source": [
    "a=['Omkar', 'Aishwariya ', 'Yash', 'Anushree', 'Prathamesh', 'Ajinkya', 'Pritesh', 'Shefali', 'Pallavi', 'Shweta', 'Prachi', 'Pradyna', 'Shruti', 'Dakshata ', 'Kimaya']\n",
    "a.sort()\n",
    "print(a)"
   ]
  },
  {
   "cell_type": "code",
   "execution_count": 58,
   "id": "0e23537b",
   "metadata": {},
   "outputs": [
    {
     "name": "stdout",
     "output_type": "stream",
     "text": [
      "['apple', 'banana', 'cherry', 'kiwi', 'mango']\n"
     ]
    }
   ],
   "source": [
    "fruits = [\"apple\", \"banana\", \"cherry\", \"kiwi\", \"mango\"]\n",
    "fruits.sort()\n",
    "print(fruits)"
   ]
  },
  {
   "cell_type": "code",
   "execution_count": 59,
   "id": "47bf12ec",
   "metadata": {},
   "outputs": [
    {
     "name": "stdout",
     "output_type": "stream",
     "text": [
      "[9, 18, 33, 45, 76, 79, 85, 87, 89, 99]\n"
     ]
    }
   ],
   "source": [
    "b=[99,87,89,76,9,79,85,45,18,33]\n",
    "b.sort()\n",
    "print(b)"
   ]
  },
  {
   "cell_type": "markdown",
   "id": "77d515c7",
   "metadata": {},
   "source": [
    "# Sort Descending\n",
    "To sort descending, use the keyword argument reverse = True:"
   ]
  },
  {
   "cell_type": "code",
   "execution_count": 60,
   "id": "0dba7c3d",
   "metadata": {},
   "outputs": [
    {
     "name": "stdout",
     "output_type": "stream",
     "text": [
      "['pineapple', 'orange', 'mango', 'kiwi', 'banana']\n"
     ]
    }
   ],
   "source": [
    "thislist = [\"orange\", \"mango\", \"kiwi\", \"pineapple\", \"banana\"]\n",
    "thislist.sort(reverse = True)\n",
    "print(thislist)"
   ]
  },
  {
   "cell_type": "code",
   "execution_count": 61,
   "id": "c608f68c",
   "metadata": {},
   "outputs": [
    {
     "name": "stdout",
     "output_type": "stream",
     "text": [
      "['Yash', 'Shweta', 'Shruti', 'Shefali', 'Pritesh', 'Prathamesh', 'Pradyna', 'Prachi', 'Pallavi', 'Omkar', 'Kimaya', 'Dakshata ', 'Anushree', 'Ajinkya', 'Aishwariya ']\n"
     ]
    }
   ],
   "source": [
    "a=['Omkar', 'Aishwariya ', 'Yash', 'Anushree', 'Prathamesh', 'Ajinkya', 'Pritesh', 'Shefali', 'Pallavi', 'Shweta', 'Prachi', 'Pradyna', 'Shruti', 'Dakshata ', 'Kimaya']\n",
    "a.sort(reverse=True)\n",
    "print(a)"
   ]
  },
  {
   "cell_type": "code",
   "execution_count": 62,
   "id": "686ce2c2",
   "metadata": {},
   "outputs": [
    {
     "name": "stdout",
     "output_type": "stream",
     "text": [
      "[99, 89, 87, 85, 79, 76, 45, 33, 18, 9]\n"
     ]
    }
   ],
   "source": [
    "b=[99,87,89,76,9,79,85,45,18,33]\n",
    "b.sort(reverse=True)\n",
    "print(b)"
   ]
  },
  {
   "cell_type": "markdown",
   "id": "cd1abebb",
   "metadata": {},
   "source": [
    "# Customize Sort Function\n",
    "You can also customize your own function by using the keyword argument key = function.\n",
    "\n",
    "The function will return a number that will be used to sort the list (the lowest number first):"
   ]
  },
  {
   "cell_type": "code",
   "execution_count": 63,
   "id": "dca8a3c8",
   "metadata": {},
   "outputs": [
    {
     "name": "stdout",
     "output_type": "stream",
     "text": [
      "[50, 65, 23, 82, 100]\n"
     ]
    }
   ],
   "source": [
    "def myfunc(n):\n",
    "  return abs(n - 50)\n",
    "\n",
    "thislist = [100, 50, 65, 82, 23]\n",
    "thislist.sort(key = myfunc)\n",
    "print(thislist)"
   ]
  },
  {
   "cell_type": "code",
   "execution_count": 64,
   "id": "aab88b37",
   "metadata": {},
   "outputs": [
    {
     "name": "stdout",
     "output_type": "stream",
     "text": [
      "[67, 74, 76, 78, 98, 99, 100, 5]\n"
     ]
    }
   ],
   "source": [
    "def fa(n):\n",
    "    return abs(n-67)\n",
    "\n",
    "a=[5,78,67,99,74,76,98,100]\n",
    "a.sort(key= fa )\n",
    "print(a)"
   ]
  },
  {
   "cell_type": "markdown",
   "id": "8004420c",
   "metadata": {},
   "source": [
    "# Case Insensitive Sort\n",
    "By default the sort() method is case sensitive, resulting in all capital letters being sorted before lower case letters:"
   ]
  },
  {
   "cell_type": "code",
   "execution_count": 65,
   "id": "a64a1052",
   "metadata": {},
   "outputs": [
    {
     "name": "stdout",
     "output_type": "stream",
     "text": [
      "['Aishwariya ', 'Ajinkya', 'Dakshata ', 'Kimaya', 'Omkar', 'Pallavi', 'Prachi', 'Pradyna', 'Prathamesh', 'Pritesh', 'Shefali', 'Shruti', 'Shweta', 'Yash', 'anushree']\n"
     ]
    }
   ],
   "source": [
    "a=['Omkar', 'Aishwariya ', 'Yash', 'anushree', 'Prathamesh', 'Ajinkya', 'Pritesh', 'Shefali', 'Pallavi', 'Shweta', 'Prachi', 'Pradyna', 'Shruti', 'Dakshata ', 'Kimaya']\n",
    "a.sort()\n",
    "print(a)"
   ]
  },
  {
   "cell_type": "code",
   "execution_count": 66,
   "id": "41fe34f9",
   "metadata": {},
   "outputs": [
    {
     "name": "stdout",
     "output_type": "stream",
     "text": [
      "['Kiwi', 'Orange', 'banana', 'cherry']\n"
     ]
    }
   ],
   "source": [
    "thislist = [\"banana\", \"Orange\", \"Kiwi\", \"cherry\"]\n",
    "thislist.sort()\n",
    "print(thislist)"
   ]
  },
  {
   "cell_type": "code",
   "execution_count": 67,
   "id": "641dfce9",
   "metadata": {},
   "outputs": [
    {
     "name": "stdout",
     "output_type": "stream",
     "text": [
      "['banana', 'cherry', 'Kiwi', 'Orange']\n"
     ]
    }
   ],
   "source": [
    "thislist = [\"banana\", \"Orange\", \"Kiwi\", \"cherry\"]\n",
    "thislist.sort(key = str.lower)\n",
    "print(thislist)"
   ]
  },
  {
   "cell_type": "code",
   "execution_count": 68,
   "id": "e1da4525",
   "metadata": {},
   "outputs": [
    {
     "name": "stdout",
     "output_type": "stream",
     "text": [
      "['Aishwariya ', 'Ajinkya', 'anushree', 'Dakshata ', 'Kimaya', 'Omkar', 'Pallavi', 'Prachi', 'Pradyna', 'Prathamesh', 'Pritesh', 'Shefali', 'Shruti', 'Shweta', 'Yash']\n"
     ]
    }
   ],
   "source": [
    "a=['Omkar', 'Aishwariya ', 'Yash', 'anushree', 'Prathamesh', 'Ajinkya', 'Pritesh', 'Shefali', 'Pallavi', 'Shweta', 'Prachi', 'Pradyna', 'Shruti', 'Dakshata ', 'Kimaya']\n",
    "a.sort(key=str.lower)\n",
    "print(a)"
   ]
  },
  {
   "cell_type": "markdown",
   "id": "bece7247",
   "metadata": {},
   "source": [
    "# Reverse Order\n",
    "What if you want to reverse the order of a list, regardless of the alphabet?\n",
    "\n",
    "The reverse() method reverses the current sorting order of the elements."
   ]
  },
  {
   "cell_type": "code",
   "execution_count": 69,
   "id": "24091e2f",
   "metadata": {},
   "outputs": [
    {
     "name": "stdout",
     "output_type": "stream",
     "text": [
      "['cherry', 'Kiwi', 'Orange', 'banana']\n"
     ]
    }
   ],
   "source": [
    "thislist = [\"banana\", \"Orange\", \"Kiwi\", \"cherry\"]\n",
    "thislist.reverse()\n",
    "print(thislist)"
   ]
  },
  {
   "cell_type": "code",
   "execution_count": 70,
   "id": "996a4a58",
   "metadata": {},
   "outputs": [
    {
     "name": "stdout",
     "output_type": "stream",
     "text": [
      "['Kimaya', 'Dakshata ', 'Shruti', 'Pradyna', 'Prachi', 'Shweta', 'Pallavi', 'Shefali', 'Pritesh', 'Ajinkya', 'Prathamesh', 'Anushree', 'Yash', 'Aishwariya ', 'Omkar']\n"
     ]
    }
   ],
   "source": [
    "a=['Omkar', 'Aishwariya ', 'Yash', 'Anushree', 'Prathamesh', 'Ajinkya', 'Pritesh', 'Shefali', 'Pallavi', 'Shweta', 'Prachi', 'Pradyna', 'Shruti', 'Dakshata ', 'Kimaya']\n",
    "a.reverse()\n",
    "print(a)"
   ]
  },
  {
   "cell_type": "markdown",
   "id": "43c614fd",
   "metadata": {},
   "source": [
    "# Python - Copy Lists:\n",
    "You cannot copy a list simply by typing list2 = list1, because: list2 will only be a reference to list1, and changes made in list1 will automatically also be made in list2.\n",
    "\n",
    "There are ways to make a copy, one way is to use the built-in List method copy()."
   ]
  },
  {
   "cell_type": "code",
   "execution_count": 71,
   "id": "9ee05e99",
   "metadata": {},
   "outputs": [
    {
     "name": "stdout",
     "output_type": "stream",
     "text": [
      "['apple', 'banana', 'cherry']\n"
     ]
    }
   ],
   "source": [
    "thislist = [\"apple\", \"banana\", \"cherry\"]\n",
    "mylist = thislist.copy()\n",
    "print(mylist)"
   ]
  },
  {
   "cell_type": "code",
   "execution_count": 72,
   "id": "6cbaeffe",
   "metadata": {},
   "outputs": [
    {
     "name": "stdout",
     "output_type": "stream",
     "text": [
      "['Omkar', 'Aishwariya ', 'Yash', 'Anushree', 'Prathamesh', 'Ajinkya', 'Pritesh', 'Shefali', 'Pallavi', 'Shweta', 'Prachi', 'Pradyna', 'Shruti', 'Dakshata ', 'Kimaya']\n"
     ]
    }
   ],
   "source": [
    "a=['Omkar', 'Aishwariya ', 'Yash', 'Anushree', 'Prathamesh', 'Ajinkya', 'Pritesh', 'Shefali', 'Pallavi', 'Shweta', 'Prachi', 'Pradyna', 'Shruti', 'Dakshata ', 'Kimaya']\n",
    "ab=a.copy()\n",
    "print(ab)"
   ]
  },
  {
   "cell_type": "code",
   "execution_count": 73,
   "id": "0030869d",
   "metadata": {},
   "outputs": [
    {
     "name": "stdout",
     "output_type": "stream",
     "text": [
      "['apple', 'banana', 'cherry']\n"
     ]
    }
   ],
   "source": [
    "#Make a copy of a list with the list() method:\n",
    "\n",
    "thislist = [\"apple\", \"banana\", \"cherry\"]\n",
    "mylist = list(thislist)\n",
    "print(mylist)"
   ]
  },
  {
   "cell_type": "code",
   "execution_count": 74,
   "id": "e71a3f11",
   "metadata": {},
   "outputs": [
    {
     "name": "stdout",
     "output_type": "stream",
     "text": [
      "['Omkar', 'Aishwariya ', 'Yash', 'Anushree', 'Prathamesh', 'Ajinkya', 'Pritesh', 'Shefali', 'Pallavi', 'Shweta', 'Prachi', 'Pradyna', 'Shruti', 'Dakshata ', 'Kimaya']\n"
     ]
    }
   ],
   "source": [
    "a=['Omkar', 'Aishwariya ', 'Yash', 'Anushree', 'Prathamesh', 'Ajinkya', 'Pritesh', 'Shefali', 'Pallavi', 'Shweta', 'Prachi', 'Pradyna', 'Shruti', 'Dakshata ', 'Kimaya']\n",
    "ab=list(a)\n",
    "print(ab)"
   ]
  },
  {
   "cell_type": "markdown",
   "id": "68d78e4d",
   "metadata": {},
   "source": [
    "# Join Two Lists\n",
    "There are several ways to join, or concatenate, two or more lists in Python.\n",
    "\n",
    "One of the easiest ways are by using the + operator."
   ]
  },
  {
   "cell_type": "code",
   "execution_count": 75,
   "id": "2e3ae84f",
   "metadata": {},
   "outputs": [
    {
     "name": "stdout",
     "output_type": "stream",
     "text": [
      "['Omkar', 'Aishwariya ', 'Yash', 'Anushree', 'Prathamesh', 'Ajinkya', 'Pritesh', 'Shefali', 'Pallavi', 'Shweta', 'Prachi', 'Pradyna', 'Shruti', 'Dakshata ', 'Kimaya', 1, 2, 3, 4, 5, 6, 7, 8, 9, 10, 11, 12, 13, 14, 15, 16]\n"
     ]
    }
   ],
   "source": [
    "a=['Omkar', 'Aishwariya ', 'Yash', 'Anushree', 'Prathamesh', 'Ajinkya', 'Pritesh', 'Shefali', 'Pallavi', 'Shweta', 'Prachi', 'Pradyna', 'Shruti', 'Dakshata ', 'Kimaya']\n",
    "b=[1,2,3,4,5,6,7,8,9,10,11,12,13,14,15,16]\n",
    "\n",
    "c=a+b\n",
    "print(c)"
   ]
  },
  {
   "cell_type": "code",
   "execution_count": 76,
   "id": "a72a0226",
   "metadata": {},
   "outputs": [
    {
     "name": "stdout",
     "output_type": "stream",
     "text": [
      "['a', 'b', 'c', 1, 2, 3]\n"
     ]
    }
   ],
   "source": [
    "list1 = [\"a\", \"b\" , \"c\"]\n",
    "list2 = [1, 2, 3]\n",
    "\n",
    "for x in list2:\n",
    "  list1.append(x)\n",
    "\n",
    "print(list1)"
   ]
  },
  {
   "cell_type": "code",
   "execution_count": 77,
   "id": "eb59f4da",
   "metadata": {},
   "outputs": [
    {
     "name": "stdout",
     "output_type": "stream",
     "text": [
      "['Omkar', 'Aishwariya ', 'Yash', 'Anushree', 'Prathamesh', 'Ajinkya', 'Pritesh', 'Shefali', 'Pallavi', 'Shweta', 'Prachi', 'Pradyna', 'Shruti', 'Dakshata ', 'Kimaya', 1, 2, 3, 4, 5, 6, 7, 8, 9, 10, 11, 12, 13, 14, 15, 16]\n"
     ]
    }
   ],
   "source": [
    "a=['Omkar', 'Aishwariya ', 'Yash', 'Anushree', 'Prathamesh', 'Ajinkya', 'Pritesh', 'Shefali', 'Pallavi', 'Shweta', 'Prachi', 'Pradyna', 'Shruti', 'Dakshata ', 'Kimaya']\n",
    "b=[1,2,3,4,5,6,7,8,9,10,11,12,13,14,15,16]\n",
    "\n",
    "for i in b:\n",
    "    a.append(i)\n",
    "    \n",
    "print(a)"
   ]
  },
  {
   "cell_type": "code",
   "execution_count": 78,
   "id": "296d6ef8",
   "metadata": {},
   "outputs": [
    {
     "name": "stdout",
     "output_type": "stream",
     "text": [
      "['a', 'b', 'c', 1, 2, 3]\n"
     ]
    }
   ],
   "source": [
    "#Use the extend() method to add list2 at the end of list1:\n",
    "\n",
    "list1 = [\"a\", \"b\" , \"c\"]\n",
    "list2 = [1, 2, 3]\n",
    "\n",
    "list1.extend(list2)\n",
    "print(list1)"
   ]
  },
  {
   "cell_type": "code",
   "execution_count": 79,
   "id": "a674e5b3",
   "metadata": {},
   "outputs": [
    {
     "name": "stdout",
     "output_type": "stream",
     "text": [
      "['Omkar', 'Aishwariya ', 'Yash', 'Anushree', 'Prathamesh', 'Ajinkya', 'Pritesh', 'Shefali', 'Pallavi', 'Shweta', 'Prachi', 'Pradyna', 'Shruti', 'Dakshata ', 'Kimaya', 1, 2, 3, 4, 5, 6, 7, 8, 9, 10, 11, 12, 13, 14, 15, 16]\n"
     ]
    }
   ],
   "source": [
    "a=['Omkar', 'Aishwariya ', 'Yash', 'Anushree', 'Prathamesh', 'Ajinkya', 'Pritesh', 'Shefali', 'Pallavi', 'Shweta', 'Prachi', 'Pradyna', 'Shruti', 'Dakshata ', 'Kimaya']\n",
    "b=[1,2,3,4,5,6,7,8,9,10,11,12,13,14,15,16]\n",
    "\n",
    "a.extend(b)\n",
    "print(a)"
   ]
  },
  {
   "cell_type": "code",
   "execution_count": 83,
   "id": "f1f493c1",
   "metadata": {},
   "outputs": [
    {
     "name": "stdout",
     "output_type": "stream",
     "text": [
      "['Omkar', 'Aishwariya ', 'Yash', 'Anushree', 'Prathamesh', 'Ajinkya', 'Pritesh', 'Shefali', 'Pallavi', 'Shweta', 'Prachi', 'Pradyna', 'Shruti', 'Dakshata ', 'Kimaya']\n"
     ]
    }
   ],
   "source": [
    "a=['Omkar', 'Aishwariya ', 'Yash', 'Anushree', 'Prathamesh', 'Ajinkya', 'Pritesh', 'Shefali', 'Pallavi', 'Shweta', 'Prachi', 'Pradyna', 'Shruti', 'Dakshata ', 'Kimaya']\n",
    "b=a.count(10)\n",
    "print(a)"
   ]
  },
  {
   "cell_type": "code",
   "execution_count": 87,
   "id": "c112137b",
   "metadata": {},
   "outputs": [
    {
     "data": {
      "text/plain": [
       "2"
      ]
     },
     "execution_count": 87,
     "metadata": {},
     "output_type": "execute_result"
    }
   ],
   "source": [
    "b=[1,2,3,4,5,6,7,8,9,10,11,12,13,14,15,16,1]\n",
    "b.count(1)"
   ]
  },
  {
   "cell_type": "code",
   "execution_count": null,
   "id": "e04eaece",
   "metadata": {},
   "outputs": [],
   "source": []
  }
 ],
 "metadata": {
  "kernelspec": {
   "display_name": "Python 3 (ipykernel)",
   "language": "python",
   "name": "python3"
  },
  "language_info": {
   "codemirror_mode": {
    "name": "ipython",
    "version": 3
   },
   "file_extension": ".py",
   "mimetype": "text/x-python",
   "name": "python",
   "nbconvert_exporter": "python",
   "pygments_lexer": "ipython3",
   "version": "3.11.4"
  }
 },
 "nbformat": 4,
 "nbformat_minor": 5
}
