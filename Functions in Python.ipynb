{
 "cells": [
  {
   "cell_type": "code",
   "execution_count": 1,
   "id": "8a4fe1e7",
   "metadata": {},
   "outputs": [
    {
     "name": "stdout",
     "output_type": "stream",
     "text": [
      "hello\n"
     ]
    }
   ],
   "source": [
    "def greet():\n",
    "    print(\"hello\")\n",
    "greet()"
   ]
  },
  {
   "cell_type": "code",
   "execution_count": 5,
   "id": "3014bf05",
   "metadata": {},
   "outputs": [
    {
     "name": "stdout",
     "output_type": "stream",
     "text": [
      "Sum is 5\n"
     ]
    }
   ],
   "source": [
    "def sum(a,b):\n",
    "   print(f\"Sum is {a+b}\")\n",
    "sum(2,3)"
   ]
  },
  {
   "cell_type": "code",
   "execution_count": 6,
   "id": "480edf66",
   "metadata": {},
   "outputs": [
    {
     "name": "stdout",
     "output_type": "stream",
     "text": [
      "My name is Omkar\n"
     ]
    }
   ],
   "source": [
    "def greet(name):\n",
    "    print(f\"My name is {name}\")\n",
    "greet(\"Omkar\")"
   ]
  },
  {
   "cell_type": "code",
   "execution_count": 7,
   "id": "6c7e4ad6",
   "metadata": {},
   "outputs": [
    {
     "name": "stdout",
     "output_type": "stream",
     "text": [
      "car name is tata\n"
     ]
    }
   ],
   "source": [
    "def car (name):\n",
    "    print(f\"car name is {name}\")\n",
    "car(\"tata\")\n",
    "    "
   ]
  },
  {
   "cell_type": "code",
   "execution_count": 14,
   "id": "181583d1",
   "metadata": {},
   "outputs": [
    {
     "ename": "TypeError",
     "evalue": "unsupported operand type(s) for *: 'int' and 'NoneType'",
     "output_type": "error",
     "traceback": [
      "\u001b[1;31m---------------------------------------------------------------------------\u001b[0m",
      "\u001b[1;31mTypeError\u001b[0m                                 Traceback (most recent call last)",
      "Cell \u001b[1;32mIn[14], line 6\u001b[0m\n\u001b[0;32m      4\u001b[0m     \u001b[38;5;28;01melse\u001b[39;00m:\n\u001b[0;32m      5\u001b[0m        \u001b[38;5;28;01mreturn\u001b[39;00m n \u001b[38;5;241m*\u001b[39m factorial(n\u001b[38;5;241m-\u001b[39m\u001b[38;5;241m1\u001b[39m)\n\u001b[1;32m----> 6\u001b[0m \u001b[38;5;28mprint\u001b[39m(factorial(\u001b[38;5;241m5\u001b[39m))\n",
      "Cell \u001b[1;32mIn[14], line 5\u001b[0m, in \u001b[0;36mfactorial\u001b[1;34m(n)\u001b[0m\n\u001b[0;32m      3\u001b[0m     \u001b[38;5;28;01mreturn\u001b[39;00m \n\u001b[0;32m      4\u001b[0m \u001b[38;5;28;01melse\u001b[39;00m:\n\u001b[1;32m----> 5\u001b[0m    \u001b[38;5;28;01mreturn\u001b[39;00m n \u001b[38;5;241m*\u001b[39m factorial(n\u001b[38;5;241m-\u001b[39m\u001b[38;5;241m1\u001b[39m)\n",
      "Cell \u001b[1;32mIn[14], line 5\u001b[0m, in \u001b[0;36mfactorial\u001b[1;34m(n)\u001b[0m\n\u001b[0;32m      3\u001b[0m     \u001b[38;5;28;01mreturn\u001b[39;00m \n\u001b[0;32m      4\u001b[0m \u001b[38;5;28;01melse\u001b[39;00m:\n\u001b[1;32m----> 5\u001b[0m    \u001b[38;5;28;01mreturn\u001b[39;00m n \u001b[38;5;241m*\u001b[39m factorial(n\u001b[38;5;241m-\u001b[39m\u001b[38;5;241m1\u001b[39m)\n",
      "    \u001b[1;31m[... skipping similar frames: factorial at line 5 (2 times)]\u001b[0m\n",
      "Cell \u001b[1;32mIn[14], line 5\u001b[0m, in \u001b[0;36mfactorial\u001b[1;34m(n)\u001b[0m\n\u001b[0;32m      3\u001b[0m     \u001b[38;5;28;01mreturn\u001b[39;00m \n\u001b[0;32m      4\u001b[0m \u001b[38;5;28;01melse\u001b[39;00m:\n\u001b[1;32m----> 5\u001b[0m    \u001b[38;5;28;01mreturn\u001b[39;00m n \u001b[38;5;241m*\u001b[39m factorial(n\u001b[38;5;241m-\u001b[39m\u001b[38;5;241m1\u001b[39m)\n",
      "\u001b[1;31mTypeError\u001b[0m: unsupported operand type(s) for *: 'int' and 'NoneType'"
     ]
    }
   ],
   "source": [
    "def factorial(n):\n",
    "    if n==0:\n",
    "        return \n",
    "    else:\n",
    "       return n * factorial(n-1)\n",
    "print(factorial(5))"
   ]
  },
  {
   "cell_type": "code",
   "execution_count": 15,
   "id": "e4e3e96b",
   "metadata": {},
   "outputs": [
    {
     "name": "stdout",
     "output_type": "stream",
     "text": [
      "120\n"
     ]
    }
   ],
   "source": [
    "def factorial(n):\n",
    "    if n == 0:\n",
    "        return 1\n",
    "    else:\n",
    "        return n * factorial(n-1)\n",
    "\n",
    "# Example usage:\n",
    "print(factorial(5))  # Output: 120\n"
   ]
  },
  {
   "cell_type": "code",
   "execution_count": 16,
   "id": "06efb9bc",
   "metadata": {},
   "outputs": [
    {
     "name": "stdout",
     "output_type": "stream",
     "text": [
      "24\n"
     ]
    }
   ],
   "source": [
    "def fact(n):\n",
    "    if n == 0:\n",
    "        return 1\n",
    "    else:\n",
    "        return n * fact(n-1)\n",
    "print(fact(4))"
   ]
  },
  {
   "cell_type": "code",
   "execution_count": 17,
   "id": "6a296fd4",
   "metadata": {},
   "outputs": [
    {
     "name": "stdout",
     "output_type": "stream",
     "text": [
      "Hello Omkar\n",
      "Hello Yash\n"
     ]
    }
   ],
   "source": [
    "def greet (name):\n",
    "    print(f\"Hello {name}\")\n",
    "greet(\"Omkar\")\n",
    "greet (\"Yash\")"
   ]
  },
  {
   "cell_type": "code",
   "execution_count": 18,
   "id": "d57a38cf",
   "metadata": {},
   "outputs": [
    {
     "name": "stdout",
     "output_type": "stream",
     "text": [
      "Audi is of year 2024\n",
      "BMW is of year 2023\n"
     ]
    }
   ],
   "source": [
    "def car (name,modelyear):\n",
    "    print(f\"{name} is of year {modelyear}\")\n",
    "car(\"Audi\",2024)\n",
    "car(\"BMW\",2023)"
   ]
  },
  {
   "cell_type": "code",
   "execution_count": 21,
   "id": "b21af038",
   "metadata": {},
   "outputs": [
    {
     "name": "stdout",
     "output_type": "stream",
     "text": [
      "The Youngest son is Prathamesh\n"
     ]
    }
   ],
   "source": [
    "def kids(*kid):\n",
    "    print(f\"The Youngest son is {kid[2]}\")# aribitary Argument \n",
    "kids(\"Omkar\",\"Yash\",\"Prathamesh\")"
   ]
  },
  {
   "cell_type": "code",
   "execution_count": 22,
   "id": "e8c46a01",
   "metadata": {},
   "outputs": [
    {
     "name": "stdout",
     "output_type": "stream",
     "text": [
      "Best car is mercedes\n",
      "None\n"
     ]
    }
   ],
   "source": [
    "def car(car1,car2,car3):\n",
    "    print(f\"Best car is {car3}\")\n",
    "print(car(car1=\"audi\",car2=\"BMW\",car3=\"mercedes\"))"
   ]
  },
  {
   "cell_type": "code",
   "execution_count": 27,
   "id": "cdd067b6",
   "metadata": {},
   "outputs": [
    {
     "name": "stdout",
     "output_type": "stream",
     "text": [
      "Lastname of kid is Jethe\n"
     ]
    }
   ],
   "source": [
    "def info(**kid):\n",
    "    print(f\"Lastname of kid is {kid['lname']}\")\n",
    "\n",
    "info(fname=\"Omkar\", lname=\"Jethe\")"
   ]
  },
  {
   "cell_type": "code",
   "execution_count": 33,
   "id": "23488f40",
   "metadata": {},
   "outputs": [
    {
     "name": "stdout",
     "output_type": "stream",
     "text": [
      "Carname is 2024\n",
      "None\n"
     ]
    }
   ],
   "source": [
    "def car(**a):\n",
    "    print(f\"Carname is {a['year']}\")\n",
    "print(car(name = \" Audi \" ,year = 2024))"
   ]
  },
  {
   "cell_type": "code",
   "execution_count": 35,
   "id": "296c50a3",
   "metadata": {},
   "outputs": [
    {
     "name": "stdout",
     "output_type": "stream",
     "text": [
      "apple\n",
      "banana\n"
     ]
    }
   ],
   "source": [
    "  def myfunc(food):\n",
    "        for x in fruit :\n",
    "            print(x)\n",
    "fruits=(\"apple\",\"banana\")\n",
    "myfunc(fruits)"
   ]
  },
  {
   "cell_type": "code",
   "execution_count": 36,
   "id": "c75735bc",
   "metadata": {},
   "outputs": [
    {
     "name": "stdout",
     "output_type": "stream",
     "text": [
      "Audi\n",
      "Bmw\n",
      "Mercedes\n"
     ]
    }
   ],
   "source": [
    "def car(name):\n",
    "    for x in name :\n",
    "        print(x)\n",
    "model=(\"Audi\" ,\"Bmw\",\"Mercedes\")\n",
    "car(model)"
   ]
  },
  {
   "cell_type": "code",
   "execution_count": 39,
   "id": "4250f876",
   "metadata": {},
   "outputs": [
    {
     "name": "stdout",
     "output_type": "stream",
     "text": [
      "Audi\n",
      "BMW\n"
     ]
    }
   ],
   "source": [
    "def car(name):\n",
    "    for x in name :\n",
    "        print(x)\n",
    "cars=[\"Audi\",\"BMW\"]\n",
    "car(cars)"
   ]
  },
  {
   "cell_type": "code",
   "execution_count": 41,
   "id": "0b94ae95",
   "metadata": {},
   "outputs": [
    {
     "name": "stdout",
     "output_type": "stream",
     "text": [
      "25\n"
     ]
    }
   ],
   "source": [
    " def num(x):\n",
    "        return 5 * x\n",
    "print(num(5))"
   ]
  },
  {
   "cell_type": "code",
   "execution_count": 42,
   "id": "7446fbf5",
   "metadata": {},
   "outputs": [
    {
     "name": "stdout",
     "output_type": "stream",
     "text": [
      "65\n"
     ]
    }
   ],
   "source": [
    "def fun(n):\n",
    "    return 5*n\n",
    "print(fun(13))"
   ]
  },
  {
   "cell_type": "code",
   "execution_count": 43,
   "id": "ccbeb1a2",
   "metadata": {},
   "outputs": [
    {
     "name": "stdout",
     "output_type": "stream",
     "text": [
      "Omkar\n",
      "yash\n",
      "Prathamesh\n"
     ]
    }
   ],
   "source": [
    "def fun(name):\n",
    "    for x in name :\n",
    "        print(x)\n",
    "car=[\"Omkar\",\"yash\",\"Prathamesh\"]\n",
    "fun(car)"
   ]
  },
  {
   "cell_type": "code",
   "execution_count": 44,
   "id": "29958141",
   "metadata": {},
   "outputs": [],
   "source": [
    "def fun():\n",
    "    pass"
   ]
  },
  {
   "cell_type": "code",
   "execution_count": 45,
   "id": "57aa8043",
   "metadata": {},
   "outputs": [
    {
     "name": "stdout",
     "output_type": "stream",
     "text": [
      "3\n"
     ]
    }
   ],
   "source": [
    "def my (x,/):\n",
    "    print(x)\n",
    "my(3)"
   ]
  },
  {
   "cell_type": "code",
   "execution_count": 48,
   "id": "737d34f7",
   "metadata": {},
   "outputs": [],
   "source": [
    "# __init__ Function"
   ]
  },
  {
   "cell_type": "code",
   "execution_count": 50,
   "id": "cc7ca14d",
   "metadata": {},
   "outputs": [
    {
     "name": "stdout",
     "output_type": "stream",
     "text": [
      "Enter the number24\n",
      "Even Number\n"
     ]
    }
   ],
   "source": [
    "def evenodd(num):\n",
    "    if num % 2 == 0:\n",
    "        print(\"Even Number\")\n",
    "    else:\n",
    "        print(\"odd Number\")\n",
    "num=int(input(\"Enter the number\"))\n",
    "evenodd(num)"
   ]
  },
  {
   "cell_type": "code",
   "execution_count": 5,
   "id": "4b52fa15",
   "metadata": {},
   "outputs": [
    {
     "name": "stdout",
     "output_type": "stream",
     "text": [
      "Enter the marks45\n",
      "Enter the marks56\n",
      "Enter the marks67\n",
      "Enter the marks78\n",
      "Passed\n",
      "None\n"
     ]
    }
   ],
   "source": [
    "def marks (totalmarks):\n",
    "    if totalmarks >160 :\n",
    "        print(\"Passed\")\n",
    "    else:\n",
    "        print(\"Failed\")\n",
    "m1=int(input(\"Enter the marks\"))\n",
    "m2=int(input(\"Enter the marks\"))\n",
    "m3=int(input(\"Enter the marks\"))\n",
    "m4=int(input(\"Enter the marks\"))\n",
    "totalmarks=m1+m2+m3+m4\n",
    "print(marks(totalmarks))"
   ]
  },
  {
   "cell_type": "code",
   "execution_count": 11,
   "id": "512222ad",
   "metadata": {},
   "outputs": [
    {
     "name": "stdout",
     "output_type": "stream",
     "text": [
      "enter the nameOmkar\n",
      "Enter the attendance67\n",
      "Detained\n",
      "None\n"
     ]
    }
   ],
   "source": [
    "def student(name,attendance):\n",
    "    if attendance > 75 :\n",
    "        print(\"Not Detained \")\n",
    "    else :\n",
    "        print(\"Detained\")\n",
    "print(student(name = input(\"enter the name\"),attendance=int(input(\"Enter the attendance\"))))"
   ]
  },
  {
   "cell_type": "code",
   "execution_count": 13,
   "id": "d21c3fba",
   "metadata": {},
   "outputs": [
    {
     "name": "stdout",
     "output_type": "stream",
     "text": [
      "enter the nameOmkar\n",
      "Enter the attendance78\n",
      "Not Detained \n",
      "None\n"
     ]
    }
   ],
   "source": [
    "def student(name,attendance):\n",
    "    if attendance > 75 :\n",
    "        print(\"Not Detained \")\n",
    "    else :\n",
    "        print(\"Detained\")\n",
    "name = input(\"enter the name\")\n",
    "attendance=int(input(\"Enter the attendance\"))\n",
    "print(student(name,attendance))"
   ]
  },
  {
   "cell_type": "code",
   "execution_count": null,
   "id": "25833404",
   "metadata": {},
   "outputs": [],
   "source": []
  }
 ],
 "metadata": {
  "kernelspec": {
   "display_name": "Python 3 (ipykernel)",
   "language": "python",
   "name": "python3"
  },
  "language_info": {
   "codemirror_mode": {
    "name": "ipython",
    "version": 3
   },
   "file_extension": ".py",
   "mimetype": "text/x-python",
   "name": "python",
   "nbconvert_exporter": "python",
   "pygments_lexer": "ipython3",
   "version": "3.11.5"
  }
 },
 "nbformat": 4,
 "nbformat_minor": 5
}
