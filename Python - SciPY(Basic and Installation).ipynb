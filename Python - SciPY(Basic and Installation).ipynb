{
 "cells": [
  {
   "cell_type": "markdown",
   "id": "912c1773",
   "metadata": {},
   "source": [
    "# What is SciPy?\n",
    "SciPy is a scientific computation library that uses NumPy underneath.\n",
    "\n",
    "SciPy stands for Scientific Python.\n",
    "\n",
    "It provides more utility functions for optimization, stats and signal processing.\n",
    "\n",
    "Like NumPy, SciPy is open source so we can use it freely."
   ]
  },
  {
   "cell_type": "markdown",
   "id": "b27a81d3",
   "metadata": {},
   "source": [
    "# Why Use SciPy?\n",
    "If SciPy uses NumPy underneath, why can we not just use NumPy?\n",
    "\n",
    "SciPy has optimized and added functions that are frequently used in NumPy and Data Science."
   ]
  },
  {
   "cell_type": "markdown",
   "id": "5a103072",
   "metadata": {},
   "source": [
    "# Installation of SciPy\n",
    "If you have Python and PIP already installed on a system, then installation of SciPy is very easy."
   ]
  },
  {
   "cell_type": "code",
   "execution_count": 1,
   "id": "427e6f61",
   "metadata": {},
   "outputs": [
    {
     "name": "stdout",
     "output_type": "stream",
     "text": [
      "Requirement already satisfied: scipy in c:\\users\\admin\\anaconda3\\lib\\site-packages (1.11.1)\n",
      "Requirement already satisfied: numpy<1.28.0,>=1.21.6 in c:\\users\\admin\\anaconda3\\lib\\site-packages (from scipy) (1.24.3)\n",
      "Note: you may need to restart the kernel to use updated packages.\n"
     ]
    }
   ],
   "source": [
    "pip install scipy"
   ]
  },
  {
   "cell_type": "markdown",
   "id": "b2baf958",
   "metadata": {},
   "source": [
    "### Import SciPy\n",
    "Once SciPy is installed, import the SciPy module(s) you want to use in your applications by adding the from scipy import module statement:"
   ]
  },
  {
   "cell_type": "code",
   "execution_count": 2,
   "id": "20e0850f",
   "metadata": {},
   "outputs": [],
   "source": [
    "from scipy import constants"
   ]
  },
  {
   "cell_type": "code",
   "execution_count": 3,
   "id": "af21df64",
   "metadata": {},
   "outputs": [
    {
     "name": "stdout",
     "output_type": "stream",
     "text": [
      "0.001\n"
     ]
    }
   ],
   "source": [
    "print(constants.liter)"
   ]
  },
  {
   "cell_type": "code",
   "execution_count": 5,
   "id": "812d613e",
   "metadata": {},
   "outputs": [
    {
     "name": "stdout",
     "output_type": "stream",
     "text": [
      "4046.8564223999992\n"
     ]
    }
   ],
   "source": [
    "print(constants.acre)"
   ]
  },
  {
   "cell_type": "code",
   "execution_count": 6,
   "id": "c5fd1416",
   "metadata": {},
   "outputs": [
    {
     "name": "stdout",
     "output_type": "stream",
     "text": [
      "1.11.1\n"
     ]
    }
   ],
   "source": [
    "import scipy as spy\n",
    "print(spy.__version__)"
   ]
  },
  {
   "cell_type": "code",
   "execution_count": null,
   "id": "a868380b",
   "metadata": {},
   "outputs": [],
   "source": []
  }
 ],
 "metadata": {
  "kernelspec": {
   "display_name": "Python 3 (ipykernel)",
   "language": "python",
   "name": "python3"
  },
  "language_info": {
   "codemirror_mode": {
    "name": "ipython",
    "version": 3
   },
   "file_extension": ".py",
   "mimetype": "text/x-python",
   "name": "python",
   "nbconvert_exporter": "python",
   "pygments_lexer": "ipython3",
   "version": "3.11.5"
  }
 },
 "nbformat": 4,
 "nbformat_minor": 5
}
