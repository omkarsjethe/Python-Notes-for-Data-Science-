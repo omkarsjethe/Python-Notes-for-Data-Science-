{
 "cells": [
  {
   "cell_type": "markdown",
   "id": "335eab1e",
   "metadata": {},
   "source": [
    "# Python - Lambda Function ()"
   ]
  },
  {
   "cell_type": "code",
   "execution_count": 1,
   "id": "78f4ad05",
   "metadata": {},
   "outputs": [
    {
     "name": "stdout",
     "output_type": "stream",
     "text": [
      "OMKAR\n"
     ]
    }
   ],
   "source": [
    "a=\"Omkar\"\n",
    "upper = lambda string :string.upper()\n",
    "print(upper(a))"
   ]
  },
  {
   "cell_type": "markdown",
   "id": "f4acf9bd",
   "metadata": {},
   "source": [
    "#### lambda arguments:expression"
   ]
  },
  {
   "cell_type": "code",
   "execution_count": 2,
   "id": "aeb33b90",
   "metadata": {},
   "outputs": [
    {
     "name": "stdout",
     "output_type": "stream",
     "text": [
      "15\n"
     ]
    }
   ],
   "source": [
    "a=lambda a:a+10\n",
    "print(a(5))"
   ]
  },
  {
   "cell_type": "code",
   "execution_count": 3,
   "id": "ad3baf6a",
   "metadata": {},
   "outputs": [
    {
     "name": "stdout",
     "output_type": "stream",
     "text": [
      "25\n"
     ]
    }
   ],
   "source": [
    "b=lambda b: b-10\n",
    "print(a(15))"
   ]
  },
  {
   "cell_type": "code",
   "execution_count": 4,
   "id": "23d513fa",
   "metadata": {},
   "outputs": [
    {
     "name": "stdout",
     "output_type": "stream",
     "text": [
      "80\n"
     ]
    }
   ],
   "source": [
    "a= lambda a, b : a * b\n",
    "print(a(5, 16))"
   ]
  },
  {
   "cell_type": "code",
   "execution_count": 5,
   "id": "d9c1bbfb",
   "metadata": {},
   "outputs": [
    {
     "name": "stdout",
     "output_type": "stream",
     "text": [
      "40\n"
     ]
    }
   ],
   "source": [
    "a=lambda a,b,c : a+b+c \n",
    "print(a(12,14,14))"
   ]
  },
  {
   "cell_type": "code",
   "execution_count": 6,
   "id": "af35fc39",
   "metadata": {},
   "outputs": [
    {
     "name": "stdout",
     "output_type": "stream",
     "text": [
      "20\n"
     ]
    }
   ],
   "source": [
    "def myfunc (n):\n",
    "    return lambda a:a*n\n",
    "\n",
    "b=myfunc(2)\n",
    "print(b(10))"
   ]
  },
  {
   "cell_type": "code",
   "execution_count": 7,
   "id": "53e0b9b2",
   "metadata": {},
   "outputs": [
    {
     "name": "stdout",
     "output_type": "stream",
     "text": [
      "5\n"
     ]
    }
   ],
   "source": [
    "def subtraction (n):\n",
    "    return lambda a: a-n \n",
    "b=subtraction(25)\n",
    "print(b(30))"
   ]
  },
  {
   "cell_type": "code",
   "execution_count": 8,
   "id": "d776ab94",
   "metadata": {},
   "outputs": [
    {
     "name": "stdout",
     "output_type": "stream",
     "text": [
      "20\n"
     ]
    }
   ],
   "source": [
    "def multi(n):\n",
    "    return lambda a:a*n \n",
    "\n",
    "b=multi(4)\n",
    "print(b(5))"
   ]
  },
  {
   "cell_type": "code",
   "execution_count": 9,
   "id": "04d02013",
   "metadata": {},
   "outputs": [
    {
     "name": "stdout",
     "output_type": "stream",
     "text": [
      "20\n",
      "30\n"
     ]
    }
   ],
   "source": [
    "def sum_and_add(n):\n",
    "    return lambda a :a* n\n",
    "double = sum_and_add(2)\n",
    "triple = sum_and_add(3)\n",
    "\n",
    "print(double(10))\n",
    "print(triple(10))"
   ]
  },
  {
   "cell_type": "code",
   "execution_count": 10,
   "id": "e2be7c32",
   "metadata": {},
   "outputs": [
    {
     "name": "stdout",
     "output_type": "stream",
     "text": [
      "OMKAR\n"
     ]
    }
   ],
   "source": [
    "a=\"Omkar\" \n",
    "upper = lambda string :string.upper()\n",
    "print(upper(a))\n",
    "\n",
    "\n"
   ]
  },
  {
   "cell_type": "code",
   "execution_count": 11,
   "id": "ccd7d6be",
   "metadata": {},
   "outputs": [
    {
     "name": "stdout",
     "output_type": "stream",
     "text": [
      "6\n"
     ]
    }
   ],
   "source": [
    "Max = lambda a,b : a if (a>b)else b \n",
    "print(Max(6,3))"
   ]
  },
  {
   "cell_type": "code",
   "execution_count": 12,
   "id": "38ab44b1",
   "metadata": {},
   "outputs": [
    {
     "name": "stdout",
     "output_type": "stream",
     "text": [
      "5\n"
     ]
    }
   ],
   "source": [
    "Min = lambda a,b : a if (a<b)else b\n",
    "print(Min(5,6))"
   ]
  },
  {
   "cell_type": "code",
   "execution_count": 13,
   "id": "dc78d984",
   "metadata": {},
   "outputs": [
    {
     "name": "stdout",
     "output_type": "stream",
     "text": [
      "<generator object <lambda>.<locals>.<genexpr> at 0x000001C6EF9BA180>\n"
     ]
    }
   ],
   "source": [
    "a=[12,11,23,14,15,119,10,1,9]\n",
    "\n",
    "sorted_list= lambda x: (sorted(i) for i in x)\n",
    "print(sorted_list(a))"
   ]
  },
  {
   "cell_type": "code",
   "execution_count": 14,
   "id": "8a2b7c48",
   "metadata": {},
   "outputs": [
    {
     "name": "stdout",
     "output_type": "stream",
     "text": [
      "100\n",
      "1.44\n"
     ]
    }
   ],
   "source": [
    "square= lambda a : a**2\n",
    "print(square(10))\n",
    "print(square(1.2))"
   ]
  },
  {
   "cell_type": "code",
   "execution_count": 15,
   "id": "ff43cd53",
   "metadata": {},
   "outputs": [
    {
     "name": "stdout",
     "output_type": "stream",
     "text": [
      "1000\n"
     ]
    }
   ],
   "source": [
    "cube = lambda a : a**3\n",
    "print(cube(10))"
   ]
  },
  {
   "cell_type": "code",
   "execution_count": 16,
   "id": "ecfb24d6",
   "metadata": {},
   "outputs": [
    {
     "name": "stdout",
     "output_type": "stream",
     "text": [
      "['Even', 'odd', 'Even', 'odd', 'Even', 'odd', 'Even', 'odd', 'Even', 'odd']\n"
     ]
    }
   ],
   "source": [
    "a=[0,1,2,3,4,5,6,7,8,9]\n",
    "evenodd = map(lambda x : \"Even\" if x % 2==0 else \"odd\" ,a )\n",
    "evenoddlist=list(evenodd)\n",
    "print(evenoddlist)"
   ]
  },
  {
   "cell_type": "code",
   "execution_count": 21,
   "id": "5d5ebc63",
   "metadata": {},
   "outputs": [
    {
     "name": "stdout",
     "output_type": "stream",
     "text": [
      "[0, 2, 4, 6, 8]\n"
     ]
    }
   ],
   "source": [
    "a=[0,1,2,3,4,5,6,7,8,9]\n",
    "evennumber= filter(lambda x :x % 2 == 0, a)\n",
    "\n",
    "evennumberlist = list(evennumber)\n",
    "print(evennumberlist)"
   ]
  },
  {
   "cell_type": "code",
   "execution_count": 22,
   "id": "c88de9b5",
   "metadata": {},
   "outputs": [
    {
     "name": "stdout",
     "output_type": "stream",
     "text": [
      "[1, 3, 5, 7, 9]\n"
     ]
    }
   ],
   "source": [
    "a=[0,1,2,3,4,5,6,7,8,9]\n",
    "oddnumber =filter(lambda x : x % 2 !=0,a)\n",
    "oddnumberlist=list(oddnumber)\n",
    "print(oddnumberlist)"
   ]
  },
  {
   "cell_type": "code",
   "execution_count": 24,
   "id": "9f84e7db",
   "metadata": {},
   "outputs": [
    {
     "name": "stdout",
     "output_type": "stream",
     "text": [
      "[1, 8, 13, 14, 17, 20, 46, 59, 95, 112]\n"
     ]
    }
   ],
   "source": [
    "a=[20,1,112,13,14,95,46,17,8,59]\n",
    "\n",
    "sortedlist=sorted(a,key = lambda x:x)\n",
    "print(sortedlist)"
   ]
  },
  {
   "cell_type": "code",
   "execution_count": 30,
   "id": "eb52c38c",
   "metadata": {},
   "outputs": [
    {
     "name": "stdout",
     "output_type": "stream",
     "text": [
      "[('Esha', 22), ('Omkar', 24)]\n"
     ]
    }
   ],
   "source": [
    "a=[(\"Omkar\",24),(\"Esha\",22)]\n",
    "sortedlist=sorted(a,key = lambda x:x[1])\n",
    "print(sortedlist)"
   ]
  },
  {
   "cell_type": "code",
   "execution_count": 33,
   "id": "37928a03",
   "metadata": {},
   "outputs": [
    {
     "name": "stdout",
     "output_type": "stream",
     "text": [
      "[('Anudev', 23), ('Anushree', 25)]\n"
     ]
    }
   ],
   "source": [
    "b=[(\"Anushree\",25),(\"Anudev\",23)]\n",
    "sortedlist=sorted(b,key =lambda x:x[1])\n",
    "print(sortedlist)"
   ]
  },
  {
   "cell_type": "code",
   "execution_count": 44,
   "id": "ec2e040e",
   "metadata": {},
   "outputs": [],
   "source": [
    "# Sorting Dictionary"
   ]
  },
  {
   "cell_type": "code",
   "execution_count": 46,
   "id": "5597e083",
   "metadata": {},
   "outputs": [
    {
     "name": "stdout",
     "output_type": "stream",
     "text": [
      "{'Yash': 23, 'Omkar': 24, 'Anushree': 25}\n",
      "{'Yash': 23, 'Omkar': 24, 'Anushree': 25}\n"
     ]
    }
   ],
   "source": [
    "a={\"Omkar\":24,\"Anushree\":25,\"Yash\":23}\n",
    "sorteddict=dict(sorted(a.items(),key= lambda x:x[1]))\n",
    "print(sorteddict)\n",
    "newdict=dict(sorteddict)\n",
    "print(newdict)"
   ]
  },
  {
   "cell_type": "code",
   "execution_count": 48,
   "id": "c1ae5f03",
   "metadata": {},
   "outputs": [
    {
     "name": "stdout",
     "output_type": "stream",
     "text": [
      "{'Omkar': 24, 'Yash': 23, 'Anushree': 21}\n"
     ]
    }
   ],
   "source": [
    "a={\"Omkar\":24,\"Anushree\":21,\"Yash\":23}\n",
    "sorteddict=dict(sorted(a.items(),key= lambda x:x[1],reverse=True))\n",
    "print(sorteddict)"
   ]
  },
  {
   "cell_type": "code",
   "execution_count": 49,
   "id": "58eafb80",
   "metadata": {},
   "outputs": [],
   "source": [
    "from functools import reduce"
   ]
  },
  {
   "cell_type": "code",
   "execution_count": 52,
   "id": "e6abb2e4",
   "metadata": {},
   "outputs": [
    {
     "name": "stdout",
     "output_type": "stream",
     "text": [
      "385\n"
     ]
    }
   ],
   "source": [
    "a=[20,1,112,13,14,95,46,17,8,59]\n",
    "b=[]\n",
    "sum = reduce((lambda x,y : x+y),a)\n",
    "print(sum)"
   ]
  },
  {
   "cell_type": "code",
   "execution_count": null,
   "id": "1df5ded3",
   "metadata": {},
   "outputs": [],
   "source": []
  }
 ],
 "metadata": {
  "kernelspec": {
   "display_name": "Python 3 (ipykernel)",
   "language": "python",
   "name": "python3"
  },
  "language_info": {
   "codemirror_mode": {
    "name": "ipython",
    "version": 3
   },
   "file_extension": ".py",
   "mimetype": "text/x-python",
   "name": "python",
   "nbconvert_exporter": "python",
   "pygments_lexer": "ipython3",
   "version": "3.11.5"
  }
 },
 "nbformat": 4,
 "nbformat_minor": 5
}
