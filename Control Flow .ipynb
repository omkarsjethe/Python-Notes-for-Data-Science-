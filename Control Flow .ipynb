{
 "cells": [
  {
   "cell_type": "markdown",
   "id": "d07df462",
   "metadata": {},
   "source": [
    "By default, the instructions in a computer program are executed in a sequential manner, from top to bottom, or from start to end. However, such sequentially executing programs can perform only simplistic tasks. We would like the program to have a decision-making ability, so that it performs different steps depending on different conditions.\n",
    "\n",
    "Most programming languages including Python provide functionality to control the flow of execution of instructions. Normally, there are two type of control flow statements in any programming language and Python also supports them."
   ]
  },
  {
   "cell_type": "markdown",
   "id": "5932298c",
   "metadata": {},
   "source": [
    "# Decision-making Statements\n",
    "Decision making statements are used in the Python programs to make them able to decide which of the alternative group of instructions to be executed, depending on value of a certain Boolean expression.\n",
    "\n",
    "The following diagram illustrates how decision-making statements work −"
   ]
  },
  {
   "cell_type": "markdown",
   "id": "def8bcd8",
   "metadata": {},
   "source": [
    "# The if Statement\n",
    "Python provides if..elif..else control statements as a part of decision marking. Following is a simple example which makes use of if..elif..else. You can try to run this program using different marks and verify the result."
   ]
  },
  {
   "cell_type": "code",
   "execution_count": 1,
   "id": "ccb1ac8d",
   "metadata": {},
   "outputs": [
    {
     "name": "stdout",
     "output_type": "stream",
     "text": [
      "Passed with distinction\n"
     ]
    }
   ],
   "source": [
    "marks = 80 \n",
    "result = \"\"\n",
    "if marks < 30:\n",
    "   result = \"Failed\"\n",
    "elif marks > 75:\n",
    "   result = \"Passed with distinction\"\n",
    "else:\n",
    "   result = \"Passed\"\n",
    "\n",
    "print(result)"
   ]
  },
  {
   "cell_type": "code",
   "execution_count": 4,
   "id": "f90f328e",
   "metadata": {},
   "outputs": [
    {
     "name": "stdout",
     "output_type": "stream",
     "text": [
      "Enter The number 21\n",
      "21 is Odd number \n"
     ]
    }
   ],
   "source": [
    "a=int(input(\"Enter The number \"))\n",
    "if a /2==0:\n",
    "    print(f\"{a} is Even number \")\n",
    "else :\n",
    "    print(f\"{a} is Odd number \")"
   ]
  },
  {
   "cell_type": "markdown",
   "id": "628b59fa",
   "metadata": {},
   "source": [
    "# Loops or Iteration Statements\n",
    "Most of the processes require a group of instructions to be repeatedly executed. In programming terminology, it is called a loop. Instead of the next step, if the flow is redirected towards any earlier step, it constitutes a loop.\n",
    "\n",
    "The following diagram illustrates how the looping works −"
   ]
  },
  {
   "cell_type": "code",
   "execution_count": 20,
   "id": "09f40d07",
   "metadata": {},
   "outputs": [
    {
     "name": "stdout",
     "output_type": "stream",
     "text": [
      "Enter The amount 12500\n",
      "Bonus is 312.5  12812.5\n"
     ]
    }
   ],
   "source": [
    "a=int(input(\"Enter The amount \"))\n",
    "i=2.5\n",
    "if a >10000:\n",
    "    bonus=a*i/100\n",
    "print(f\"Bonus is {bonus} \",a+bonus)    "
   ]
  },
  {
   "cell_type": "code",
   "execution_count": 21,
   "id": "a7b986f5",
   "metadata": {},
   "outputs": [
    {
     "name": "stdout",
     "output_type": "stream",
     "text": [
      "amount =  1080.0\n"
     ]
    }
   ],
   "source": [
    "discount = 0\n",
    "amount = 1200\n",
    "if amount > 1000:\n",
    "   discount = amount * 10 / 100\n",
    "\n",
    "print(\"amount = \", amount - discount)  "
   ]
  },
  {
   "cell_type": "markdown",
   "id": "5bb4349e",
   "metadata": {},
   "source": [
    "# Vote Eligiblity"
   ]
  },
  {
   "cell_type": "code",
   "execution_count": 23,
   "id": "58094e54",
   "metadata": {},
   "outputs": [
    {
     "name": "stdout",
     "output_type": "stream",
     "text": [
      "Enter the age 23\n",
      "23 is Eligible to vote \n"
     ]
    }
   ],
   "source": [
    "age=int(input(\"Enter the age \"))\n",
    "\n",
    "if age<=18:\n",
    "    print(f\"{age} is not Eligible to vote \")\n",
    "else :\n",
    "    print(f\"{age} is Eligible to vote \")"
   ]
  },
  {
   "cell_type": "code",
   "execution_count": 46,
   "id": "dd859583",
   "metadata": {},
   "outputs": [
    {
     "name": "stdout",
     "output_type": "stream",
     "text": [
      "Enter The amount of shopping50000\n",
      "Payable amount =  40000.0\n"
     ]
    }
   ],
   "source": [
    "a=int(input(\"Enter The amount of shopping\"))\n",
    "\n",
    "if a<10000:\n",
    "    d=amount*10/100\n",
    "elif a> 20000:\n",
    "    d=amount*20/100\n",
    "else :\n",
    "    d=0\n",
    "print('Payable amount = ',a - d)"
   ]
  },
  {
   "cell_type": "code",
   "execution_count": 31,
   "id": "128fb83c",
   "metadata": {},
   "outputs": [
    {
     "name": "stdout",
     "output_type": "stream",
     "text": [
      "Enter The amount of shopping25000\n",
      "Amount =  25000\n",
      "Payable amount 5000.0=  20000.0\n"
     ]
    }
   ],
   "source": [
    "amount=int(input(\"Enter The amount of shopping\"))\n",
    "print('Amount = ',amount)\n",
    "if amount < 10000:\n",
    "   discount = amount * 10 / 100\n",
    "else:\n",
    "   if amount > 15000:\n",
    "      discount = amount * 20 / 100\n",
    "   else:\n",
    "      if amount > 30000:\n",
    "         discount = amount * 25 / 100\n",
    "      else:\n",
    "         discount = 0\n",
    "\n",
    "print(f'Payable amount {discount}= ',amount - discount)"
   ]
  },
  {
   "cell_type": "code",
   "execution_count": 45,
   "id": "09719139",
   "metadata": {},
   "outputs": [
    {
     "name": "stdout",
     "output_type": "stream",
     "text": [
      "Enter The amount of shopping50000\n",
      "Amount =  50000\n",
      "Payable amount =  40000.0\n"
     ]
    }
   ],
   "source": [
    "amount=int(input(\"Enter The amount of shopping\"))\n",
    "print('Amount = ',amount)\n",
    "if amount < 10000:\n",
    "   discount = amount * 10 / 100\n",
    "elif amount > 20000:\n",
    "   discount = amount * 20 / 100\n",
    "else:\n",
    "   discount=0\n",
    "\n",
    "print('Payable amount = ',amount - discount)"
   ]
  },
  {
   "cell_type": "code",
   "execution_count": 48,
   "id": "59a04fb8",
   "metadata": {},
   "outputs": [
    {
     "name": "stdout",
     "output_type": "stream",
     "text": [
      "Enter the number21\n",
      "Number is divisble by 3 and not by 2\n"
     ]
    }
   ],
   "source": [
    "num=int(input(\"Enter the number\"))\n",
    "\n",
    "if num % 2==0:\n",
    "    if num % 3==0:\n",
    "        print(\"Number is divisble by 3 and 2\")\n",
    "    else :\n",
    "        print(\"Number is only Divisble by 2\")\n",
    "else :\n",
    "    if num %3 ==0:\n",
    "        print(\"Number is divisble by 3 and not by 2\")\n",
    "    else :\n",
    "        print(\"Number is divisble by 3 and by 2\")"
   ]
  },
  {
   "cell_type": "code",
   "execution_count": 53,
   "id": "d5492f93",
   "metadata": {},
   "outputs": [
    {
     "name": "stdout",
     "output_type": "stream",
     "text": [
      "Enter the number24\n",
      "number 1:7\n",
      "number 2:6\n",
      "Number is divisble by 6 and not by 7\n"
     ]
    }
   ],
   "source": [
    "num=int(input(\"Enter the number :\"))\n",
    "i=int(input(\"number 1:\"))\n",
    "j=int(input(\"number 2:\"))\n",
    "\n",
    "if num % i==0:\n",
    "    if num % j==0:\n",
    "        print(f\"Number is divisble by {i} and {j}\")\n",
    "    else :\n",
    "        print(f\"Number is only Divisble by {i}\")\n",
    "else :\n",
    "    if num %j ==0:\n",
    "        print(f\"Number is divisble by {j} and not by {i}\")\n",
    "    else :\n",
    "        print(f\"Number is divisble by {i} and by {j}\")"
   ]
  },
  {
   "cell_type": "code",
   "execution_count": null,
   "id": "539715b7",
   "metadata": {},
   "outputs": [],
   "source": []
  }
 ],
 "metadata": {
  "kernelspec": {
   "display_name": "Python 3 (ipykernel)",
   "language": "python",
   "name": "python3"
  },
  "language_info": {
   "codemirror_mode": {
    "name": "ipython",
    "version": 3
   },
   "file_extension": ".py",
   "mimetype": "text/x-python",
   "name": "python",
   "nbconvert_exporter": "python",
   "pygments_lexer": "ipython3",
   "version": "3.11.4"
  }
 },
 "nbformat": 4,
 "nbformat_minor": 5
}
