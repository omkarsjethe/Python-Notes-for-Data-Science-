{
 "cells": [
  {
   "cell_type": "markdown",
   "id": "46502406",
   "metadata": {},
   "source": [
    "# Python Classes/Objects\n",
    "Python is an object oriented programming language.\n",
    "\n",
    "Almost everything in Python is an object, with its properties and methods.\n",
    "\n",
    "A Class is like an object constructor, or a \"blueprint\" for creating objects."
   ]
  },
  {
   "cell_type": "code",
   "execution_count": 1,
   "id": "16662af3",
   "metadata": {},
   "outputs": [
    {
     "name": "stdout",
     "output_type": "stream",
     "text": [
      "Omkar\n"
     ]
    }
   ],
   "source": [
    "name=\"Omkar\"\n",
    "class name:\n",
    "    print(name)"
   ]
  },
  {
   "cell_type": "code",
   "execution_count": 2,
   "id": "480b2226",
   "metadata": {},
   "outputs": [
    {
     "name": "stdout",
     "output_type": "stream",
     "text": [
      "Omkar\n",
      "25\n"
     ]
    }
   ],
   "source": [
    "class Person:\n",
    "  def __init__(self, name, age):\n",
    "    self.name = name\n",
    "    self.age = age\n",
    "\n",
    "p1 = Person(\"Omkar\", 25)\n",
    "p2 = Person(\"Aishwariya\" ,24)\n",
    "print(p1.name)\n",
    "print(p1.age)"
   ]
  },
  {
   "cell_type": "code",
   "execution_count": 3,
   "id": "71792f8b",
   "metadata": {},
   "outputs": [
    {
     "name": "stdout",
     "output_type": "stream",
     "text": [
      "Enter the name: Omkar\n",
      "Enter the age: 24\n",
      "Name: Omkar, Age: 24\n"
     ]
    }
   ],
   "source": [
    "class Person:\n",
    "    def __init__(self, name, age):\n",
    "        self.name = name\n",
    "        self.age = age\n",
    "    \n",
    "    def display(self):\n",
    "        print(f\"Name: {self.name}, Age: {self.age}\")\n",
    "\n",
    "name = input(\"Enter the name: \")\n",
    "age = int(input(\"Enter the age: \"))\n",
    "\n",
    "person = Person(name, age)\n",
    "\n",
    "person.display()\n"
   ]
  },
  {
   "cell_type": "code",
   "execution_count": 4,
   "id": "e2c94767",
   "metadata": {},
   "outputs": [
    {
     "name": "stdout",
     "output_type": "stream",
     "text": [
      "Car Make: Toyota, Model: Corolla\n",
      "Enter car make: Tesla\n",
      "Enter car model: Models\n",
      "Car Make: Tesla, Model: Models\n"
     ]
    }
   ],
   "source": [
    "class Car:\n",
    "    def __init__(self, make=\"Toyota\", model=\"Corolla\"):\n",
    "        self.make = make\n",
    "        self.model = model\n",
    "\n",
    "    def display(self):\n",
    "        print(f\"Car Make: {self.make}, Model: {self.model}\")\n",
    "\n",
    "car = Car()\n",
    "car.display()\n",
    "\n",
    "make = input(\"Enter car make: \")\n",
    "model = input(\"Enter car model: \")\n",
    "car_custom = Car(make, model)\n",
    "car_custom.display()\n"
   ]
  },
  {
   "cell_type": "code",
   "execution_count": 8,
   "id": "26a7df81",
   "metadata": {},
   "outputs": [
    {
     "name": "stdout",
     "output_type": "stream",
     "text": [
      "Enter account holder's name: Omkar\n",
      "Enter the amount10000\n",
      "Deposited 10000. New balance is 10000\n",
      "Enter the amount5000\n",
      "Withdrew 5000. New balance is 5000\n",
      "Enter the amount1000\n",
      "Withdrew 1000. New balance is 4000\n"
     ]
    }
   ],
   "source": [
    "class BankAccount:\n",
    "    def __init__(self, account_holder, balance=0):\n",
    "        self.account_holder = account_holder\n",
    "        self.balance = balance\n",
    "\n",
    "    def deposit(self, amount):\n",
    "        self.balance += amount\n",
    "        print(f\"Deposited {amount}. New balance is {self.balance}\")\n",
    "\n",
    "    def withdraw(self, amount):\n",
    "        if amount > self.balance:\n",
    "            print(\"Insufficient funds\")\n",
    "        else:\n",
    "            self.balance -= amount\n",
    "            print(f\"Withdrew {amount}. New balance is {self.balance}\")\n",
    "\n",
    "# Creating an object of the BankAccount class\n",
    "holder = input(\"Enter account holder's name: \")\n",
    "account = BankAccount(holder)\n",
    "account.deposit(int(input(\"Enter the amount\")))\n",
    "account.withdraw(int(input(\"Enter the amount\")))\n",
    "account.withdraw(int(input(\"Enter the amount\")))\n"
   ]
  },
  {
   "cell_type": "code",
   "execution_count": null,
   "id": "978ec5d2",
   "metadata": {},
   "outputs": [],
   "source": []
  }
 ],
 "metadata": {
  "kernelspec": {
   "display_name": "Python 3 (ipykernel)",
   "language": "python",
   "name": "python3"
  },
  "language_info": {
   "codemirror_mode": {
    "name": "ipython",
    "version": 3
   },
   "file_extension": ".py",
   "mimetype": "text/x-python",
   "name": "python",
   "nbconvert_exporter": "python",
   "pygments_lexer": "ipython3",
   "version": "3.11.5"
  }
 },
 "nbformat": 4,
 "nbformat_minor": 5
}
