{
 "cells": [
  {
   "cell_type": "code",
   "execution_count": 1,
   "id": "3bbd4e9a",
   "metadata": {},
   "outputs": [
    {
     "name": "stdout",
     "output_type": "stream",
     "text": [
      "Omkar Sharad Jethe\n"
     ]
    }
   ],
   "source": [
    "print(\"Omkar Sharad Jethe\")"
   ]
  },
  {
   "cell_type": "code",
   "execution_count": 6,
   "id": "ac59a25e",
   "metadata": {},
   "outputs": [
    {
     "name": "stdout",
     "output_type": "stream",
     "text": [
      "50\n",
      "I am learning\n",
      "50\n",
      "Omkar Jethe\n"
     ]
    }
   ],
   "source": [
    "num=50\n",
    "print(num)\n",
    "print(\"I am learning\")\n",
    "x=50\n",
    "print(x)\n",
    "\n",
    "name=\"Omkar Jethe\"\n",
    "print(name)\n",
    "\n"
   ]
  },
  {
   "cell_type": "code",
   "execution_count": 8,
   "id": "c3e75ed1",
   "metadata": {},
   "outputs": [
    {
     "data": {
      "text/plain": [
       "100"
      ]
     },
     "execution_count": 8,
     "metadata": {},
     "output_type": "execute_result"
    }
   ],
   "source": [
    "50+50\n",
    "50+50"
   ]
  },
  {
   "cell_type": "code",
   "execution_count": 9,
   "id": "977ca9b2",
   "metadata": {},
   "outputs": [
    {
     "name": "stdout",
     "output_type": "stream",
     "text": [
      "50+50\n"
     ]
    }
   ],
   "source": [
    "print(\"50+50\")"
   ]
  },
  {
   "cell_type": "code",
   "execution_count": 14,
   "id": "43240940",
   "metadata": {},
   "outputs": [
    {
     "name": "stdout",
     "output_type": "stream",
     "text": [
      "OmkarJethe\n",
      " Omkar Omkar Omkar Omkar Omkar\n",
      "OmkarOmkarOmkarOmkarOmkar\n"
     ]
    }
   ],
   "source": [
    "print(\"Omkar\"+\"Jethe\")\n",
    "print(\" Omkar\"*5)\n",
    "print(\"Omkar\"*5)"
   ]
  },
  {
   "cell_type": "markdown",
   "id": "66fb6557",
   "metadata": {},
   "source": [
    "## TypeCasting Function"
   ]
  },
  {
   "cell_type": "code",
   "execution_count": 30,
   "id": "fbd7ee55",
   "metadata": {},
   "outputs": [
    {
     "name": "stdout",
     "output_type": "stream",
     "text": [
      "Monu ki Sonu\n",
      "Monu Sonu\n",
      "Monu\n",
      "Sonu\n",
      "Monu Sonu\n",
      "Monu\n",
      "Sonu\n",
      "MonuaSonu\n"
     ]
    }
   ],
   "source": [
    "x=\"Monu\"\n",
    "y=\"Sonu\"\n",
    "print(x+\" ki \"+y)\n",
    "print(x,y)\n",
    "print(x)\n",
    "print(y)\n",
    "print(x, end=\" \")\n",
    "print(y)\n",
    "print(x,y , sep=\"\\n\")\n",
    "print(x,y , sep=\"a\")"
   ]
  },
  {
   "cell_type": "code",
   "execution_count": 36,
   "id": "4a57c4f3",
   "metadata": {},
   "outputs": [
    {
     "name": "stdout",
     "output_type": "stream",
     "text": [
      "8 9\n"
     ]
    }
   ],
   "source": [
    "x=8\n",
    "y=9\n",
    "print(x, end= \" \")\n",
    "print(y)"
   ]
  },
  {
   "cell_type": "code",
   "execution_count": 38,
   "id": "954b7088",
   "metadata": {},
   "outputs": [
    {
     "name": "stdout",
     "output_type": "stream",
     "text": [
      "36\n"
     ]
    }
   ],
   "source": [
    "a=12\n",
    "b=24\n",
    "c=a+b\n",
    "print(c)"
   ]
  },
  {
   "cell_type": "code",
   "execution_count": 39,
   "id": "433e0675",
   "metadata": {},
   "outputs": [
    {
     "name": "stdout",
     "output_type": "stream",
     "text": [
      "My Name Is Omkar my age is 24\n"
     ]
    }
   ],
   "source": [
    "name=\"Omkar\"\n",
    "age=24\n",
    "\n",
    "print(\"My Name Is\",name,\"my age is\",age)"
   ]
  },
  {
   "cell_type": "markdown",
   "id": "de809437",
   "metadata": {},
   "source": [
    "# # F string method in print function\n"
   ]
  },
  {
   "cell_type": "code",
   "execution_count": 52,
   "id": "48e0a757",
   "metadata": {},
   "outputs": [
    {
     "name": "stdout",
     "output_type": "stream",
     "text": [
      "My Name is Omkar my age is 24\n",
      "My name is Omkar my age is 24\n"
     ]
    }
   ],
   "source": [
    "\n",
    "name=\"Omkar\"\n",
    "age=24\n",
    "print(f\"My Name is {name} my age is {age}\")\n",
    "print(\"My name is {} my age is {}\".format(name,age))\n"
   ]
  },
  {
   "cell_type": "markdown",
   "id": "37f3b462",
   "metadata": {},
   "source": [
    " # rules of  variable naming convention"
   ]
  },
  {
   "cell_type": "markdown",
   "id": "f501ad4b",
   "metadata": {},
   "source": [
    "1.variable name should be start by lowercase                                                                                  \n",
    "\n",
    "2.variable name can be Store in underscore  \n",
    "\n",
    "3.variable name should nor start with number or any special character \n",
    "\n",
    "4.We add number at start of byy underscore first \n",
    "\n",
    "5.Cannot Use \"-\" anywhere to use variable  \n",
    "\n",
    "6.Cannot Use \"*\" anywhere to use variable  \n",
    "\n",
    "7.variable name should start by alphabet than any number as a wish  \n",
    "\n",
    "8.Define big variable by givng underscore between two word that can be added  \n"
   ]
  },
  {
   "cell_type": "markdown",
   "id": "6d894110",
   "metadata": {},
   "source": [
    "# Assigning multiple values to variable"
   ]
  },
  {
   "cell_type": "code",
   "execution_count": 55,
   "id": "56d6645a",
   "metadata": {},
   "outputs": [
    {
     "name": "stdout",
     "output_type": "stream",
     "text": [
      "sonu\n",
      "monu\n",
      "jannu\n",
      "sonu monu jannu\n"
     ]
    }
   ],
   "source": [
    "a,b,c=\"sonu\",\"monu\",\"jannu\"\n",
    "print(a)\n",
    "print(b)\n",
    "print(c)\n",
    "print(a,b,c)"
   ]
  },
  {
   "cell_type": "code",
   "execution_count": 61,
   "id": "c5cd54d6",
   "metadata": {},
   "outputs": [
    {
     "name": "stdout",
     "output_type": "stream",
     "text": [
      "Omkar Jethe Omkar Jethe Omkar Jethe\n"
     ]
    }
   ],
   "source": [
    "a=b=c=\"Omkar Jethe\"\n",
    "print(a,b,c)"
   ]
  },
  {
   "cell_type": "markdown",
   "id": "7ad3c68e",
   "metadata": {},
   "source": [
    "## Swapping two number without third variable "
   ]
  },
  {
   "cell_type": "code",
   "execution_count": 63,
   "id": "21b34293",
   "metadata": {},
   "outputs": [
    {
     "name": "stdout",
     "output_type": "stream",
     "text": [
      "20\n",
      "10\n"
     ]
    }
   ],
   "source": [
    "a=10\n",
    "b=20\n",
    "\n",
    "a,b=b,a\n",
    "\n",
    "print(a) #values of a\n",
    "print(b) # value of b"
   ]
  },
  {
   "cell_type": "markdown",
   "id": "2357bee9",
   "metadata": {},
   "source": [
    "## Know Datatype od variable given "
   ]
  },
  {
   "cell_type": "markdown",
   "id": "281d8dbd",
   "metadata": {},
   "source": [
    " Comments in python \n",
    " \n",
    " #"
   ]
  },
  {
   "cell_type": "code",
   "execution_count": 68,
   "id": "1ff60396",
   "metadata": {},
   "outputs": [
    {
     "name": "stdout",
     "output_type": "stream",
     "text": [
      "<class 'str'>\n"
     ]
    }
   ],
   "source": [
    "num=\"Omkar\"\n",
    "print(type(num))\n"
   ]
  },
  {
   "cell_type": "markdown",
   "id": "ffcd6828",
   "metadata": {},
   "source": [
    "## Boolean "
   ]
  },
  {
   "cell_type": "code",
   "execution_count": 71,
   "id": "a271a529",
   "metadata": {},
   "outputs": [
    {
     "name": "stdout",
     "output_type": "stream",
     "text": [
      "True False\n",
      "<class 'bool'>\n"
     ]
    }
   ],
   "source": [
    "x=True\n",
    "y=False\n",
    "print(x,y)\n",
    "print(type(x))"
   ]
  },
  {
   "cell_type": "code",
   "execution_count": 72,
   "id": "390b14ff",
   "metadata": {},
   "outputs": [
    {
     "name": "stdout",
     "output_type": "stream",
     "text": [
      "<class 'bool'>\n"
     ]
    }
   ],
   "source": [
    "x=5>2\n",
    "\n",
    "print(type(x))"
   ]
  },
  {
   "cell_type": "markdown",
   "id": "fcb448e9",
   "metadata": {},
   "source": [
    "## String Is always Immuttable datatype"
   ]
  },
  {
   "cell_type": "markdown",
   "id": "9c94e248",
   "metadata": {},
   "source": [
    "\n",
    "# List"
   ]
  },
  {
   "cell_type": "markdown",
   "id": "dab436ab",
   "metadata": {},
   "source": [
    "List is the collection of elements of same or different datatype\n",
    "\n",
    "1.Mutable\n",
    "\n",
    "2.ordered\n",
    "\n",
    "3.Brackets are compulsary\n"
   ]
  },
  {
   "cell_type": "code",
   "execution_count": 74,
   "id": "703e1f17",
   "metadata": {},
   "outputs": [
    {
     "name": "stdout",
     "output_type": "stream",
     "text": [
      "[1, 2, 3, 4, 5, 6]\n"
     ]
    },
    {
     "data": {
      "text/plain": [
       "list"
      ]
     },
     "execution_count": 74,
     "metadata": {},
     "output_type": "execute_result"
    }
   ],
   "source": [
    "\n",
    "my_list=[1,2,3,4,5,6]\n",
    "\n",
    "print(my_list)\n",
    "type(my_list)"
   ]
  },
  {
   "cell_type": "code",
   "execution_count": 82,
   "id": "dceef930",
   "metadata": {},
   "outputs": [
    {
     "name": "stdout",
     "output_type": "stream",
     "text": [
      "[1, 'Omkar', 'Computer', 1234567]\n",
      "[1, '123', 'Computer', 1234567]\n"
     ]
    },
    {
     "data": {
      "text/plain": [
       "4"
      ]
     },
     "execution_count": 82,
     "metadata": {},
     "output_type": "execute_result"
    }
   ],
   "source": [
    "my_list=[1,\"Omkar\",\"Computer\",1234567]\n",
    "print(my_list)\n",
    "\n",
    "my_list[1]=\"123\"\n",
    "print(my_list)\n",
    "len(my_list)\n",
    "# Len is the function  for counting length of list"
   ]
  },
  {
   "cell_type": "code",
   "execution_count": 83,
   "id": "3129d3b6",
   "metadata": {},
   "outputs": [
    {
     "data": {
      "text/plain": [
       "10"
      ]
     },
     "execution_count": 83,
     "metadata": {},
     "output_type": "execute_result"
    }
   ],
   "source": [
    "name=\"OmkarJethe\"\n",
    "len(name)"
   ]
  },
  {
   "cell_type": "markdown",
   "id": "a6f4ffa9",
   "metadata": {},
   "source": [
    "# Tuples"
   ]
  },
  {
   "cell_type": "markdown",
   "id": "ff4db50d",
   "metadata": {},
   "source": [
    "1.In tuples we use round brackets ()\n",
    "\n",
    "2.This are immutable\n",
    "\n",
    "3.brackets are not compulsary\n",
    "\n"
   ]
  },
  {
   "cell_type": "code",
   "execution_count": 85,
   "id": "bb422407",
   "metadata": {},
   "outputs": [
    {
     "data": {
      "text/plain": [
       "tuple"
      ]
     },
     "execution_count": 85,
     "metadata": {},
     "output_type": "execute_result"
    }
   ],
   "source": [
    "my_tuples=(1,2,3,4,5)\n",
    "type(my_tuples)"
   ]
  },
  {
   "cell_type": "code",
   "execution_count": 86,
   "id": "d15e4b2e",
   "metadata": {},
   "outputs": [
    {
     "data": {
      "text/plain": [
       "tuple"
      ]
     },
     "execution_count": 86,
     "metadata": {},
     "output_type": "execute_result"
    }
   ],
   "source": [
    "a=1,2\n",
    "type(a)"
   ]
  },
  {
   "cell_type": "code",
   "execution_count": 87,
   "id": "436157c3",
   "metadata": {},
   "outputs": [
    {
     "data": {
      "text/plain": [
       "tuple"
      ]
     },
     "execution_count": 87,
     "metadata": {},
     "output_type": "execute_result"
    }
   ],
   "source": [
    "a=1,\n",
    "type(a)"
   ]
  },
  {
   "cell_type": "code",
   "execution_count": null,
   "id": "26f31d96",
   "metadata": {},
   "outputs": [],
   "source": []
  },
  {
   "cell_type": "markdown",
   "id": "7b726ee8",
   "metadata": {},
   "source": [
    "# Imp Question"
   ]
  },
  {
   "cell_type": "code",
   "execution_count": null,
   "id": "4d1bc48c",
   "metadata": {},
   "outputs": [],
   "source": []
  }
 ],
 "metadata": {
  "kernelspec": {
   "display_name": "Python 3 (ipykernel)",
   "language": "python",
   "name": "python3"
  },
  "language_info": {
   "codemirror_mode": {
    "name": "ipython",
    "version": 3
   },
   "file_extension": ".py",
   "mimetype": "text/x-python",
   "name": "python",
   "nbconvert_exporter": "python",
   "pygments_lexer": "ipython3",
   "version": "3.9.7"
  }
 },
 "nbformat": 4,
 "nbformat_minor": 5
}
