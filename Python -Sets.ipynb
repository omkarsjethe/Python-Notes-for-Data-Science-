{
 "cells": [
  {
   "cell_type": "markdown",
   "id": "f2658740",
   "metadata": {},
   "source": [
    "# Sets :\n",
    "\n",
    "Sets are used to store multiple items in a single variable.\n",
    "\n",
    "Set is one of 4 built-in data types in Python used to store collections of data, the other 3 are List, Tuple, and Dictionary, all with different qualities and usage.\n",
    "\n",
    "A set is a collection which is unordered, unchangeable*, and unindexed."
   ]
  },
  {
   "cell_type": "code",
   "execution_count": 1,
   "id": "b70436a4",
   "metadata": {},
   "outputs": [
    {
     "name": "stdout",
     "output_type": "stream",
     "text": [
      "set()\n"
     ]
    }
   ],
   "source": [
    "set_var=set()\n",
    "print(set_var)"
   ]
  },
  {
   "cell_type": "code",
   "execution_count": 2,
   "id": "30a99b40",
   "metadata": {},
   "outputs": [
    {
     "name": "stdout",
     "output_type": "stream",
     "text": [
      "{1, 2, 3, 4, 5}\n"
     ]
    }
   ],
   "source": [
    "a={1,2,3,4,5}\n",
    "print(a)"
   ]
  },
  {
   "cell_type": "code",
   "execution_count": 3,
   "id": "a0560ea1",
   "metadata": {},
   "outputs": [
    {
     "name": "stdout",
     "output_type": "stream",
     "text": [
      "{1, 2, 3, 4, 5}\n"
     ]
    }
   ],
   "source": [
    "a={1,2,3,4,4,5,1}\n",
    "print(a)"
   ]
  },
  {
   "cell_type": "code",
   "execution_count": 4,
   "id": "18099e0f",
   "metadata": {},
   "outputs": [
    {
     "name": "stdout",
     "output_type": "stream",
     "text": [
      "<class 'set'>\n"
     ]
    }
   ],
   "source": [
    "print(type(a))"
   ]
  },
  {
   "cell_type": "markdown",
   "id": "f251b572",
   "metadata": {},
   "source": [
    "# Indexing \n"
   ]
  },
  {
   "cell_type": "markdown",
   "id": "9ca850f1",
   "metadata": {},
   "source": [
    "It Doesnot allow Indexing "
   ]
  },
  {
   "cell_type": "code",
   "execution_count": 5,
   "id": "e4552561",
   "metadata": {},
   "outputs": [
    {
     "ename": "TypeError",
     "evalue": "'set' object is not subscriptable",
     "output_type": "error",
     "traceback": [
      "\u001b[1;31m---------------------------------------------------------------------------\u001b[0m",
      "\u001b[1;31mTypeError\u001b[0m                                 Traceback (most recent call last)",
      "Cell \u001b[1;32mIn[5], line 1\u001b[0m\n\u001b[1;32m----> 1\u001b[0m \u001b[38;5;28mprint\u001b[39m(a[\u001b[38;5;241m0\u001b[39m])\n",
      "\u001b[1;31mTypeError\u001b[0m: 'set' object is not subscriptable"
     ]
    }
   ],
   "source": [
    "print(a[0])"
   ]
  },
  {
   "cell_type": "code",
   "execution_count": 6,
   "id": "2894c538",
   "metadata": {},
   "outputs": [
    {
     "name": "stdout",
     "output_type": "stream",
     "text": [
      "{'Ironman', 'Hawkeye', 'Antman', 'Widow', 'Captain America'}\n"
     ]
    }
   ],
   "source": [
    "a={\"Ironman\",\"Captain America\",\"Hawkeye\",\"Widow\",\"Antman\"}\n",
    "print(a)"
   ]
  },
  {
   "cell_type": "markdown",
   "id": "77a3c5ef",
   "metadata": {},
   "source": [
    "# Add()"
   ]
  },
  {
   "cell_type": "code",
   "execution_count": 7,
   "id": "317edaf7",
   "metadata": {},
   "outputs": [],
   "source": [
    "a.add(\"Hulk\")"
   ]
  },
  {
   "cell_type": "code",
   "execution_count": 8,
   "id": "c1c7188e",
   "metadata": {},
   "outputs": [
    {
     "name": "stdout",
     "output_type": "stream",
     "text": [
      "{'Ironman', 'Hawkeye', 'Hulk', 'Antman', 'Widow', 'Captain America'}\n"
     ]
    }
   ],
   "source": [
    "print(a)"
   ]
  },
  {
   "cell_type": "code",
   "execution_count": 10,
   "id": "21341754",
   "metadata": {},
   "outputs": [
    {
     "data": {
      "text/plain": [
       "{'Spiderman'}"
      ]
     },
     "execution_count": 10,
     "metadata": {},
     "output_type": "execute_result"
    }
   ],
   "source": [
    "set1={'Ironman', 'Hawkeye', 'Hulk', 'Antman', 'Widow', 'Captain America'}\n",
    "set2={'Ironman', 'Hawkeye', 'Hulk', 'Antman', 'Widow', 'Captain America',\"Spiderman\"}\n",
    "set2.difference(set1)"
   ]
  },
  {
   "cell_type": "code",
   "execution_count": 11,
   "id": "51abb656",
   "metadata": {},
   "outputs": [],
   "source": [
    "set1={'Ironman', 'Hawkeye', 'Hulk', 'Antman', 'Widow', 'Captain America'}\n",
    "set2={'Ironman', 'Hawkeye', 'Hulk', 'Antman', 'Widow', 'Captain America',\"Spiderman\"}\n",
    "set2.difference_update(set1)"
   ]
  },
  {
   "cell_type": "code",
   "execution_count": 12,
   "id": "9faa0c5f",
   "metadata": {},
   "outputs": [
    {
     "data": {
      "text/plain": [
       "{'Spiderman'}"
      ]
     },
     "execution_count": 12,
     "metadata": {},
     "output_type": "execute_result"
    }
   ],
   "source": [
    "set2"
   ]
  },
  {
   "cell_type": "code",
   "execution_count": 13,
   "id": "64324618",
   "metadata": {},
   "outputs": [
    {
     "data": {
      "text/plain": [
       "{'Antman', 'Captain America', 'Hawkeye', 'Hulk', 'Ironman', 'Widow'}"
      ]
     },
     "execution_count": 13,
     "metadata": {},
     "output_type": "execute_result"
    }
   ],
   "source": [
    "set1={'Ironman', 'Hawkeye', 'Hulk', 'Antman', 'Widow', 'Captain America'}\n",
    "set2={'Ironman', 'Hawkeye', 'Hulk', 'Antman', 'Widow', 'Captain America',\"Spiderman\"}\n",
    "set2.intersection(set1)#intersection means common element of the set "
   ]
  },
  {
   "cell_type": "code",
   "execution_count": 14,
   "id": "1f0dc0c2",
   "metadata": {},
   "outputs": [],
   "source": [
    "set2.intersection_update(set1)"
   ]
  },
  {
   "cell_type": "code",
   "execution_count": 15,
   "id": "d75adfd0",
   "metadata": {},
   "outputs": [
    {
     "name": "stdout",
     "output_type": "stream",
     "text": [
      "{'Ironman', 'Hulk', 'Hawkeye', 'Antman', 'Widow', 'Captain America'}\n"
     ]
    }
   ],
   "source": [
    "print(set2)"
   ]
  },
  {
   "cell_type": "code",
   "execution_count": 16,
   "id": "c7b1625b",
   "metadata": {},
   "outputs": [
    {
     "name": "stdout",
     "output_type": "stream",
     "text": [
      "Ironman\n",
      "Hawkeye\n",
      "Captain America\n",
      "Hulk\n",
      "Antman\n",
      "Widow\n",
      "Spiderman\n"
     ]
    }
   ],
   "source": [
    "a={'Ironman', 'Hawkeye', 'Hulk', 'Antman', 'Widow', 'Captain America',\"Spiderman\"}\n",
    "\n",
    "for i in a :\n",
    "    print(i)"
   ]
  },
  {
   "cell_type": "code",
   "execution_count": 17,
   "id": "80b7daba",
   "metadata": {},
   "outputs": [
    {
     "name": "stdout",
     "output_type": "stream",
     "text": [
      "True\n"
     ]
    }
   ],
   "source": [
    "print(\"Ironman\" in a)"
   ]
  },
  {
   "cell_type": "code",
   "execution_count": 18,
   "id": "42858c1e",
   "metadata": {},
   "outputs": [
    {
     "name": "stdout",
     "output_type": "stream",
     "text": [
      "False\n"
     ]
    }
   ],
   "source": [
    "print(\"Black Panther\" in a)"
   ]
  },
  {
   "cell_type": "markdown",
   "id": "a0c995f0",
   "metadata": {},
   "source": [
    "# Change Items\n",
    "Once a set is created, you cannot change its items, but you can add new items."
   ]
  },
  {
   "cell_type": "code",
   "execution_count": 20,
   "id": "cd987732",
   "metadata": {},
   "outputs": [
    {
     "name": "stdout",
     "output_type": "stream",
     "text": [
      "{0, 1, 2, 3, 4, 5, 6, 7, 8, 9}\n"
     ]
    }
   ],
   "source": [
    "a={1,2,3,4,5}\n",
    "b={6,7,8,9,0}\n",
    "a.update(b)\n",
    "print(a)"
   ]
  },
  {
   "cell_type": "markdown",
   "id": "5ff3f8a5",
   "metadata": {},
   "source": [
    "# Add Any Iterable\n",
    "The object in the update() method does not have to be a set, it can be any iterable object (tuples, lists, dictionaries etc.)."
   ]
  },
  {
   "cell_type": "code",
   "execution_count": 22,
   "id": "eb0e760b",
   "metadata": {},
   "outputs": [
    {
     "name": "stdout",
     "output_type": "stream",
     "text": [
      "{0, 1, 2, 3, 4, 5, 6, 7, 8, 9}\n"
     ]
    }
   ],
   "source": [
    "a={1,2,3,4,5}\n",
    "b=[6,7,8,9,0]\n",
    "a.update(b)\n",
    "print(a)"
   ]
  },
  {
   "cell_type": "markdown",
   "id": "fd687202",
   "metadata": {},
   "source": [
    "# Remove Item\n",
    "To remove an item in a set, use the remove(), or the discard() method."
   ]
  },
  {
   "cell_type": "code",
   "execution_count": 24,
   "id": "9e0d9605",
   "metadata": {},
   "outputs": [
    {
     "name": "stdout",
     "output_type": "stream",
     "text": [
      "{1, 2, 3, 4, 5, 6, 7, 8, 9}\n"
     ]
    }
   ],
   "source": [
    "a={0, 1, 2, 3, 4, 5, 6, 7, 8, 9}\n",
    "a.remove(0)\n",
    "print(a)"
   ]
  },
  {
   "cell_type": "code",
   "execution_count": 25,
   "id": "05de7645",
   "metadata": {},
   "outputs": [
    {
     "name": "stdout",
     "output_type": "stream",
     "text": [
      "{'Ironman', 'Hawkeye', 'Captain America', 'Hulk', 'Antman', 'Widow'}\n"
     ]
    }
   ],
   "source": [
    "a={'Ironman', 'Hawkeye', 'Hulk', 'Antman', 'Widow', 'Captain America',\"Spiderman\"}\n",
    "a.remove(\"Spiderman\")\n",
    "print(a)"
   ]
  },
  {
   "cell_type": "code",
   "execution_count": 26,
   "id": "097cfa8a",
   "metadata": {},
   "outputs": [
    {
     "name": "stdout",
     "output_type": "stream",
     "text": [
      "{'Ironman', 'Hawkeye', 'Captain America', 'Hulk', 'Antman', 'Widow'}\n"
     ]
    }
   ],
   "source": [
    "a={'Ironman', 'Hawkeye', 'Hulk', 'Antman', 'Widow', 'Captain America',\"Spiderman\"}\n",
    "a.discard(\"Spiderman\")\n",
    "print(a)"
   ]
  },
  {
   "cell_type": "code",
   "execution_count": 27,
   "id": "3c6f8b6c",
   "metadata": {},
   "outputs": [
    {
     "name": "stdout",
     "output_type": "stream",
     "text": [
      "{1, 2, 3, 4, 5, 6, 7, 8, 9}\n"
     ]
    }
   ],
   "source": [
    "a={0, 1, 2, 3, 4, 5, 6, 7, 8, 9}\n",
    "a.discard(0)\n",
    "print(a)"
   ]
  },
  {
   "cell_type": "code",
   "execution_count": 29,
   "id": "44fa75ad",
   "metadata": {},
   "outputs": [
    {
     "name": "stdout",
     "output_type": "stream",
     "text": [
      "{1, 2, 3, 4, 5, 6, 7, 8, 9}\n"
     ]
    }
   ],
   "source": [
    "a={0, 1, 2, 3, 4, 5, 6, 7, 8, 9}\n",
    "a.pop()#Sets are unordered, so when using the pop() method, you do not know which item that gets removed.\n",
    "print(a)"
   ]
  },
  {
   "cell_type": "code",
   "execution_count": 30,
   "id": "89481167",
   "metadata": {},
   "outputs": [
    {
     "name": "stdout",
     "output_type": "stream",
     "text": [
      "set()\n"
     ]
    }
   ],
   "source": [
    "a={0, 1, 2, 3, 4, 5, 6, 7, 8, 9}\n",
    "a.clear()\n",
    "print(a)"
   ]
  },
  {
   "cell_type": "code",
   "execution_count": 33,
   "id": "76b8e32d",
   "metadata": {},
   "outputs": [
    {
     "ename": "NameError",
     "evalue": "name 'a' is not defined",
     "output_type": "error",
     "traceback": [
      "\u001b[1;31m---------------------------------------------------------------------------\u001b[0m",
      "\u001b[1;31mNameError\u001b[0m                                 Traceback (most recent call last)",
      "Cell \u001b[1;32mIn[33], line 3\u001b[0m\n\u001b[0;32m      1\u001b[0m a\u001b[38;5;241m=\u001b[39m{\u001b[38;5;241m0\u001b[39m, \u001b[38;5;241m1\u001b[39m, \u001b[38;5;241m2\u001b[39m, \u001b[38;5;241m3\u001b[39m, \u001b[38;5;241m4\u001b[39m, \u001b[38;5;241m5\u001b[39m, \u001b[38;5;241m6\u001b[39m, \u001b[38;5;241m7\u001b[39m, \u001b[38;5;241m8\u001b[39m, \u001b[38;5;241m9\u001b[39m}\n\u001b[0;32m      2\u001b[0m \u001b[38;5;28;01mdel\u001b[39;00m a\n\u001b[1;32m----> 3\u001b[0m \u001b[38;5;28mprint\u001b[39m(a)\n",
      "\u001b[1;31mNameError\u001b[0m: name 'a' is not defined"
     ]
    }
   ],
   "source": [
    "a={0, 1, 2, 3, 4, 5, 6, 7, 8, 9}\n",
    "del a\n",
    "print(a)#The del keyword will delete the set completely:"
   ]
  },
  {
   "cell_type": "markdown",
   "id": "5b29fb54",
   "metadata": {},
   "source": [
    "### Python - Join Sets"
   ]
  },
  {
   "cell_type": "markdown",
   "id": "64057d08",
   "metadata": {},
   "source": [
    "There are several ways to join two or more sets in Python.\n",
    "\n",
    "The union() and update() methods joins all items from both sets.\n",
    "\n",
    "The intersection() method keeps ONLY the duplicates.\n",
    "\n",
    "The difference() method keeps the items from the first set that are not in the other set(s).\n",
    "\n",
    "The symmetric_difference() method keeps all items EXCEPT the duplicates."
   ]
  },
  {
   "cell_type": "code",
   "execution_count": 36,
   "id": "7e883758",
   "metadata": {},
   "outputs": [
    {
     "name": "stdout",
     "output_type": "stream",
     "text": [
      "{0, 1, 2, 3, 4, 5, 6, 7, 8, 9}\n"
     ]
    }
   ],
   "source": [
    "a={1,2,3,4,5}\n",
    "b={6,7,8,9,0}\n",
    "c=a.union(b)#The union() method returns a new set with all items from both sets.\n",
    "print(c)"
   ]
  },
  {
   "cell_type": "markdown",
   "id": "b4add7a2",
   "metadata": {},
   "source": [
    "You can use the | operator instead of the union() method, and you will get the same result."
   ]
  },
  {
   "cell_type": "code",
   "execution_count": 38,
   "id": "cf53d96d",
   "metadata": {},
   "outputs": [
    {
     "name": "stdout",
     "output_type": "stream",
     "text": [
      "{0, 1, 2, 3, 4, 5, 6, 7, 8, 9}\n"
     ]
    }
   ],
   "source": [
    "a={1,2,3,4,5}\n",
    "b={6,7,8,9,0}\n",
    "c=a|b#The union() method returns a new set with all items from both sets.\n",
    "print(c)"
   ]
  },
  {
   "cell_type": "markdown",
   "id": "33d9d84c",
   "metadata": {},
   "source": [
    "# Join Multiple Sets\n",
    "All the joining methods and operators can be used to join multiple sets.\n",
    "\n",
    "When using a method, just add more sets in the parentheses, separated by commas:"
   ]
  },
  {
   "cell_type": "code",
   "execution_count": 39,
   "id": "957f2f73",
   "metadata": {},
   "outputs": [
    {
     "name": "stdout",
     "output_type": "stream",
     "text": [
      "{'c', 1, 2, 3, 'Elena', 'cherry', 'apple', 'b', 'bananas', 'a', 'John'}\n"
     ]
    }
   ],
   "source": [
    "set1 = {\"a\", \"b\", \"c\"}\n",
    "set2 = {1, 2, 3}\n",
    "set3 = {\"John\", \"Elena\"}\n",
    "set4 = {\"apple\", \"bananas\", \"cherry\"}\n",
    "\n",
    "myset = set1.union(set2, set3, set4)\n",
    "print(myset)"
   ]
  },
  {
   "cell_type": "code",
   "execution_count": 40,
   "id": "05a2ce81",
   "metadata": {},
   "outputs": [
    {
     "name": "stdout",
     "output_type": "stream",
     "text": [
      "{0, 1, 2, 3, 4, 5, 6, 7, 8, 9, 11, 12, 13, 14, 15, 16, 17, 18, 20, 21, 23, 24, 25}\n"
     ]
    }
   ],
   "source": [
    "a={1,2,3,4,5}\n",
    "b={6,7,8,9,0}\n",
    "c={11,12,13,14,15,16,17,18}\n",
    "d={20,21,23,24,25}\n",
    "\n",
    "myset=a.union(b,c,d)\n",
    "print(myset)"
   ]
  },
  {
   "cell_type": "code",
   "execution_count": 41,
   "id": "1cfd7410",
   "metadata": {},
   "outputs": [
    {
     "name": "stdout",
     "output_type": "stream",
     "text": [
      "{0, 1, 2, 3, 4, 5, 6, 7, 8, 9, 11, 12, 13, 14, 15, 16, 17, 18, 20, 21, 23, 24, 25}\n"
     ]
    }
   ],
   "source": [
    "a={1,2,3,4,5}\n",
    "b={6,7,8,9,0}\n",
    "c={11,12,13,14,15,16,17,18}\n",
    "d={20,21,23,24,25}\n",
    "\n",
    "myset=a|b|c|d\n",
    "print(myset)"
   ]
  },
  {
   "cell_type": "markdown",
   "id": "a7405a3b",
   "metadata": {},
   "source": [
    "### Join a Set and a Tuple\n",
    "The union() method allows you to join a set with other data types, like lists or tuples."
   ]
  },
  {
   "cell_type": "code",
   "execution_count": 42,
   "id": "4c6fa9c6",
   "metadata": {},
   "outputs": [
    {
     "name": "stdout",
     "output_type": "stream",
     "text": [
      "{'c', 1, 2, 3, 4, 5, 'a', 'b'}\n"
     ]
    }
   ],
   "source": [
    "a={1,2,3,4,5}\n",
    "b=(\"a\",\"b\",\"c\")\n",
    "\n",
    "c=a.union(b)\n",
    "print(c)"
   ]
  },
  {
   "cell_type": "code",
   "execution_count": 43,
   "id": "fda1ed73",
   "metadata": {},
   "outputs": [
    {
     "ename": "TypeError",
     "evalue": "unsupported operand type(s) for |: 'set' and 'list'",
     "output_type": "error",
     "traceback": [
      "\u001b[1;31m---------------------------------------------------------------------------\u001b[0m",
      "\u001b[1;31mTypeError\u001b[0m                                 Traceback (most recent call last)",
      "Cell \u001b[1;32mIn[43], line 4\u001b[0m\n\u001b[0;32m      1\u001b[0m a\u001b[38;5;241m=\u001b[39m{\u001b[38;5;241m1\u001b[39m,\u001b[38;5;241m2\u001b[39m,\u001b[38;5;241m3\u001b[39m,\u001b[38;5;241m4\u001b[39m,\u001b[38;5;241m5\u001b[39m}\n\u001b[0;32m      2\u001b[0m b\u001b[38;5;241m=\u001b[39m[\u001b[38;5;124m\"\u001b[39m\u001b[38;5;124ma\u001b[39m\u001b[38;5;124m\"\u001b[39m,\u001b[38;5;124m\"\u001b[39m\u001b[38;5;124mb\u001b[39m\u001b[38;5;124m\"\u001b[39m,\u001b[38;5;124m\"\u001b[39m\u001b[38;5;124mc\u001b[39m\u001b[38;5;124m\"\u001b[39m]\n\u001b[1;32m----> 4\u001b[0m c\u001b[38;5;241m=\u001b[39ma\u001b[38;5;241m|\u001b[39mb\n\u001b[0;32m      5\u001b[0m \u001b[38;5;28mprint\u001b[39m(c)\n",
      "\u001b[1;31mTypeError\u001b[0m: unsupported operand type(s) for |: 'set' and 'list'"
     ]
    }
   ],
   "source": [
    "a={1,2,3,4,5}\n",
    "b=[\"a\",\"b\",\"c\"]\n",
    "\n",
    "c=a|b\n",
    "print(c)"
   ]
  },
  {
   "cell_type": "markdown",
   "id": "2727dc04",
   "metadata": {},
   "source": [
    " The  | operator only allows you to join sets with sets, and not with other data types like you can with the  union() method."
   ]
  },
  {
   "cell_type": "code",
   "execution_count": 44,
   "id": "8d79f6f4",
   "metadata": {},
   "outputs": [
    {
     "name": "stdout",
     "output_type": "stream",
     "text": [
      "{'c', 1, 2, 3, 4, 5, 'a', 'b'}\n"
     ]
    }
   ],
   "source": [
    "a={1,2,3,4,5}\n",
    "b=[\"a\",\"b\",\"c\"]\n",
    "\n",
    "c=a.union(b)\n",
    "print(c)"
   ]
  },
  {
   "cell_type": "markdown",
   "id": "bcf0d21c",
   "metadata": {},
   "source": [
    "# Update\n",
    "The update() method inserts all items from one set into another.\n",
    "\n",
    "The update() changes the original set, and does not return a new set."
   ]
  },
  {
   "cell_type": "code",
   "execution_count": 48,
   "id": "a8e9148a",
   "metadata": {},
   "outputs": [
    {
     "name": "stdout",
     "output_type": "stream",
     "text": [
      "{'c', 1, 2, 3, 4, 5, 'b', 'a'}\n"
     ]
    }
   ],
   "source": [
    "a={1,2,3,4,5}\n",
    "b={\"a\",\"b\",\"c\"}\n",
    "\n",
    "a.update(b)\n",
    "print(a)"
   ]
  },
  {
   "cell_type": "code",
   "execution_count": 49,
   "id": "4d3b9556",
   "metadata": {},
   "outputs": [
    {
     "name": "stdout",
     "output_type": "stream",
     "text": [
      "{'apple'}\n"
     ]
    }
   ],
   "source": [
    "set1 = {\"apple\", \"banana\", \"cherry\"}\n",
    "set2 = {\"google\", \"microsoft\", \"apple\"}\n",
    "\n",
    "set3 = set1.intersection(set2)\n",
    "print(set3)"
   ]
  },
  {
   "cell_type": "code",
   "execution_count": 50,
   "id": "7436cd9b",
   "metadata": {},
   "outputs": [
    {
     "name": "stdout",
     "output_type": "stream",
     "text": [
      "{'apple'}\n"
     ]
    }
   ],
   "source": [
    "set1 = {\"apple\", \"banana\", \"cherry\"}\n",
    "set2 = {\"google\", \"microsoft\", \"apple\"}\n",
    "\n",
    "set3 = set1 & set2 #You can use the & operator instead of the intersection() method, and you will get the same result.\n",
    "print(set3)"
   ]
  },
  {
   "cell_type": "code",
   "execution_count": 51,
   "id": "cdd4f9f5",
   "metadata": {},
   "outputs": [
    {
     "name": "stdout",
     "output_type": "stream",
     "text": [
      "{'apple'}\n"
     ]
    }
   ],
   "source": [
    "set1 = {\"apple\", \"banana\", \"cherry\"}\n",
    "set2 = {\"google\", \"microsoft\", \"apple\"}\n",
    "\n",
    "set1.intersection_update(set2)\n",
    "\n",
    "print(set1)"
   ]
  },
  {
   "cell_type": "markdown",
   "id": "3178c727",
   "metadata": {},
   "source": [
    "The values True and 1 are considered the same value. The same goes for False and 0."
   ]
  },
  {
   "cell_type": "code",
   "execution_count": 52,
   "id": "35a7461b",
   "metadata": {},
   "outputs": [
    {
     "name": "stdout",
     "output_type": "stream",
     "text": [
      "{False, 1, 'apple'}\n"
     ]
    }
   ],
   "source": [
    "set1 = {\"apple\", 1,  \"banana\", 0, \"cherry\"}\n",
    "set2 = {False, \"google\", 1, \"apple\", 2, True}\n",
    "\n",
    "set3 = set1.intersection(set2)\n",
    "\n",
    "print(set3)"
   ]
  },
  {
   "cell_type": "markdown",
   "id": "ff7e41a2",
   "metadata": {},
   "source": [
    "### Difference\n",
    "The difference() method will return a new set that will contain only the items from the first set that are not present in the other set."
   ]
  },
  {
   "cell_type": "code",
   "execution_count": 54,
   "id": "8d8d08c7",
   "metadata": {},
   "outputs": [
    {
     "name": "stdout",
     "output_type": "stream",
     "text": [
      "{'cherry', 'banana'}\n"
     ]
    }
   ],
   "source": [
    "set1 = {\"apple\", \"banana\", \"cherry\"}\n",
    "set2 = {\"google\", \"microsoft\", \"apple\"}\n",
    "\n",
    "set3 = set1.difference(set2)\n",
    "\n",
    "print(set3)"
   ]
  },
  {
   "cell_type": "markdown",
   "id": "e1007a53",
   "metadata": {},
   "source": [
    " You can use the - operator instead of the difference() method, and you will get the same result."
   ]
  },
  {
   "cell_type": "code",
   "execution_count": 55,
   "id": "14a64f1f",
   "metadata": {},
   "outputs": [
    {
     "name": "stdout",
     "output_type": "stream",
     "text": [
      "{'cherry', 'banana'}\n"
     ]
    }
   ],
   "source": [
    "set1 = {\"apple\", \"banana\", \"cherry\"}\n",
    "set2 = {\"google\", \"microsoft\", \"apple\"}\n",
    "\n",
    "set3 = set1 - set2\n",
    "print(set3)"
   ]
  },
  {
   "cell_type": "markdown",
   "id": "a44fc78f",
   "metadata": {},
   "source": [
    "# Symmetric Differences\n",
    "The symmetric_difference() method will keep only the elements that are NOT present in both sets"
   ]
  },
  {
   "cell_type": "code",
   "execution_count": 56,
   "id": "6350bbb7",
   "metadata": {},
   "outputs": [
    {
     "name": "stdout",
     "output_type": "stream",
     "text": [
      "{'google', 'cherry', 'microsoft', 'banana'}\n"
     ]
    }
   ],
   "source": [
    "set1 = {\"apple\", \"banana\", \"cherry\"}\n",
    "set2 = {\"google\", \"microsoft\", \"apple\"}\n",
    "\n",
    "set3 = set1.symmetric_difference(set2)\n",
    "\n",
    "print(set3)"
   ]
  },
  {
   "cell_type": "markdown",
   "id": "471eac52",
   "metadata": {},
   "source": [
    "You can use the ^ operator instead of the symmetric_difference() method, and you will get the same result."
   ]
  },
  {
   "cell_type": "code",
   "execution_count": 57,
   "id": "19210d02",
   "metadata": {},
   "outputs": [
    {
     "name": "stdout",
     "output_type": "stream",
     "text": [
      "{'google', 'cherry', 'microsoft', 'banana'}\n"
     ]
    }
   ],
   "source": [
    "set1 = {\"apple\", \"banana\", \"cherry\"}\n",
    "set2 = {\"google\", \"microsoft\", \"apple\"}\n",
    "\n",
    "set3 = set1 ^ set2\n",
    "print(set3)"
   ]
  },
  {
   "cell_type": "code",
   "execution_count": null,
   "id": "460b06fc",
   "metadata": {},
   "outputs": [],
   "source": []
  }
 ],
 "metadata": {
  "kernelspec": {
   "display_name": "Python 3 (ipykernel)",
   "language": "python",
   "name": "python3"
  },
  "language_info": {
   "codemirror_mode": {
    "name": "ipython",
    "version": 3
   },
   "file_extension": ".py",
   "mimetype": "text/x-python",
   "name": "python",
   "nbconvert_exporter": "python",
   "pygments_lexer": "ipython3",
   "version": "3.11.5"
  }
 },
 "nbformat": 4,
 "nbformat_minor": 5
}
